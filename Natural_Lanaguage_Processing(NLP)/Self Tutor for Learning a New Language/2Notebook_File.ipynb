{
 "cells": [
  {
   "cell_type": "markdown",
   "id": "6b020bc7-47d0-4de6-8e87-189be5008293",
   "metadata": {},
   "source": [
    "# Self Tutor for Learning a New Language"
   ]
  },
  {
   "cell_type": "markdown",
   "id": "e318263f-8369-4a0b-8a23-bc10d7134a8f",
   "metadata": {},
   "source": [
    "## About "
   ]
  },
  {
   "cell_type": "markdown",
   "id": "b3735d3e-7a07-4aef-8355-a787a74d3418",
   "metadata": {},
   "source": [
    "With today’s natural language  tools, including inter-language translation, speech-to-text and text-to-speech in various  languages, you can build a self-tutor that will help you learn new languages. In this project, I write  a\n",
    "script that allows you to indicate the language you wish to learn  then allow you to  say something in English, transcribe your speech to text, translate it to the selected language and use text-to-speech to speak the translated text back to you so you can hear it. \n",
    "\n",
    "Later I try this script on the sentence; \"If you judge people, you have no time to love them\".\n",
    "I test it on the 7 most spoken languages worldwide, excluding English. Namely:\n",
    "\n",
    "1.  Chinese (simplified)\n",
    "2.  Spanish\n",
    "3.  Arabic\n",
    "4.  Hindi\n",
    "5.  Bengali\n",
    "6.  Portuguese\n",
    "7.  Russian\n"
   ]
  },
  {
   "cell_type": "markdown",
   "id": "58dd52d7-6b84-41a1-97ce-f015f5bbdbe3",
   "metadata": {},
   "source": [
    "## Implementation"
   ]
  },
  {
   "cell_type": "markdown",
   "id": "cfeb4210-d4cd-436d-b16e-088183092de1",
   "metadata": {},
   "source": [
    "**Importing required packages**"
   ]
  },
  {
   "cell_type": "code",
   "execution_count": 30,
   "id": "33300ac0-200b-4743-913c-43b0de89b684",
   "metadata": {},
   "outputs": [],
   "source": [
    "import googletrans\n",
    "from googletrans import Translator #for inter language translation\n",
    "import speech_recognition as sr #for speech to text\n",
    "from gtts import gTTS # for text to text\n",
    "import os"
   ]
  },
  {
   "cell_type": "markdown",
   "id": "6e755470-76c9-45cf-a555-173bd953fe4e",
   "metadata": {},
   "source": [
    "**Writing the python script**"
   ]
  },
  {
   "cell_type": "markdown",
   "id": "069cb68d-af9d-4064-a532-85d8945db879",
   "metadata": {},
   "source": [
    "The python script was implemented as `learn_new_lang.py` file. The source code developed is shown below"
   ]
  },
  {
   "cell_type": "code",
   "execution_count": 39,
   "id": "4ffed178-96fe-43a1-806a-bf459919b2fc",
   "metadata": {
    "scrolled": true
   },
   "outputs": [
    {
     "data": {
      "text/plain": [
       "\u001b[1;31mType:\u001b[0m        module\n",
       "\u001b[1;31mString form:\u001b[0m <module 'learn_new_lang' from 'D:\\\\python projects\\\\Data science portifolio\\\\Natural_Lanaguage_Processing(NLP)\\\\Self Tutor for Learning a New Language\\\\learn_new_lang.py'>\n",
       "\u001b[1;31mFile:\u001b[0m        d:\\python projects\\data science portifolio\\natural_lanaguage_processing(nlp)\\self tutor for learning a new language\\learn_new_lang.py\n",
       "\u001b[1;31mSource:\u001b[0m     \n",
       "\u001b[1;31m#Loading libraries\u001b[0m\u001b[1;33m\n",
       "\u001b[0m\u001b[1;32mimport\u001b[0m \u001b[0mgoogletrans\u001b[0m\u001b[1;33m\n",
       "\u001b[0m\u001b[1;32mfrom\u001b[0m \u001b[0mgoogletrans\u001b[0m \u001b[1;32mimport\u001b[0m \u001b[0mTranslator\u001b[0m \u001b[1;31m#for inter language translation\u001b[0m\u001b[1;33m\n",
       "\u001b[0m\u001b[1;32mimport\u001b[0m \u001b[0mspeech_recognition\u001b[0m \u001b[1;32mas\u001b[0m \u001b[0msr\u001b[0m \u001b[1;31m#for speech to text\u001b[0m\u001b[1;33m\n",
       "\u001b[0m\u001b[1;32mfrom\u001b[0m \u001b[0mgtts\u001b[0m \u001b[1;32mimport\u001b[0m \u001b[0mgTTS\u001b[0m \u001b[1;31m# for text to text\u001b[0m\u001b[1;33m\n",
       "\u001b[0m\u001b[1;32mimport\u001b[0m \u001b[0mos\u001b[0m\u001b[1;33m\n",
       "\u001b[0m\u001b[1;33m\n",
       "\u001b[0m\u001b[1;31m#Obtaining the language from the user\u001b[0m\u001b[1;33m\n",
       "\u001b[0m\u001b[0mlanguage\u001b[0m \u001b[1;33m=\u001b[0m \u001b[0minput\u001b[0m\u001b[1;33m(\u001b[0m\u001b[1;34m\"\"\"What language would you like to learn today? e.g 'chinese (simplified)': \"\"\"\u001b[0m\u001b[1;33m)\u001b[0m\u001b[1;33m\n",
       "\u001b[0m\u001b[0mlanguage\u001b[0m \u001b[1;33m=\u001b[0m \u001b[0mlanguage\u001b[0m\u001b[1;33m.\u001b[0m\u001b[0mlower\u001b[0m\u001b[1;33m(\u001b[0m\u001b[1;33m)\u001b[0m\u001b[1;33m\n",
       "\u001b[0m\u001b[0mprint\u001b[0m\u001b[1;33m(\u001b[0m\u001b[1;33m)\u001b[0m\u001b[1;33m\n",
       "\u001b[0m\u001b[1;33m\n",
       "\u001b[0m\u001b[1;31m#Validating the availability of language in google translate\u001b[0m\u001b[1;33m\n",
       "\u001b[0m\u001b[0mgoogle_lang\u001b[0m \u001b[1;33m=\u001b[0m  \u001b[1;33m[\u001b[0m\u001b[0mlang\u001b[0m \u001b[1;32mfor\u001b[0m \u001b[0mlang\u001b[0m \u001b[1;32min\u001b[0m \u001b[0mgoogletrans\u001b[0m\u001b[1;33m.\u001b[0m\u001b[0mLANGUAGES\u001b[0m\u001b[1;33m.\u001b[0m\u001b[0mvalues\u001b[0m\u001b[1;33m(\u001b[0m\u001b[1;33m)\u001b[0m\u001b[1;33m]\u001b[0m\u001b[1;33m\n",
       "\u001b[0m\u001b[1;32mif\u001b[0m \u001b[1;32mnot\u001b[0m \u001b[1;33m(\u001b[0m\u001b[0mlanguage\u001b[0m \u001b[1;32min\u001b[0m \u001b[0mgoogle_lang\u001b[0m \u001b[1;33m)\u001b[0m\u001b[1;33m:\u001b[0m\u001b[1;33m\n",
       "\u001b[0m    \u001b[1;32mraise\u001b[0m \u001b[0mValueError\u001b[0m\u001b[1;33m(\u001b[0m\u001b[1;34m'Sorry, the selected language is not supported at the moment. Try another language'\u001b[0m\u001b[1;33m)\u001b[0m\u001b[1;33m\n",
       "\u001b[0m\u001b[1;33m\n",
       "\u001b[0m\u001b[1;31m#Speech to text in action!!\u001b[0m\u001b[1;33m\n",
       "\u001b[0m\u001b[1;33m\n",
       "\u001b[0m\u001b[1;31m# initialize the recognizer\u001b[0m\u001b[1;33m\n",
       "\u001b[0m\u001b[0mr\u001b[0m \u001b[1;33m=\u001b[0m \u001b[0msr\u001b[0m\u001b[1;33m.\u001b[0m\u001b[0mRecognizer\u001b[0m\u001b[1;33m(\u001b[0m\u001b[1;33m)\u001b[0m\u001b[1;33m\n",
       "\u001b[0m\u001b[1;33m\n",
       "\u001b[0m\u001b[1;32mwith\u001b[0m \u001b[0msr\u001b[0m\u001b[1;33m.\u001b[0m\u001b[0mMicrophone\u001b[0m\u001b[1;33m(\u001b[0m\u001b[1;33m)\u001b[0m \u001b[1;32mas\u001b[0m \u001b[0msource\u001b[0m\u001b[1;33m:\u001b[0m\u001b[1;33m\n",
       "\u001b[0m    \u001b[1;31m# read the audio data from the default microphone\u001b[0m\u001b[1;33m\n",
       "\u001b[0m    \u001b[0mprint\u001b[0m \u001b[1;33m(\u001b[0m\u001b[1;34m\"Start recording audio (time limit: 18 sec)\"\u001b[0m\u001b[1;33m)\u001b[0m\u001b[1;33m\n",
       "\u001b[0m    \u001b[0maudio_data\u001b[0m \u001b[1;33m=\u001b[0m \u001b[0mr\u001b[0m\u001b[1;33m.\u001b[0m\u001b[0mrecord\u001b[0m\u001b[1;33m(\u001b[0m\u001b[0msource\u001b[0m\u001b[1;33m,\u001b[0m \u001b[0mduration\u001b[0m\u001b[1;33m=\u001b[0m\u001b[1;36m15\u001b[0m\u001b[1;33m)\u001b[0m\u001b[1;33m\n",
       "\u001b[0m    \u001b[0mprint\u001b[0m\u001b[1;33m(\u001b[0m\u001b[1;34m\"Recognizing audio...\"\u001b[0m\u001b[1;33m)\u001b[0m\u001b[1;33m\n",
       "\u001b[0m    \u001b[0mprint\u001b[0m\u001b[1;33m(\u001b[0m\u001b[1;33m)\u001b[0m\u001b[1;33m\n",
       "\u001b[0m    \u001b[1;31m# convert speech to text\u001b[0m\u001b[1;33m\n",
       "\u001b[0m    \u001b[0mtext\u001b[0m \u001b[1;33m=\u001b[0m \u001b[0mr\u001b[0m\u001b[1;33m.\u001b[0m\u001b[0mrecognize_google\u001b[0m\u001b[1;33m(\u001b[0m\u001b[0maudio_data\u001b[0m\u001b[1;33m)\u001b[0m\u001b[1;33m\n",
       "\u001b[0m    \u001b[0mprint\u001b[0m\u001b[1;33m(\u001b[0m\u001b[1;34mf'YOU SAID: {text}'\u001b[0m\u001b[1;33m)\u001b[0m\u001b[1;33m\n",
       "\u001b[0m    \u001b[0mprint\u001b[0m\u001b[1;33m(\u001b[0m\u001b[1;33m)\u001b[0m\u001b[1;33m\n",
       "\u001b[0m\u001b[1;33m\n",
       "\u001b[0m\u001b[0mprint\u001b[0m\u001b[1;33m(\u001b[0m\u001b[1;34mf'TRANSLATING:  {text} --->> {language} language'\u001b[0m\u001b[1;33m)\u001b[0m\u001b[1;33m\n",
       "\u001b[0m\u001b[0mprint\u001b[0m\u001b[1;33m(\u001b[0m\u001b[1;33m)\u001b[0m\u001b[1;33m\n",
       "\u001b[0m\u001b[1;33m\n",
       "\u001b[0m\u001b[1;31m# loading google translator\u001b[0m\u001b[1;33m\n",
       "\u001b[0m\u001b[0mtranslator\u001b[0m \u001b[1;33m=\u001b[0m \u001b[0mTranslator\u001b[0m\u001b[1;33m(\u001b[0m\u001b[1;33m)\u001b[0m \u001b[1;33m\n",
       "\u001b[0m\u001b[1;33m\n",
       "\u001b[0m\u001b[1;31m#translating...\u001b[0m\u001b[1;33m\n",
       "\u001b[0m\u001b[0mtranslation\u001b[0m \u001b[1;33m=\u001b[0m \u001b[0mtranslator\u001b[0m\u001b[1;33m.\u001b[0m\u001b[0mtranslate\u001b[0m\u001b[1;33m(\u001b[0m\u001b[0mtext\u001b[0m\u001b[1;33m,\u001b[0m \u001b[0mdest\u001b[0m \u001b[1;33m=\u001b[0m \u001b[0mlanguage\u001b[0m\u001b[1;33m)\u001b[0m\u001b[1;33m.\u001b[0m\u001b[0mtext\u001b[0m\u001b[1;33m\n",
       "\u001b[0m\u001b[0mprint\u001b[0m\u001b[1;33m(\u001b[0m\u001b[1;34mf'TRANSLATION: {translation}'\u001b[0m\u001b[1;33m)\u001b[0m\u001b[1;33m\n",
       "\u001b[0m\u001b[0mprint\u001b[0m\u001b[1;33m(\u001b[0m\u001b[1;33m)\u001b[0m\u001b[1;33m\n",
       "\u001b[0m\u001b[1;33m\n",
       "\u001b[0m\u001b[0mprint\u001b[0m\u001b[1;33m(\u001b[0m\u001b[1;34mf\"\"\"Please listen how you say: \"{text}\" in {language} language\"\"\"\u001b[0m\u001b[1;33m)\u001b[0m\u001b[1;33m\n",
       "\u001b[0m\u001b[1;33m\n",
       "\u001b[0m\u001b[1;31m# text to speech in action!!\u001b[0m\u001b[1;33m\n",
       "\u001b[0m\u001b[0mcodes\u001b[0m \u001b[1;33m=\u001b[0m \u001b[1;33m{\u001b[0m\u001b[0mvalue\u001b[0m\u001b[1;33m:\u001b[0m \u001b[0mkey\u001b[0m \u001b[1;32mfor\u001b[0m \u001b[0mkey\u001b[0m\u001b[1;33m,\u001b[0m \u001b[0mvalue\u001b[0m \u001b[1;32min\u001b[0m \u001b[0mgoogletrans\u001b[0m\u001b[1;33m.\u001b[0m\u001b[0mLANGUAGES\u001b[0m\u001b[1;33m.\u001b[0m\u001b[0mitems\u001b[0m\u001b[1;33m(\u001b[0m\u001b[1;33m)\u001b[0m\u001b[1;33m}\u001b[0m\u001b[1;33m\n",
       "\u001b[0m\u001b[0mcode\u001b[0m \u001b[1;33m=\u001b[0m \u001b[0mcodes\u001b[0m\u001b[1;33m[\u001b[0m\u001b[0mlanguage\u001b[0m\u001b[1;33m]\u001b[0m\u001b[1;33m\n",
       "\u001b[0m\u001b[0mmyobj\u001b[0m \u001b[1;33m=\u001b[0m \u001b[0mgTTS\u001b[0m\u001b[1;33m(\u001b[0m\u001b[0mtext\u001b[0m\u001b[1;33m=\u001b[0m \u001b[0mtranslation\u001b[0m\u001b[1;33m,\u001b[0m \u001b[0mlang\u001b[0m\u001b[1;33m=\u001b[0m\u001b[0mcode\u001b[0m\u001b[1;33m,\u001b[0m \u001b[0mslow\u001b[0m\u001b[1;33m=\u001b[0m\u001b[1;32mFalse\u001b[0m\u001b[1;33m)\u001b[0m\u001b[1;33m\n",
       "\u001b[0m\u001b[0mmyobj\u001b[0m\u001b[1;33m.\u001b[0m\u001b[0msave\u001b[0m\u001b[1;33m(\u001b[0m\u001b[1;34mf'{language}_version'\u001b[0m\u001b[1;33m+\u001b[0m\u001b[1;34m\".mp3\"\u001b[0m\u001b[1;33m)\u001b[0m\u001b[1;33m\n",
       "\u001b[0m\u001b[1;33m\n",
       "\u001b[0m\u001b[0mos\u001b[0m\u001b[1;33m.\u001b[0m\u001b[0msystem\u001b[0m\u001b[1;33m(\u001b[0m\u001b[1;34m\"start \"\u001b[0m\u001b[1;33m+\u001b[0m\u001b[1;34mf'{language}_version'\u001b[0m\u001b[1;33m+\u001b[0m\u001b[1;34m\".mp3\"\u001b[0m\u001b[1;33m)\u001b[0m\u001b[1;33m\u001b[0m\u001b[1;33m\u001b[0m\u001b[0m\n"
      ]
     },
     "metadata": {},
     "output_type": "display_data"
    }
   ],
   "source": [
    "import learn_new_lang as learn\n",
    "??learn"
   ]
  },
  {
   "cell_type": "markdown",
   "id": "c2f5b9b8-f938-4d80-81f3-fe1bf63f0dfc",
   "metadata": {},
   "source": [
    "## Test Driving the self tutor program"
   ]
  },
  {
   "cell_type": "markdown",
   "id": "448d34cc-a17a-4504-8a0f-2a3d786d6e46",
   "metadata": {},
   "source": [
    "**Note**: *The resulting translated audios are found in the folder containing this file.You can play them with any music player*"
   ]
  },
  {
   "cell_type": "markdown",
   "id": "e9c85de5-38e8-4235-8e68-59876e6eef11",
   "metadata": {},
   "source": [
    "**1. Testing Chinese (simplified)**"
   ]
  },
  {
   "cell_type": "code",
   "execution_count": 46,
   "id": "647fd48f-d284-4b61-b868-437b915f0f8d",
   "metadata": {},
   "outputs": [
    {
     "name": "stdin",
     "output_type": "stream",
     "text": [
      "What language would you like to learn today? e.g 'chinese (simplified)':  chinese (simplified)\n"
     ]
    },
    {
     "name": "stdout",
     "output_type": "stream",
     "text": [
      "\n",
      "Start recording audio (time limit: 18 sec)\n",
      "Recognizing audio...\n",
      "\n",
      "YOU SAID: if you judge people you have no time to love them\n",
      "\n",
      "TRANSLATING:  if you judge people you have no time to love them --->> chinese (simplified) language\n",
      "\n",
      "TRANSLATION: 如果您判断人们，您没有时间爱他们\n",
      "\n",
      "Please listen how you say: \"if you judge people you have no time to love them\" in chinese (simplified) language\n"
     ]
    }
   ],
   "source": [
    "run learn_new_lang.py"
   ]
  },
  {
   "cell_type": "markdown",
   "id": "eb73a60b-ce71-4266-8bd9-6f9b7b403336",
   "metadata": {},
   "source": [
    "**2. Testing  Spanish**"
   ]
  },
  {
   "cell_type": "code",
   "execution_count": 47,
   "id": "42fed23a-56b9-4460-a7c0-03ecd08e8088",
   "metadata": {},
   "outputs": [
    {
     "name": "stdin",
     "output_type": "stream",
     "text": [
      "What language would you like to learn today? e.g 'chinese (simplified)':  spanish\n"
     ]
    },
    {
     "name": "stdout",
     "output_type": "stream",
     "text": [
      "\n",
      "Start recording audio (time limit: 18 sec)\n",
      "Recognizing audio...\n",
      "\n",
      "YOU SAID: if you judge people you have no time to love them\n",
      "\n",
      "TRANSLATING:  if you judge people you have no time to love them --->> spanish language\n",
      "\n",
      "TRANSLATION: Si juzgas a las personas, no tienes tiempo para amarlas\n",
      "\n",
      "Please listen how you say: \"if you judge people you have no time to love them\" in spanish language\n"
     ]
    }
   ],
   "source": [
    "run learn_new_lang.py"
   ]
  },
  {
   "cell_type": "markdown",
   "id": "dd1c71b9-dca7-4a6f-9f38-115a76b007d8",
   "metadata": {},
   "source": [
    "**3. Testing  Arabic**"
   ]
  },
  {
   "cell_type": "code",
   "execution_count": 48,
   "id": "1493675d-cbfe-42dd-a823-054d3ebe44b5",
   "metadata": {},
   "outputs": [
    {
     "name": "stdin",
     "output_type": "stream",
     "text": [
      "What language would you like to learn today? e.g 'chinese (simplified)':  arabic\n"
     ]
    },
    {
     "name": "stdout",
     "output_type": "stream",
     "text": [
      "\n",
      "Start recording audio (time limit: 18 sec)\n",
      "Recognizing audio...\n",
      "\n",
      "YOU SAID: if you judge people you have no time to love them\n",
      "\n",
      "TRANSLATING:  if you judge people you have no time to love them --->> arabic language\n",
      "\n",
      "TRANSLATION: إذا كنت تحكم على أشخاص ليس لديك وقت لحبهم\n",
      "\n",
      "Please listen how you say: \"if you judge people you have no time to love them\" in arabic language\n"
     ]
    }
   ],
   "source": [
    "run learn_new_lang.py"
   ]
  },
  {
   "cell_type": "markdown",
   "id": "a11b7603-5da1-4f3a-a68f-874a7f0ef9b9",
   "metadata": {},
   "source": [
    "**4. Testing Hindi**"
   ]
  },
  {
   "cell_type": "code",
   "execution_count": 49,
   "id": "4dfa39eb-c919-4333-a026-01a86d1c7146",
   "metadata": {},
   "outputs": [
    {
     "name": "stdin",
     "output_type": "stream",
     "text": [
      "What language would you like to learn today? e.g 'chinese (simplified)':  hindi\n"
     ]
    },
    {
     "name": "stdout",
     "output_type": "stream",
     "text": [
      "\n",
      "Start recording audio (time limit: 18 sec)\n",
      "Recognizing audio...\n",
      "\n",
      "YOU SAID: if you judge people you have no time to love them\n",
      "\n",
      "TRANSLATING:  if you judge people you have no time to love them --->> hindi language\n",
      "\n",
      "TRANSLATION: यदि आप लोगों को जज करते हैं तो आपके पास उन्हें प्यार करने का समय नहीं है\n",
      "\n",
      "Please listen how you say: \"if you judge people you have no time to love them\" in hindi language\n"
     ]
    }
   ],
   "source": [
    "run learn_new_lang.py"
   ]
  },
  {
   "cell_type": "markdown",
   "id": "d74cdb57-0ece-4b21-b4c6-fec13a4e5cb0",
   "metadata": {},
   "source": [
    "**5. Testing  Bengali**"
   ]
  },
  {
   "cell_type": "code",
   "execution_count": 50,
   "id": "4fd14ba5-e70d-4c4e-9c09-359eeac9e9ce",
   "metadata": {},
   "outputs": [
    {
     "name": "stdin",
     "output_type": "stream",
     "text": [
      "What language would you like to learn today? e.g 'chinese (simplified)':  BENGALI\n"
     ]
    },
    {
     "name": "stdout",
     "output_type": "stream",
     "text": [
      "\n",
      "Start recording audio (time limit: 18 sec)\n",
      "Recognizing audio...\n",
      "\n",
      "YOU SAID: if you judge people you have no time to love them\n",
      "\n",
      "TRANSLATING:  if you judge people you have no time to love them --->> bengali language\n",
      "\n",
      "TRANSLATION: আপনি যদি লোকদের বিচার করেন তবে আপনার তাদের ভালবাসার সময় নেই\n",
      "\n",
      "Please listen how you say: \"if you judge people you have no time to love them\" in bengali language\n"
     ]
    }
   ],
   "source": [
    "run learn_new_lang.py"
   ]
  },
  {
   "cell_type": "markdown",
   "id": "e7b36c14-58ce-474b-8f76-dc38c5cc71f0",
   "metadata": {},
   "source": [
    "**6. Testing  Portuguese**"
   ]
  },
  {
   "cell_type": "code",
   "execution_count": 51,
   "id": "656f3a21-09fa-4f03-935b-fcfd4663dd3d",
   "metadata": {},
   "outputs": [
    {
     "name": "stdin",
     "output_type": "stream",
     "text": [
      "What language would you like to learn today? e.g 'chinese (simplified)':  Portuguese\n"
     ]
    },
    {
     "name": "stdout",
     "output_type": "stream",
     "text": [
      "\n",
      "Start recording audio (time limit: 18 sec)\n",
      "Recognizing audio...\n",
      "\n",
      "YOU SAID: if you judge people you have no time to love them\n",
      "\n",
      "TRANSLATING:  if you judge people you have no time to love them --->> portuguese language\n",
      "\n",
      "TRANSLATION: Se você julgar pessoas, não tem tempo para amá -las\n",
      "\n",
      "Please listen how you say: \"if you judge people you have no time to love them\" in portuguese language\n"
     ]
    }
   ],
   "source": [
    "run learn_new_lang.py"
   ]
  },
  {
   "cell_type": "markdown",
   "id": "c40247ee-7aee-4285-8c32-3bc46b140a5b",
   "metadata": {},
   "source": [
    "**7. Testing Russian**"
   ]
  },
  {
   "cell_type": "code",
   "execution_count": 52,
   "id": "4d296619-b82b-41d4-b9b4-13a097302bfd",
   "metadata": {},
   "outputs": [
    {
     "name": "stdin",
     "output_type": "stream",
     "text": [
      "What language would you like to learn today? e.g 'chinese (simplified)':  russian\n"
     ]
    },
    {
     "name": "stdout",
     "output_type": "stream",
     "text": [
      "\n",
      "Start recording audio (time limit: 18 sec)\n",
      "Recognizing audio...\n",
      "\n",
      "YOU SAID: if you judge people you have no time to love them\n",
      "\n",
      "TRANSLATING:  if you judge people you have no time to love them --->> russian language\n",
      "\n",
      "TRANSLATION: Если вы судите людей, у вас нет времени любить их\n",
      "\n",
      "Please listen how you say: \"if you judge people you have no time to love them\" in russian language\n"
     ]
    }
   ],
   "source": [
    "run learn_new_lang.py"
   ]
  }
 ],
 "metadata": {
  "kernelspec": {
   "display_name": "Python 3 (ipykernel)",
   "language": "python",
   "name": "python3"
  },
  "language_info": {
   "codemirror_mode": {
    "name": "ipython",
    "version": 3
   },
   "file_extension": ".py",
   "mimetype": "text/x-python",
   "name": "python",
   "nbconvert_exporter": "python",
   "pygments_lexer": "ipython3",
   "version": "3.9.13"
  }
 },
 "nbformat": 4,
 "nbformat_minor": 5
}
