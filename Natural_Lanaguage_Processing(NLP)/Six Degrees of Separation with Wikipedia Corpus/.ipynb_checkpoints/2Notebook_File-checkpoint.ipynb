{
 "cells": [
  {
   "cell_type": "markdown",
   "id": "4b71a0a5-9acd-4796-a5aa-272b5dd89d15",
   "metadata": {},
   "source": [
    "# Six Degrees of Separation with Wikipedia Corpus"
   ]
  },
  {
   "cell_type": "markdown",
   "id": "2078e33e-8fe7-40d4-8e5b-3e9be2b8faaf",
   "metadata": {},
   "source": [
    "## About"
   ]
  },
  {
   "cell_type": "markdown",
   "id": "a6a35838-b611-4b11-a0a1-e318656dc13b",
   "metadata": {},
   "source": [
    "You may have heard of the concept of \"six degrees of separation,\" which suggests that any two people on the planet can be connected through a chain of acquaintances with no more than six intermediaries. This idea is based on the observation that, by examining a person's connections to friends and family, and then extending that examination to their friends’ and family’s connections, one can often find a link between two individuals within six levels of separation.\n",
    "\n",
    "To explore the validity of the \"six degrees of separation\" theory, I have chosen to investigate the connections between the two richest individuals in the world as of June 13, 2024. According to [Forbes](https://www.forbes.com/billionaires/), the wealthiest person is  **Bernard Arnault**, followed by **Elon Musk**.\n",
    "\n",
    "The ultimate goal is to utilize Natural Language Processing (NLP) techniques to determine if there is a connection between *Bernard Arnault*  and  *Elon Musk* within the first six degrees of separation. "
   ]
  },
  {
   "cell_type": "markdown",
   "id": "2b504045-5303-4cb7-9f11-0cf35a50cef4",
   "metadata": {},
   "source": [
    "## Implementation Steps"
   ]
  },
  {
   "cell_type": "markdown",
   "id": "137736a8-20a5-4419-91a0-e728e44c2aa5",
   "metadata": {},
   "source": [
    "1. Load the Wikipedia of *Bernard Arnault*\n",
    "2. Use named entity recognition to locate any names in *Bernard Arnault*'s Wikipedia \n",
    " page\n",
    "3. Repeat step 1 & 2 above for the Wikipedia pages of each name found in step 2.\n",
    "4. Continue  this process six levels deep to build a graph of people connected to*Bernard Arnault*'s\r\n",
    " Wikipedia pag\n",
    "5. Along the way, check whether *Elon Musk's* name appears in the graph\n",
    "   e. "
   ]
  },
  {
   "cell_type": "markdown",
   "id": "51de38d4-beab-4417-b246-e97017bae4ce",
   "metadata": {},
   "source": [
    "## Executing the steps"
   ]
  },
  {
   "cell_type": "markdown",
   "id": "d13ff951-a3f9-4efb-8f35-fc32c62d5cab",
   "metadata": {},
   "source": [
    "**Loading the required libraries**"
   ]
  },
  {
   "cell_type": "code",
   "execution_count": 1,
   "id": "f58d1f47-c740-4ef0-a8ff-63821ee873a7",
   "metadata": {},
   "outputs": [],
   "source": [
    "import requests #for downloading wiki pages\n",
    "from bs4 import BeautifulSoup #web scrapping\n",
    "import spacy #for recognizing named entities\n",
    "import wikipediaapi #wikipedia api capabilities\n",
    "import time"
   ]
  },
  {
   "cell_type": "markdown",
   "id": "dc09f96b-7bdb-47d1-abc3-ae45baeebbd9",
   "metadata": {},
   "source": [
    "**1. Loading the Wikipedia page of Bernard Arnault**"
   ]
  },
  {
   "cell_type": "markdown",
   "id": "10a30fdb-f88f-4a9b-a115-67d53346f248",
   "metadata": {},
   "source": [
    "While loading his page I only extract text information."
   ]
  },
  {
   "cell_type": "code",
   "execution_count": 2,
   "id": "5f118adf-aa2a-4f24-98a7-aca308b6a292",
   "metadata": {},
   "outputs": [],
   "source": [
    "bernard = requests.get('https://en.wikipedia.org/wiki/Bernard_Arnault') #downloading wikipedia page\n",
    "bernard_soup = BeautifulSoup(bernard.content, 'html.parser')\n",
    "bernard_text = bernard_soup.get_text(strip = True) #text without tags"
   ]
  },
  {
   "cell_type": "markdown",
   "id": "6eb728ba-1e50-4bde-bd97-ddb852596f28",
   "metadata": {},
   "source": [
    "Preview of extracted Bernard Arnault's wikipedia page "
   ]
  },
  {
   "cell_type": "code",
   "execution_count": 3,
   "id": "46074fdb-d4fa-4486-8b50-fe13f41978ac",
   "metadata": {},
   "outputs": [
    {
     "data": {
      "text/plain": [
       "\"Bernard Arnault - WikipediaJump to contentMain menuMain menumove to sidebarhideNavigationMain pageContentsCurrent eventsRandom articleAbout WikipediaContact usDonateContributeHelpLearn to editCommunity portalRecent changesUpload fileSearchSearchAppearanceCreate accountLog inPersonal toolsCreate accountLog inPages for logged out editorslearn moreContributionsTalkContentsmove to sidebarhide(Top)1Early life2CareerToggle Career subsection2.11971–1987: Professional start2.21987–1989: Co-founding and acquisition of LVMH2.31989–2001: LVMH's Initial expansion and growth2.42001–present: Increasing success and profitability3Personal lifeToggle Personal life subsection3.1Family3.2Wealth3.3Request for Belgian citizenship3.4Transport3.5Lifestyle4Art collection5Political views6Awards and honors7See also8References9External linksToggle the table of contentsBernard Arnault54 languagesالعربيةAsturianuAzərbaycanca閩南語 / Bân-lâm-gúБеларускаяBikol CentralБългарскиCatalàČeštinaDanskDeutschEestiΕλληνικάEspañ\""
      ]
     },
     "execution_count": 3,
     "metadata": {},
     "output_type": "execute_result"
    }
   ],
   "source": [
    "bernard_text[0:1000]"
   ]
  },
  {
   "cell_type": "markdown",
   "id": "f16a83a3-bab0-427b-a47d-3bc7ad88be8c",
   "metadata": {},
   "source": [
    "**2. Using named entity recognition to locate any names in *Bernard Arnault*'s Wikipedia  page.**"
   ]
  },
  {
   "cell_type": "code",
   "execution_count": 4,
   "id": "6f20f204-864e-4019-98a8-b4a27fbe8112",
   "metadata": {},
   "outputs": [],
   "source": [
    "nlp = spacy.load(\"en_core_web_sm\") #loading the language model\n",
    "bernard_doc = nlp(bernard_text)\n",
    "bernard_ents = bernard_doc.ents"
   ]
  },
  {
   "cell_type": "code",
   "execution_count": 5,
   "id": "e3859d28-cb06-4417-9e6e-33874888cf31",
   "metadata": {},
   "outputs": [
    {
     "name": "stdout",
     "output_type": "stream",
     "text": [
      "Bernard Arnault - WikipediaJump, CommonsAppearancemove, Jean Étienne Arnault(1949-03, collector.[2][3]He, Boussac Saint-Frères, Louis Vuitton, Moët Hennessy, Moët Hennessy, Jean Étienne Arnault, Marie-Josèphe Savinel, Étienne Savinel, Arnault, Ferret-Savinel, Antoine Bernheim, Boussac, Bon Marché, Boussac, Louis VuittonHe, Alain Chevalier, Moët Hennessy, andHenry Racamier, ofLouis Vuitton, Arnault, Tribune.[16]La Tribune, JacobsandSephorain, Thomas Pinkin, Samaritainein, FordandDomenico De Sole, De Sole, De Sole, Cheval Blancin, d'Yquem, Libertysurf, jewelerBulgari, Arnault, Marco De Vincenzo, Tiffany, losses\".[45]In, Louis Vuitton, Dior, Anne Dewavrin, Hélène Mercier, Alexandre, Antoine, Alexandre, Stephanie Watine, Jean, Delphine, Niel, Delphine, Bezosto, Arnaut, Jeff Bezos, Yves Klein, Henry Moore, andAndy Warhol.[80][81]He, Jean, Knight, David Rockefeller Award, June2024.^\"Bernard Arnault, Bernard Arnault, Founder, Van-Der, La Voix, Nord, Moët, Vanessa, Elizabeth, Retrieved18 May2021.^abcGreenhouse, Steven, April2023.^\"Alain Chevalier, Steven, Retrieved18 May2021.^Neher, Jacques, Gwladys, in\", Gail, Bloomberg, Suzy, Julie V., Marc, Retrieved13 April2023.^\"Colony,, Ben, 1MDB board\", Simon, Andrew, Buy Bulgari, Bloomberg, Xiaoxiao, Morning Whistle, Binnie, Isla, Marco de Vincenzo, Retrieved18 May2021.^Socha, Miles, Marco de Vincenzo, Donna Karan International, Retrieved31 May2022.^Hoang, Limei, May2021.^Naas, Roberta, Matthew, Bernard Arnault, May2021.^Piscioneri, Francesca, Bernard Arnault Stitched Together, September2023.^abWarren, Katie, Taylor Nicole, Bernard Arnault, Retrieved23 April2020.^Paton, Elizabeth, July2018.^\"LVMH Watches, Retrieved31 March2024.^Socha, Miles, Bernard Arnault, Retrieved12 April2018.^Lars Bové, Strupczewski, Geert De Clercq, Pascale Denis, MachineReuters.^Kim Willsher, Bernard Arnault, Luisa, Bernard Arnault, May2021.^Kristin Stoller, C. Cuccinello, Robert, Retrieved18 May2021.^Mellor, Bernard Arnault, May2021.^T. TRAN,\"Jeff, Bezos, Bernard Arnault, Retrieved19 April2023.^\"Bloomberg Billionaires, Bloomberg, March2013.^\"Bernard Arnault, décidé de lever toute, Je retire ma, Retrieved19 November2014.^\"Superyacht Amadeus, Louis Vuitton's, Twitter, Retrieved18 October2022.^Gorgan, Louis Vuitton, Bernard Arnault Sells, July2012.^Hannah Elliott, Bernard Arnault Alone, Zeveloff, Tait, Frank Gehry ', Les Echos(in French, Capital(in French, February2021.^Lauren Milligan, Президента Российской Федерации, commandeur de l'ordre de l'empire britannique\"(in, Stewart, Arnault, Lisa, Erik, David Rockefeller Award, Bernard, PowellCharles de, ArnaultDiego Della ValleFelix, HennessyHubert VédrineYves-Thibault de SilguyFashion, Vegan BeautyMaison Francis, BeautyOfficine Universelle BulyOle HenriksenParfums, Stella, EpicerieLa SamaritaineLe Bon MarchéSephoraStarboard, de BrignacBelvedereBodega NumanthiaCape, VineyardRuinartTerrazas de los, de mi TierraWoodinville Whiskey, Van LentvteYoung, ArtistsArtistsFiona BannerHenry BondChristine, DavenportTacita DeanTracey, Taylor-JohnsonGavin, Louise WilsonTeachersBasil BeattieHelen ChadwickMichael Craig-MartinIan, KoonsJohn StezakerAndy WarholLawrence, Schubert GalleryLisson, Coles HQSouth, Wolfson de BottonEli, Anita ZabludowiczAdvocatesLouisa BuckMatthew CollingsRichard, Graham-DixonSarah, KentStuart MorganNorman, Nicholas SerotaMatthew, Roman CatholicsHidden, dmy, "
     ]
    }
   ],
   "source": [
    "level_1 = [entity.text for entity in bernard_ents if entity.label_ == 'PERSON']\n",
    "for name in level_1:\n",
    "    print(name, end =', ')"
   ]
  },
  {
   "cell_type": "markdown",
   "id": "bf177ac1-4ba2-476c-88b0-7011a7f5a24c",
   "metadata": {},
   "source": [
    "*- From the inspection of the above named entities, some text doesn't represent people so such text must be removed so that only people's names who have wikipedia pages are maintained for further analysis.*"
   ]
  },
  {
   "cell_type": "markdown",
   "id": "33c74528-49e8-4a98-a066-d332f23bd10e",
   "metadata": {},
   "source": [
    "**Maintaining persons with wikipedia pages**"
   ]
  },
  {
   "cell_type": "code",
   "execution_count": 6,
   "id": "b260abdb-f4a8-4c8c-9313-48f0592640ae",
   "metadata": {},
   "outputs": [],
   "source": [
    "#specifying user_agent to identify my project\n",
    "my_wiki = wikipediaapi.Wikipedia('Six Degrees of Separation with Wikipedia Corpus', 'en')\n",
    "\n",
    "#Maintaining persons with wikipedia pages\n",
    "level_1 = set([person for person in level_1 if not (person =='Bernard Arnault') and my_wiki.page(person).exists()])\n",
    "level_1 = {'Bernard Arnault': list(level_1)}"
   ]
  },
  {
   "cell_type": "markdown",
   "id": "cfc198fd-f376-4e02-a9d8-0359308e09e7",
   "metadata": {},
   "source": [
    "The refined list of people's names on Bernard Arnault's Wikipedia pageis shown below"
   ]
  },
  {
   "cell_type": "code",
   "execution_count": 7,
   "id": "0fdb7a2c-95d1-4e79-9960-fb878e401ac8",
   "metadata": {},
   "outputs": [
    {
     "name": "stdout",
     "output_type": "stream",
     "text": [
      "Elizabeth, Twitter, Louis Vuitton, Bloomberg, Tiffany, dmy, Niel, Suzy, Arnault, Robert, Henry Moore, Francesca, La Voix, Boussac, Matthew, Gail, Erik, Alain Chevalier, Delphine, Bon Marché, Nord, Moët, Jacques, Roberta, Katie, Miles, Dior, Bezos, Jean, Jeff Bezos, Stella, Moët Hennessy, Knight, Ben, Steven, Arnaut, Luisa, Lisa, Donna Karan International, Binnie, Stewart, Vanessa, Andrew, Gwladys, Tait, Marc, Antoine, Founder, Simon, Isla, Bernard, Yves Klein, Alexandre, "
     ]
    }
   ],
   "source": [
    "for name in level_1['Bernard Arnault']:\n",
    "    print(name, end =', ')"
   ]
  },
  {
   "cell_type": "markdown",
   "id": "6fec0137-73a3-484c-bad3-44646ad6212a",
   "metadata": {},
   "source": [
    "**3. Repeating step 1 & 2 above for the Wikipedia pages of each name found in step 2.**"
   ]
  },
  {
   "cell_type": "code",
   "execution_count": 13,
   "id": "198e899b-845d-4207-8f70-856cf24ad4b1",
   "metadata": {},
   "outputs": [],
   "source": [
    "level_2 = {}\n",
    "for owner in level_1.keys():\n",
    "    for person in level_1[owner]:\n",
    "        if my_wiki.page(person).exists():\n",
    "            wiki_page = my_wiki.page(person)\n",
    "            text = wiki_page.text\n",
    "            person_doc = nlp(text)\n",
    "            person_ents = person_doc.ents\n",
    "            below = [entity.text for entity in person_ents if entity.label_ == 'PERSON']\n",
    "            below = set([x for x in below if not (x == person)])\n",
    "            below = list(below)\n",
    "            level_2.update({person:below})\n",
    "        else:\n",
    "            continue"
   ]
  },
  {
   "cell_type": "code",
   "execution_count": 16,
   "id": "194a21ad-9657-4ada-a47c-3b4c9edc03f1",
   "metadata": {},
   "outputs": [
    {
     "data": {
      "text/plain": [
       "dict_keys(['Elizabeth', 'Twitter', 'Louis Vuitton', 'Bloomberg', 'Tiffany', 'dmy', 'Niel', 'Suzy', 'Arnault', 'Robert', 'Henry Moore', 'Francesca', 'La Voix', 'Boussac', 'Matthew', 'Gail', 'Erik', 'Alain Chevalier', 'Delphine', 'Bon Marché', 'Nord', 'Moët', 'Jacques', 'Roberta', 'Katie', 'Miles', 'Dior', 'Bezos', 'Jean', 'Jeff Bezos', 'Stella', 'Moët Hennessy', 'Knight', 'Ben', 'Steven', 'Arnaut', 'Luisa', 'Lisa', 'Donna Karan International', 'Binnie', 'Stewart', 'Vanessa', 'Andrew', 'Gwladys', 'Tait', 'Marc', 'Antoine', 'Founder', 'Simon', 'Isla', 'Bernard', 'Yves Klein', 'Alexandre'])"
      ]
     },
     "execution_count": 16,
     "metadata": {},
     "output_type": "execute_result"
    }
   ],
   "source": [
    "level_2.keys()"
   ]
  },
  {
   "cell_type": "markdown",
   "id": "8006c84e-b65b-448b-b709-3f19732dfe5e",
   "metadata": {},
   "source": [
    "The above dictionary `level_2` contains the 'person' named entities for each name displayed above."
   ]
  },
  {
   "cell_type": "markdown",
   "id": "f687b206-fffc-43e3-8124-87dbc2cbceae",
   "metadata": {},
   "source": [
    "**4. Continue this process six levels deep to build a graph of people connected to *Bernard Arnault*'s Wikipedia page.**"
   ]
  },
  {
   "cell_type": "markdown",
   "id": "8291a6d2-89c4-49d1-948e-55f6d36d21a7",
   "metadata": {},
   "source": [
    "The code below automatically computes the remaining depth levels however it's time expensive. Therefore I decided to perform the remaining levels individually"
   ]
  },
  {
   "cell_type": "code",
   "execution_count": null,
   "id": "59f8efc9-fabe-40f6-ace2-0e9efb5cd8cf",
   "metadata": {},
   "outputs": [],
   "source": [
    "level_3 = {}; level_4 ={};  level_5={}; level_6 ={}\n",
    "remainder = [level_2, level_3, level_4, level_5, level_6]\n",
    "for i in range(1,5):\n",
    "    for owner in remainder[i-1].keys():\n",
    "        for person in remainder[i-1][owner]:\n",
    "            if my_wiki.page(person).exists() == True:\n",
    "                time.sleep(2)\n",
    "                wiki_page = my_wiki.page(person)\n",
    "                text = wiki_page.text\n",
    "                person_doc = nlp(text)\n",
    "                person_ents = person_doc.ents \n",
    "                below = [entity.text for entity in person_ents if entity.label_ == 'PERSON'] \n",
    "                below = set([x for x in below if not (x == person)]) \n",
    "                below = list(below) \n",
    "                remainder[i].update({person:below})\n",
    "            else: \n",
    "                continue"
   ]
  },
  {
   "cell_type": "markdown",
   "id": "66dfb5d9-e035-4227-89a9-7c3fe43c64f0",
   "metadata": {},
   "source": [
    "*Depth level 3 computation*"
   ]
  },
  {
   "cell_type": "code",
   "execution_count": 30,
   "id": "a6afd4ad-a63c-451e-b8b6-2efdd2fbb359",
   "metadata": {},
   "outputs": [],
   "source": [
    "level_3 = {}\n",
    "for owner in level_2.keys():\n",
    "    for person in level_2[owner]:\n",
    "        try:\n",
    "            if my_wiki.page(person).exists(): \n",
    "                wiki_page = my_wiki.page(person) \n",
    "                text = wiki_page.text \n",
    "                person_doc = nlp(text) \n",
    "                person_ents = person_doc.ents \n",
    "                below = [entity.text for entity in person_ents if entity.label_ == 'PERSON']\n",
    "                below = set([x for x in below if not (x == person)])\n",
    "                below = list(below)\n",
    "                level_3.update({person:below})\n",
    "        except KeyError:\n",
    "            continue"
   ]
  },
  {
   "cell_type": "code",
   "execution_count": 33,
   "id": "7b0039c8-3999-44a1-b2d4-6a2da2d268c6",
   "metadata": {},
   "outputs": [
    {
     "data": {
      "text/plain": [
       "dict_keys(['Queen Elizabeth', 'Elisabeth Andreassen', 'Elizabeth II', 'Elizabeth Reef', 'Jelisaveta', 'Elizabeth Stakes', 'Elizaveta', 'Elisabeth', 'Killah Priest', 'Elizabeth Cup', 'Lisa', 'Michael Kunze', 'Zach Bryan', 'Sylvester Levay', 'Florian Weber', 'Musk', 'Peiter Zatko', 'Geng Shuang', 'Simon Oxley', 'Venmo', 'Quartz', 'Erdoğan', 'Twitter Lite', 'Matthew Auer', 'Caitlyn Jenner', 'Zatko', 'Moldovan', 'Yusaku Maezawa', 'Multimedia', 'Dick Costolo', 'Dyson', 'Steven Levy', 'Raffi Krikorian', 'Strike', 'Mike Carr', 'Sigmund Freud', 'Ellen', 'Glass', 'Caroline Criado-Perez', 'Tufekci', 'Jonathan Zittrain', 'John', 'Git', 'Larry Bird', 'AlDub', 'Carter Wilkerson', 'Bill Gates', 'Fitton', 'Tao Lin', 'Randi Harper', 'Adolf Hitler', 'John C. Dvorak', 'Birdwatch', 'Pope Francis', 'Williams', 'Twitter Blue', 'Rodrigo Duterte', 'Harry Potter', 'Michael Jackson', 'Mac', 'Oscar', 'Ben Silverman', 'Tweetie', 'Larry', 'Stella Creasy', 'Gruen', 'Leslie', 'Lady Gaga', 'Jamal Khashoggi', 'Edward Snowden', 'Maria Zakharova', 'Evan Williams', 'Tony La Russa', 'Matthew Ingram', 'Eat Bulaga', 'Jen Simmons', 'JVM', 'Levant', 'Twitterrific', 'apps', 'Michael A. McFaul', 'Erdogan', 'Ellen DeGeneres', 'Sysomos', 'Parag Agrawal', 'Muhammadu Buhari', 'Sputnik', 'Justin Bieber', 'Laura', 'Mohammed bin Salman', 'Android', 'bush', 'Gizzard', 'Rick Moody', 'Webby Award', 'Donald Trump', 'Mira Gonzalez', 'Mary Beard', 'Appearance', 'James Foley', 'Elon Musk', 'Biz Stone', 'Robert Downey Jr.', 'Linda Yaccarino', 'Rihanna', 'Java', 'Noah Glass', 'Vijaya Gadde', 'Jack Dorsey', 'Hwang', 'Tweeting', 'Barack Obama', 'Gurgaon', 'Tamang Panahon', 'Chris Fry', \"Donald Trump's\", 'Lisa Mann', 'App Store', 'Krikorian', 'Gonzalez', 'Dorsey', 'Twitter', 'Kanye West', 'Abloh', 'Razzia', 'Lea Seydoux', 'Andre Agassi', 'Plesner', 'Jennifer Lopez', 'Fayard', 'James Bond', 'amfAR', 'Hennessy', 'Speedy', 'Bruno Aveillan', 'Tiger Woods', 'Yayoi Kusama', 'Yves Carcelle', 'Riot Games', 'Steffi Graf', 'David Bowie', 'Hummer', 'Marc Jacobs', 'Alex Israel', 'Urs Fischer', 'Grace Coddington', 'Murakami', 'Sharon Stone', 'Nicolas Ghesquière', 'Ghesquière', 'Louis Vuitton Malletier', 'Eric Carlson', 'Sean Connery', 'São Paulo', 'Angelina Jolie', 'Manifest', 'Juicy J', 'Lucara Diamond', 'Matthias Schoenaerts', 'Kim Kardashian', 'Moët', 'Ōyama Iwao', 'Tyler Okonma', 'Jonas Wood', 'Takashi Murakami', 'Patrick Demarchelier', 'Park Güell', 'Gisele Bündchen', 'Jeff Koons', 'Bob Wilson', 'Dom Pérignon', 'Maria Sharapova', 'Virgil Abloh', 'Blason', 'Jaume Collboni', 'Annie Leibovitz', 'Nicholas Hlobo', 'Kim Jones', 'Epi', 'Editions Fayard', 'Stephen Sprouse', 'Mikhail Gorbachev', 'Catherine Deneuve', 'Keith Richards', 'Britney Spears', 'Pharrell Williams', 'Sarah', 'Brad Pitt', 'Georges', 'Madonna', 'Sewelô', 'Nicolas Ghesquiere', 'graffiti', 'keffiyeh', 'Liverpool Victoria', 'BNN Bloomberg', 'Blumberg', 'Bloomberg L.P.', 'Michael Bloomberg', 'Georgina Bloomberg', 'Daniel J. Bloomberg', 'Ramon Bloomberg', 'Bloomberg Tower', 'Bloomberg Law', 'Tiffanie', 'Louis Comfort Tiffany', 'Tiffany Darwish', 'Taryn Terrell', 'Tiffany Glass', \"Todd McFarlane's Spawn\", 'DDD', 'Hijri', 'Standard Time', 'Beyond', 'mm', 'Y10K', 'Teen Top', 'Niels', 'C. B. van Niel', 'Neil', 'Suji', 'Susie', 'Suzy Bittencourt de Oliveira', 'Jean Harlow', 'Cary Grant', 'Franchot Tone', 'Garth Nix', 'Caravan Palace', 'Suzie', 'Jean Arnault', 'Bernard Arnault', 'Robert L. Stewart', 'Robert Young', 'Robert Munro', 'Robert Curthose', 'Robert Calder', 'Robert Bales', 'Sri Lankan Tamil', 'Robert Stroud', 'Robert Rich', 'Robert S. Kimbrough', 'Robert J. Clendening', 'Robert Toomey', 'Saint Robert', 'Roberto Matta', 'Robert Dale Henderson', 'Robert Vilvain', 'Literary', 'Robert Gunawardena', 'Robert Duvall', 'Robert Eugene Brashers', 'John F. Kennedy Space Center', 'Robért Conway', 'Robert Sink', 'Robert Allen Zimmerman', 'Robert Perrino', 'Robert C. Bradshaw', 'Robert Smigel', 'Robert Barron', 'Robert Grierson', 'Robert Gustafsson', 'Robert C. Tyler', 'Roberto Draghetti', 'Robert Charles Browne', 'Robert M. La Follette', 'Robert Worth Bingham', 'Abraham Lincoln', 'Robert Kekewich', 'Robert Tilton', 'Robert D. Cabana', 'Sgt', 'Robert Commanday', 'Robert Rolfe', 'Robert Garrow', 'Robert Dunning', 'Robert Stanford Tuck', 'Robert Irwin', 'Robert Gardiner Hill', 'Robert Rihmeek Williams', 'Robert Napper', 'Freddy', 'Robert McCall', 'Robert Haining', 'Robert Gascoyne-Cecil', 'Robert IV', 'Robert F. Wagner Jr.', 'Robert II', 'Robert Singer', 'Robert Andrews Millikan', 'Robert Mellard', 'Bonanno', 'Robert Lee Yates', 'Robert Huntington', 'Robert Lowe', 'Robertson', 'Robert Glen Coe', 'Robert Bartels', 'Robert Goguen', 'Robert William Fisher', 'Carl Robert Jakobson', 'Robert Volkmann', 'Robert III de La Marck', 'Robert Boylestad', 'Robert Grierson Combe', 'Robert Mitchell', 'Dante Alighieri', 'Robert Anton Wilson', 'Robert A. Stemmle', 'Robert Babicz', \"Robert O'Hara Burke\", 'Robert Mulligan', 'Robert Robinson', 'Robert Fitzgerald', 'Robert Ben Rhoades', 'Rex Romanorum', 'Robert Pickton', 'Robert J. Bentley', 'Robert Hardman', 'Robert Duncan McNeill', 'Robert King High', 'Robert Maudsley', 'Hooters', 'Robert Bunsen', 'Robert Chan', 'Robert Remus', 'Robert Hichens', 'Robert Howard', 'British Guiana', 'Robert Hoke', 'Robert Cornelius', 'Robert Monro', 'Robert M. T. Hunter', 'Robert Davi', 'Robert Cecil', 'Robert Treat Paine', 'Robert J. Bulkley', 'Robert Chung', 'Foulis', 'Glanni Glæpur', 'King William', 'Robert Wickens', 'Robert Inglis', 'Robert J. Kirby', 'Robert Lee Bullard', 'Roberto María Ortiz', 'Robert Francis', 'Robert Devereux', 'Robert Miles', 'Robert Conquest', 'Robert James Miller', 'Robert Mitchum', 'Roberto Farinacci', 'Robert Schumann', 'Baron', 'Robert Morris', 'Robert M. Price', 'Rob Bell', 'Robert Mallard', 'Robert Rogers', 'Robert Rodriguez', 'Robert Kajuga', 'Robert Kerr', 'Robert Jones', 'Robert Gysae', 'Robert A. Taft', 'Robbie Rotten', 'Robert Steinhäuser', 'Robert E. Quinn', 'Robert Neller', 'Robert Kirkman', 'Robert A. Lewis', 'Robert Roddam', 'Robert Dashwood', 'Robert B. Weide', 'Jones', 'Robert Kocharyan', 'Robert Kyncl', 'Robert Wesley Knighton', 'Robert E. Lee', 'Robert J.C. Stead', 'Robert Whittaker', 'Robert N. Adams', 'Robert Eggers', 'Robert Kubica', 'Robert Paulson', 'Robert J. Van de Graaff', 'Robert J. White', 'Robert Hanssen', 'Robert McDade', 'Robert Abela', 'Robert Black', 'Robert Dudley', 'Robert Mirabal', 'Robert H. Morris', 'Robert Langdon', 'Robert McGowan', 'Robert Byrd', 'Robert Ritchie', 'Robert Harley', 'Robert de Juilly', 'Robert Hughes', 'Gloucester', 'Charles VI', 'Rupert', 'The Mighty Boosh', 'Robert Onderdonk Terwilliger', 'Led Zeppelin', 'Robert Stanton', 'Robert Pattinson', 'Attack', 'Robert H. Reed', 'Robert Stevens', 'Lithuanian', 'Roberto Clemente', 'Robert Hunter', 'Robert Curbeam', 'Massive Attack', 'Robert Person', 'Robert P. Ashley Jr.', 'Battle Angel', 'Roberto', 'Robert Stromberg', 'Robert Gould Shaw', 'Robert Boyle', 'Robert Hays', 'Robert R. Livingston', 'Robert Holman', 'Roberto Mangabeira Unger', 'Robert Peel', 'Robert Plant', 'Robert I. Tilling', 'Robert Gibbings', 'Robert de Craon', 'William', 'Black Sabbath', 'Robert Trimbole', 'Robert Edward Chambliss', 'Robert Borden', 'Robert Sale', 'Robert the Devil', 'Robert S. Kerr III', 'Robert Wayne Harris', 'Brooke', 'Robert Goulet', 'Robert Habeck', 'Robert Gregg', 'Robert Smalls', 'Robert T. Bess', 'Robert Wagner', 'Robert Themptander', 'Robert J. Gamble', 'Robert Shwartzman', 'Robert Baratheon', 'Robert Drake', 'Robert Wiene', 'Robert Orme', 'Robert Viren', 'Robert Thirsk', 'Robert Harris', 'Robert Gibson', 'Welsh', 'Robert M. Lightfoot Jr.', \"Roberto de' Nobili\", 'Robert Alexander Michel Melki', 'Anglican Bishop', 'Theodore Roosevelt', 'Robert Fripp', 'Robert Palmer', 'Robert Carter', 'Robert Menzies', 'Robert Hertzberg', 'Robert Kardashian', 'Robert Patterson', 'Robert de Sorbon', 'Robert Roosevelt', 'Taft', 'Robert Paston', 'Robert Rheault', 'Robert C. Buchanan', 'Robert Anthony Buell', 'Robert M. Shoemaker', 'Robert J. Cindrich', 'Robert Sturges', 'Robert Satcher', 'Robert Griffin III', 'Robert Gordon', 'Robert \"Beto\" O\\'Rourke', 'Robert Fulton', 'Robert Burns', 'Robert Benson', 'Earl', 'John F. Kennedy', 'Robert Wayne Danielson', 'Robert Henley', 'Robert Stopford', 'Robert the Strong', 'Varius Manx', 'Robert Southwell', 'Robert Shea', 'Robert Rozhdestvensky', 'Robert Monckton', 'Robert McClure', 'Robert Wipper', 'Roberto de Nobili', 'Robert Abisi', 'Robert Liberty', 'Saint Robert Bellarmine', 'Robert Mark Edwards', 'Robert Evans Peterson', 'Robert S. Mueller III', 'Robert Mansell', 'Robert Johnson', 'Robert Elms', 'Robert Serber', 'Robert Baird', 'Robert Downey Sr.', 'Robert T. Price', 'Robert Abercromby', 'Robert L. Behnken', 'Prince Rupprecht', 'Robert G. Elliott', 'Robert Taylor', 'Robert Nairac', 'Robert J. Cenker', 'Robert Bruce', 'Parma', 'Robert Mugabe', 'Robert III', 'Robert B. Johnston', 'Robert Goodloe Harper', 'Robert Brownrigg', 'Robert DeLong', 'Robert Mühren', 'Roberto Carlos', 'Robert James Manion', 'Robert A. Lovett', 'Robert Ballard', 'Robert Laurie', 'Robert Guiscard', 'Robert Bundtzen', 'Robert Capa', 'Robert Fitzhamon', 'Robert Randell', 'Rebecca Schaeffer', 'Barcelona', 'Charles I Robert', 'Robert Bruce Banner', 'Robert Pigot', 'Robert Shapiro', 'Raymond', 'Angevin Dynasty', 'Robert Durst', 'Robert Carr', 'Officer Commanding', 'anti-Bolshevik', 'Robert Guillaume', 'Robert Trump', 'Robert Trujillo', 'Robert Cummings', 'Geologist', 'Roparz Hemon', 'Robert Stout', 'Robert Schuman', 'Crown Prince', 'Robert B. Abrams', 'Robert Maxwell', 'Robert Smith', 'Robert Emmiyan', 'Robert Vaughan', 'Robert Arno', 'Robert Peary', 'Robert L. Eichelberger', 'Robert H. Gray', 'Robert Herbert', 'Charles Robert Darwin', 'Robert C. Brickell', 'Robert S. Browne', 'Robert Marcellus Stewart', 'Robert F. Overmyer', 'Robert Carlyle', 'Robert Emmet', 'Robert Esnault-Pelterie', 'Robert Duff', 'Robert Mulka', 'Robert Bartlett', 'Robert G. Ingersoll', 'Robert A. Parker', 'Robert Green', 'Robert Ford', 'Robert Crosser', 'Robert I', 'Robert Frost', 'Robert Crewe-Milnes', 'Robert Rollo Gillespie', 'Robert D. Orr', 'Slovak', 'Robert F. Christy', 'Robert Walker', 'Robert Gsellman', 'Van de Graaff', 'Minerva McGonagall', 'Robert Wise', 'Robert Windsor-Clive', 'Robert McNamara', 'Robert Kajanus', 'Robert H. Foerderer', 'Bobby', 'Robert Patrick', 'Robert Dale Rowell', 'Robert H. Goddard', 'Robert Zemeckis', 'Robert Brooke', 'Robert Darwin', 'Robert Chadwick', 'County Armagh', 'Roberto Micheletti', 'Arthur Robert Guinness', 'Robert C. Springer', 'Robert Todd Lincoln', 'Robert W. Wood', 'Robert Walpole', 'Robert O. Scholz', 'Robert A. Heinlein', 'Robert W. Service', 'Robert C. Green', 'Baron Winston', 'Robert Alfred Theobald', 'Robert Heinrich Wagner', 'Robert S. Kerr', 'Robert Bosch', 'Robert C. Murphy', 'Robert A. Frosch', 'Robert Hooke', 'Robert Koch', 'Robert Hardy', 'Robert Fico', 'Gauleiter', 'Robert Edward Jayatilaka', 'Robert Cormier', 'Robert John Bardo', 'Robert S. Beightler', 'Somerset', 'Robert Reynolds', 'Robert L. Gibson', 'Amar Akbar Anthony', 'Róbert Cvi Bornstein', 'Robert Jay Mathews', 'Robert Stewart', 'Roberto Mancini', 'Robin Hood', 'Robert \"Bobby\" McFerrin', 'Robert Carey', 'Northington', 'Robert Gichimu Githinji', 'Robert T. Conrad', 'Robert Budd Dwyer', 'Robert Kelly', 'Robert Clive', 'Robert Montgomery', 'Robert Dorsey Coale', 'Robert Francis Burns', 'Robert Napier', 'Robert Helenius', 'Robert Lansing', 'Robert Kiprop', 'Robert Kosch', 'Robert Livingston Rudolph', 'Robert Peverell Hichens', 'Robert J. Anderson', 'Robert von Ungern-Sternberg', 'Robert Treat', 'Robert Baden-Powell', 'Robert Eikhe', 'Robert Knepper', 'St Helena', 'Robert Swan', 'Bingley', 'Robert Louis Stevenson', 'Robert Ryan', 'Robert G. Smith', 'Littlejohn', 'Robert of Bellême', 'Robert Vaughn', 'Robert Sobukwe', 'Robert Morgenthau', 'Robert F. Kennedy', 'Roberto Baggio', 'Robert Barclay Allardice', 'Robert Maskell Patterson', 'Robert Nozick', 'Frozen', 'Robert Schmidt', 'Robert Oppenheimer', 'Robert Berdella', 'Robert De Niro', 'Robert W. Porter Jr.', 'Robert Ritter', 'Robert L. Henry', 'Robert Kiyosaki', 'Baden-Powell', 'Robert Lewandowski', 'Robert T. Barrett', 'Robert Greville', 'Robert Henry Dick', 'Robert L. Ghormley', 'Robert Moray', 'Robert O. Tyler', 'Robert Finlay', 'Robert Wadlow', 'Robert Zarinsky', 'Robert Gray', 'Robert Ley', 'Robert M. La Follette Jr.', 'Robert Falcon Scott', 'Robert F. Maronde', 'Robert Miles Sloman', 'Earl Loreburn', 'Norman', 'Lost Kings', 'Robert Tepper', 'Robert Browning', 'Robert Hegyes', 'Robert Winthrop', 'Robert de Cotte', 'Robert Liston', 'Robert Kingsmill', 'Robert Nivelle', 'Robert Stockton Green', 'Robert Hawkins', 'Robert Bevan', 'Robert Crippen', 'Bob Dylan', 'Robert F. Williams', 'Robert Yellowtail', 'Robert Del Naja', 'Robert Hansen', 'Robert E. Cushman Jr.', 'Robert Lopez', 'Robert Brooke-Popham', 'Robert Knox', 'Robert Iler', 'Robert P. Patterson', 'Robert Hicks', 'Roberto Sánchez Vilella', 'Robert Miller Montague', 'Roberto Vittori', 'Earl Mortimer', 'Robert Seldon Lady', 'Goldbergs', 'Robert Brent', 'Robert Ross', 'Homeward Bound', 'Robert the Magnificent', 'Robert Newton Ford', 'Robert H. Jackson', 'Robin Goodfellow', 'Robert Garcia', 'Robert Topala', 'Robert Toombs', 'Robert Winston', 'Robert Philip', 'Robert F. Stockton', 'Reich', 'Robert the Bruce', 'Robert Blake', 'Robert E. Howard', 'Scots', 'Robert H. Birch', 'Robert Sheehan', 'Robert Janson', 'Viscount Finlay', 'Rob Base', 'Robert A. Long', 'Robert Palin', 'Robert Price', 'Sideshow Bob', 'Robert Fuller', 'Roberto López Ufarte', 'Robert Henri', 'Robert Englund', 'Robert Bateson', 'Grateful Dead', 'Robert Buckland', 'Robert F. Smith', 'Robert Allen Rolfe', 'Robert Hollander', 'Robert Lloyd Schellenberg', 'Judas Priest', 'Robert Hohenberger', 'Beyblade', 'Robert Enteric', 'Robert Molyneux', 'Robert Haab', 'Robert Neville', 'Robert Thompson', 'Robert Harting', 'Robert M. Shelton', 'Robert Lowry', 'Robert McKimson', 'Robert Altman', 'Róbert Jež', 'Robert Bulwer-Lytton', 'Robert Jenkinson', 'Robert Biehler', 'Robert Toupin', 'Robert Reid', 'Sing Sing', 'Robert de Montesquiou', 'Robert A. Green', 'Robert Raymond', 'Robert Bertie', 'Rob', 'William Turnbull', 'Mitchinson', 'Fiona', 'Causey', 'Isaac Witkin', 'Eduardo Paolozzi', 'Roland Penrose', 'Morris', 'Flo', 'Alberto Giacometti', 'Cecil Stephenson', 'Baker', 'Bernard Meadows', 'Kenneth Armitage', 'Henri Gaudier-Brzeska', 'Jacob Epstein', 'Danny Boyle', 'Reg Butler', \"St Thomas's Church\", 'Henry Morris', 'Perry Green', 'Roger', 'Jane', 'Malcolm', 'Venice Biennale', 'Frank Dobson', 'Helaine Blumenfeld', 'Giovanni Pisano', 'Anthony Caro', 'Mary Moore', 'Henry Spencer Moore', 'Anita', 'Sylvester', 'Walter Gropius', 'Barbara Hepworth', 'Warren Forma', 'Child', 'Wendell Cherry', 'Yorkshire', 'Scala', \"Henry Moore's\", 'Mary', 'Jeremy Deller', 'Eric Gill', 'Hepworth', 'Archer', 'Surrey', 'Moore', 'Hatfield House', 'Robert Adams', 'Dante', 'Kew', 'Pinet', 'Richard Wentworth', 'Jean-Paul Sartre', 'Picasso', 'Russell', 'Jean Arp', 'Michelangelo', 'Ben Nicholson', 'Kent Fine Art', 'Altamira', 'Herbert Read', 'Kenneth Clark', 'John Read', 'Westminster', 'Gropius', 'Lynn Chadwick', 'David', 'Feldman', 'Dorothy', 'Enrico Fermi', 'H. N. Abrams', 'Clark', 'Sally', 'Henry', 'Geoffrey Clarke', 'Constantin Brâncuși', 'Francis Bacon', 'Georges Braque', 'Woodward', 'Phillip King', 'J.', 'Académie Colarossi', 'Andrew', 'Giotto di Bondone', 'Grohmann', 'Michael Sadler', 'Nicholas Serota', 'Kosinski', 'Anastasia Nikolaevna', 'Francheska Yarbusova', 'Anna Anderson', 'Francesca Iossi', 'Francesca Russo', 'Francesca Martinez', 'Francesca Capaldi', 'Francesca Gagnon', 'Francesca Stavrakopoulou', 'Francesca Cuzzoni', 'Francesca Allinson', 'Francesca Woodman', 'Francesca Battistelli', 'Francesca Piccinini', 'Franziska Schanzkowska', 'Weetzie Bat', 'Francesca Cumani', 'Francesca Dani', 'Lauren Kate', 'Francesca Beard', 'Frankie Corio', 'Franky', 'Slovene', 'Francesca Schiavone', 'Frankie', 'Francesca Caccini', 'Freaky Green Eyes', 'Francesca Martiradonna', 'Francis', 'Francesca Simon', 'Paca', 'Francesca Alderisi', 'Alex', 'Francesca Salvalajo', 'Daniel Francesca', 'Francesca Lubiani', 'Franciscus', 'Francesca Galli', 'Lucchini', 'Marc Dupré', 'John de Mol', 'Runner', 'Alex Nevsky', 'Winner', 'Duels', 'La Voix Junior', 'Marie-Mai', 'La Boussac', 'Kool Keith', 'Matt', 'John Cabot', 'Gale', 'Gael', 'Gayle', 'GAIL', 'Max Gail', 'Eric Ravotti', 'Eric Birling', 'Erik Axel Karlfeldt', 'Eric Maturin', 'earl', 'Arthur Birling', 'Eric Hutchinson', 'Erich Honecker', 'Eric Carmen', 'Gossip Girl', 'Eric Bana', 'Eric Pierpoint', 'Erich Ribbeck', 'Eric McCormack', 'Eric Minkin', 'Eric Boe', 'Erik Guay', 'Eric Steele', 'Eric Alterman', 'Eric DeWayne Boyd', 'Eric André', 'Eriq La Salle', 'Eric Harris', 'Eric Morecambe', 'Eric Carle', 'Erich von Falkenhayn', 'Eric Olson', 'Eric Pardinho', 'Eric Lynn Wright', 'Eric Dickerson', 'Alberto Bertorelli', 'Eric Brodkowitz', 'Eric Lloyd', 'Eric Franklin', 'Erik Satie', 'Erik Von Darkmoor', 'Erkki', 'Erik Erikson', 'Erik Tomáš', 'Eric Wollencott Barnes', 'Eric J. Christensen', 'Eric Osborn', 'Eric Dane', 'Eric Griffiths', 'Eric Bloodaxe', 'Eric Pohlmann', 'Eric Cantona', 'Eric Arthur Blair', 'Eric Brooks', 'Eric L. Levinson', 'Eric Erickson', 'Eric Stults', 'Eric Bercovici', 'Eric Saade', 'Eric Ayala', 'Eric Gargiulo', 'Erik Johnson', 'Eric Singleton Jr.', 'Eric Sykes', 'Eric L. Boyd', 'Eric Stanton', 'Erik Verlinde', 'Eric Idle', 'Eric III', 'Eric Rosswood', 'Eric the Victorious', 'Eric Nazarian', 'Eric Bieniemy', 'Eric XIV', 'Eric Prydz', 'Eric Gutierrez', 'Eric Thorne', 'Erik Kynard', 'Eric Woolfson', 'Erik Affholter', 'Erik Lorig', 'Éric Tabarly', 'Eric Jensen', 'Eric Cartman', 'Eric II', 'Erich Fromm', 'Eric Andersen', 'Eric Milroy', 'Eric LeGrand', 'Eric Nicksick', 'Erick Silva', 'Eric Decker', 'Eric Pop', 'Eric Abidal', 'Eric Church', 'Erik White', 'Erik Refilsson', 'Eric Welsh', 'Erik Nielson', 'Eric Crawford', 'Erick Delgado', 'Erik Heinrichs', 'Eric I', 'Erik McCoy', 'Eric Bazilian', 'Eric Justin Toth', 'Eric Braeden', 'Eric Allen', 'Érik Canuel', 'Eric Nystrom', 'Erik Valdez', 'Erik Weatherhat', 'Eric IV', 'Eric Angle', 'Eric Christensen', 'Eric Bischoff', 'Eric Laneuville', 'Eric Cantor', 'Hans Geering', 'Erica', 'Eric Brewer', 'Erich Ludendorff', 'Erik Andersson', 'Eric R. Braverman', 'Eric Sbraccia', 'Erik Darling', 'Jamie Foxx', 'Eric Hoffer', 'Erik Mongrain', 'Cape Verdean', 'disc jockey', 'Eric Anundsson', 'Eric Nenno', 'Majdanek', 'Eric Sevareid', 'Eric Gilliland', 'Eric Rubin', 'Erich von Manstein', 'Eric Greitens', 'Erik Adolf von Willebrand', 'Eric Watts', 'Erik Rhodes', 'Skeleton Twins', 'Blade', 'Eric Bauman', 'Eric Nam', 'Erik Flensted-Jensen', 'Erik González', 'Erik Rico', 'Wolf', 'Eric Kripke', 'Eric Hiscock', 'Eric Swalwell', 'Erick Green', 'Elspeth Eric', 'Eric A. Havelock', 'Eric Pinkins', 'Éric Ripert', 'Erik Ivar Fredholm', 'Eric Holle', 'Eric Nkansah', 'Eric the Lawgiver', 'Eric Shinseki', 'Eric Clay', 'Eric Felton', 'Eric Heiden', 'Eirik Jensen', 'Slađana Erić', 'Erick Hallett', 'Eric Holmback', 'Eric Erlandson', 'Eric Gorfain', 'Praline', 'E. B. Wikramanayake', 'George Orwell', 'Eric Johnson', 'Eric Kwok', 'Erik Schmidt', 'Eric Griffin', 'Eric Yuan', 'Eric Liddell', 'Eric Adjetey Anang', 'Jem', 'Eric Montross', 'Erich Rudorffer', 'Eric Clapton', 'Eric Hayes', 'Eric H. Davidson', 'Eric Naposki', 'Edward', 'Eric Gale', 'Eric Gordon', 'Erik Santos', 'Eric Stanley', 'Dragon Quest XI', 'Erich Consemüller', 'Erick Neres da Cruz', 'Eric Garcetti', 'Eric Guggenheim', 'Eric Banks', 'Erik Del Bufalo', 'Eric Young', 'Erik Dekker', 'Eric Lindell', 'Erik Estrada', 'Erik Watts', 'Eric Himelfarb', 'Eric Berry', 'Eric Larson', 'Eric Moon', 'Erik Hamrén', 'Erik Palladino', 'Eric Turner', 'Eric Holcomb', 'Eric V', 'Erich Wasicky', 'Sweet Song', 'Eric Wennström', 'Frederic Farrar', 'Jelena Erić', 'Erik Gustaf Boström', 'Eric Adams', 'Eric Appel', 'Erik Björnsson', 'Erik Solbakken', 'Nenad Erić', 'Eric Holtz', 'Raymond E. Feist', 'Eric Gonzalez', 'Erik Salumäe', 'Eric Tsang', 'Erick McIntosh', 'Eric Singer', 'Erich Kästner', 'Eric X', \"Eric O'Dell\", 'Eric J. Essene', 'Eric Andrews', 'Erich Hartmann', 'Eric Thomas', 'Eerik', 'Erik Agard', 'Eric Lindros', 'Erick Pulgar', 'Christopher', 'Eric Martsolf', 'Erick Wainaina', 'Erich Brandenberger', 'Eric Bellinger', 'Erik Aadahl', 'Erik Gustaf Geijer', 'Eric Kandel', 'Eric Bentley', 'Eric Hosmer', 'Eric Arndt', 'Eric F. Goldman', 'Eric Winstanley', 'Eric Wikramanayake', 'Christopher Newsom', 'Magneto', 'Eric Maskin', 'Eric the Actor', 'Erick Castillo', 'Eric Friedler', 'Erik Swanson', 'Eric Esch', 'Eric Czapnik', 'Eric Charles Twelves Wilson', 'Eirik', 'Erik Karlsson', 'Eric', 'Eric Harper', 'Erik Breukink', 'Eric IX', 'Eric Albronda', 'Erik X', 'Eric Saarinen', 'Eric Darius', 'Erich Maria Remarque', 'Yukon Eric', 'Eric Roberts', 'Erik Ezukanma', 'Eric Arnold', 'Eric Bolling', 'Eric Gales', 'Erich Muhsfeldt', 'Erik Durm', 'Eric Edwards Jr.', 'Eric Still', 'Eric Cooke', 'Eric Wilkerson', 'Eiríkr Hákonarson', 'Eric Bruskotter', 'Erik Sowinski', 'Eric Stokes', 'Erich Gonzales', 'Eric Dever', 'Erich', 'Erik Ezelius', 'Levi', 'Eric Pollard', 'Erik Peterson', 'Erich Roth', 'Eric L. Clay', 'Eric Lively', 'Erik Nielsen', 'Eric Raymond', 'Erik de Zwart', 'Érick Gutiérrez', 'Erick Sermon', 'Erik Brahe', 'Eric Davidson', 'Eric Vale', 'Eric Whitacre', 'Eric the Half-a-Bee', 'Erick Berry', 'Eric Blore', 'Eric VI', 'Euric', 'Eric Boulter', 'Zoran Erić', 'Eric Benét', 'Erik De Vlaeminck', 'Eric Anderson', 'Eric XI', 'Éric Zemmour', 'Eric \"Bobo\" Correa', 'Eric Van Lustbader', 'Eric Saubert', 'Eric Gray', 'Erik Bryggman', 'Eric Quizon', 'Eric Mun', 'Eric Stoltz', 'Eric Parker', 'Eric Lange', 'Erik Zabel', 'Eric Jacobson', 'Micheal Eric', 'Erik Lehnsherr', 'Eric VII', 'Eric Mabius', 'Eric Peterson', 'Erick', 'Eric Frenzel', 'Erik Andersen', 'Eric Schmidt', 'Eric Bauza', 'Erik Laxmann', 'Erik Jorpes', 'Eric Ash', 'Erik Keedus', 'Eric Muenter', 'Erik Edman', 'Erik von Detten', 'Erik Frank', 'Eric Scott', 'Eric Staal', 'Eric Easton', 'Mauthausen', 'Eric Beishline', 'Erick Allen', 'Eric Yap', 'Éric de Cromières', 'Eric Embry', 'Erik Bottcher', 'Erika', 'Eric Jungmann', 'Eric Myers', 'Erik Lamela', 'Erik Carrasco', 'Eric XIII', 'Eric Esrailian', 'Eric Poole', 'Eric Dier', 'Erik Spoelstra', 'Eric Ambler', 'Eiríkr', 'Eric Hacker', 'Norse', 'Hubert Gruber', 'Eric Owens', 'Eric Matthews', 'Eric the Saint', 'Eric Zinterhofer', 'Erik Messerschmidt', 'Eric Radford', 'Erick Thohir', 'Eric Maxim Choupo-Moting', 'Eric Aho', 'Living Dolls', 'Eric Burdon', 'Eric Marlon Bishop', 'Eric Campbell', 'Fennoscandia', 'Eric Trolle', 'Eric Garcia', 'Ericus Olai', 'Eric Fromm', 'Eric Cobham', 'Erik Campbell', 'Eric XII', 'Eric Garror', 'Erik Mariñelarena', 'Eric Bell', 'Erik Christensen', 'John Galliano', 'Louis Vuitton', 'Publicis', 'Robert Wilson', 'Thebe Magugu', 'Tiffany', 'Cyril Ramaphosa', 'Frank Gehry', 'Arnault', 'Fendi', 'Bulgari', 'Lee', 'Meadham Kirchhoff', 'Controversy', 'Jewelry', 'Bruno Peinado', 'Leon Marchand', 'Loro Piana', 'Shigeru Ban', \"Château d'Yquem\", \"Marques'Almeida\", 'Whispering Angel', 'George V', 'Givenchy', 'Moët Hennessy', 'Moet Hennessy', 'Tim White-Sobieski', 'Andrée Putman', 'Philanthropy', 'Simone Rocha', 'Stella McCartney', 'James Turrell', 'Thomas Tait', 'Sebastian Suhl', 'Maxim Vengerov', 'Loewe', 'Watches', 'Bernard Squarcini', 'Humanitarian', 'Sephora', 'Laurent Korcia', 'Diageo', 'Horace Dodge', 'Robichaud', 'Delphin', 'Roger Capellani', 'Germaine de Staël', 'Boucicaut', 'Marguerite Boucicaut', 'Metz', 'rue du Bac', 'Arthur Anderson', 'Rougon', 'Paul Follot', 'Charpentier', 'Aristide Boucicaut', 'Paul', 'Au Bonheur des Dames', 'Cape', 'Princeton', 'Le Bon Marché', 'Bon Marche', 'Sally Aitken', 'Louis-Charles Boileau', 'Gustave Eiffel', 'The Bon Marché', 'Galerías Pacífico', 'Printemps', 'Gil Blas', 'Fitzroy Dearborn', 'Cinderella', 'Boileau', 'Caen', 'Kathleen Nord', 'Clavia', 'Keith Nord', 'Norte', 'Ole Tom Nord', 'Luna Amară', 'North', 'Elizabeth Nord', 'A. G. Cook', 'John Nord', 'Thomas Nord', 'Chemins de fer', 'Daniel Nord', 'Walter R. Nord', 'Bjorn Nord', 'Christiane Nord', 'Pierre Nord', '7G', 'Die Linke', 'Richard Nord', 'Andrew Bird', 'Chali 2na', 'Champagne Mercier', 'Claude Moët', 'Moet', 'Nas', 'Goodnight', 'Carey', 'Lil Uzi Vert', 'Craig David', 'Dom Pierre Pérignon', 'marijuana', 'Reach Out', 'MF Doom', 'Ava Max', 'Sponsorships', 'Dom Perignon', 'Benedictine', 'Hennessy Cognac', 'Roger Federer', 'Garibaldi', 'Tini Stoessel', 'Queen', 'Tom Stevenson', 'Medusa', 'Domaine Chandon', 'Jacques Ibert', 'Kateřina Jacques', 'Jacques Riparelli', 'Spyro', 'Jacques La Degaillerie', 'David Jacques', 'Jean-Jacques', 'John Jacques', 'Roger Jaques', 'Jacques Mazoin', 'Jacques Monod', 'Jakes', 'James', 'William II', 'England', 'Aaron Elkins', 'Richard Jacques', 'Jacques Rancière', 'Jacques Hanegraaf', 'Jaques', 'Jacques Abady', 'Jacques Blanc', 'Jacques Puisais', 'Jacques Loeb', 'Jacques de Molay', 'Jacques Follorou', 'Jacques Offenbach', 'Jacques Kallis', 'Jacques Prévert', 'Jaak', 'Jacques Snicket', 'Martin Jacques', 'Cheryl Jacques', 'Gravesham', 'The Noose', 'Jeeks', 'Jeke', 'Jacques Chapiro', 'Harold', 'Jacques Brel', 'Andrew Jackson', 'Jackson', 'Jacques Zon', 'Jean', 'Jacques Delors', 'Jacques Pépin', 'Jacques Yoko', 'Skeleton Dance', 'Jacques Rit', 'Jacques Rougeau', 'Jacques Anquetil', 'Jacques-Yves Cousteau', 'Onimusha', 'Jackel', 'Jacques du Toit', 'Jeex', 'Jaquiss', 'Jacques Rudolph', 'Jacques Stroweis', 'Jacques Webster', 'Hattie Jacques', 'James the Greater', 'Jean-François Jacques', 'Thomas', 'Jacques Stas', 'Jacques Urbain', 'Jacques Brinkman', 'Nether Silton', 'Jacques Rivette', 'Jeph Jacques', 'Jacques Cartier', 'Harold Godwin', 'Jean de Carrouges', 'Jacques le Gris', 'Hereditary Prince', 'Jacques-Louis David', 'Jacques Rogge', 'Christine Feehan', 'Wizard 101', 'Jacques Plante', 'Jacques Derrida', 'Jacques Parizeau', 'Dol', 'Jacques Chirac', 'Jockel', 'Jacques Villeneuve', 'Jacques Tati', 'Jacques Dutronc', 'Jacques Pucheran', 'M.A.S.K.', 'Jacqueline', 'Jacques Marquette', 'Norman French', 'Leslie Innes Jacques', 'Jacques Frémontier', 'Victor Jacques', 'Jacob', \"William Shakespeare's\", 'Jacques Robert', 'Malagasy', 'Jacques Maritain', 'Jacques Lacan', \"Jacques D'Amours\", 'Normandy', 'Jacques Clouseau', 'Jacques Barzun', 'Brian Jacques', 'Saxon', 'Jacques Landry', 'Jacques Ochs', 'Jacq', 'Jacques Bessan', 'Jacques Deray', 'Yaaqov', 'Jacques Arnold', 'Thomas Jacques', 'Rémy Jacques', 'Jack', 'Jacques Onana', 'Jaquez', 'Jacques Grimaldi', 'Jacques Zabor', 'Travis Scott', 'Jacques Sylla', 'Jacques Gaillot', 'Jacques von Hämsterviel', 'Jacques Massu', 'Rale', 'Jacques Beckers', 'Jacques Faty', 'Jacques Feyder', 'Jacques Erwin', 'William I', 'Jacques Ellul', 'Roberta Helmer', 'Roberta Flack', 'Roberta Rudnick', 'Roberta Sá', 'Roberta Seelinger Trites', 'Roberta Miranda', 'Roberta McCallum', 'Roberta Gentini', 'Roberta Close', 'Roberta Sherwood', 'Joni Mitchell', 'Roberta Karmel', 'Roberta Arnold', 'Roberta Tomber', 'Roberta Maxwell', 'Roberta Lange', 'Roberta Moretti Avery', 'Roberta Sessoli', 'Roberta Linn', 'Roberta Marinelli', 'Roberta Marques', 'Roberta Allen', 'Roberta Crenshaw', 'Roberta Tamondong', 'Roberta Smith', 'Roberta Felotti', 'Roberta Rabellotti', 'Roberta Rosenthal Kwall', 'Roberta Naas', 'Roberta Lawson', 'Roberta Mancino', 'Roberta Woodgate', 'Roberta Wilson', 'Roberta Gottlieb', 'Roberta Valderrama', 'Roberta Bondar', 'Roberta M. Feldman', 'Roberta Collins', 'Roberta Teale Swartz', 'Roberta Knie', 'Roberta Einer', 'Roberta Dapunt', 'Roberta Panara', 'Roberta Eike', 'Roberta Vinci', 'Roberta Thornley', 'Roberta Marrero', 'Roberta Wohlstetter', 'Roberta Guaspari', 'Roberta Guerrina', 'Roberta Bonanomi', 'Roberta Faccin', 'Roberta Serra', 'Roberta Kelly', 'Roberta Howett', 'Roberta Cowing', 'Roberta Martin', 'Roberta Williams', 'Roberta Annan', 'Roberta Rodrigues', 'Roberta M. Humphreys', 'Roberta McCain', 'Roberta Millstein', 'Roberta Dodd Crawford', 'Roberta Farinelli', 'Roberta Lepper', 'Roberta Lucca', 'Roberta Angelilli', 'Roberta Hyson', 'Roberta Peters', 'Roberta Byrd Barr', 'Roberta Fox', 'Roberta Hoskie', 'Roberta Washington', 'Roberta Alenius', 'Roberta Marzani', 'Roberta Rees', 'Roberta Lima', 'Roberta Hamme', 'Roberta Silva', 'Roberta Gemma', 'Roberta MacAdams', 'Roberta Bruni', 'Roberta Gambarini', 'Roberta Achtenberg', 'Roberta Freeman', 'Roberta Gellis', 'Roberta Alaimo', 'Roberta Materi', 'Roberta Richman', 'Roberta Michnick Golinkoff', 'Roberta Rodeghiero', 'Roberta Shepherd', 'Roberta Degnore', 'Roberta Gale', 'Roberta Sheridan', 'Roberta Fernández', 'Roberta Klatzky', 'Roberta Farrell', 'Roberta MacGlashan', 'Roberta Hanley', 'Roberta Hill Whiteman', 'Roberta Joan Anderson', 'Roberta Metsola', 'Roberta Fulbright', 'Roberta Voss', 'Roberta Hodes', 'Roberta McRae', 'Roberta Whyte', 'Roberta Latow', 'Roberta J. Nichols', 'Roberta Bianconi', 'Roberta Colindrez', 'Roberta Kevelson', 'Roberta Invernizzi', 'Roberta Lombardi', 'Tejana', 'Roberta Pedranzini', 'Roberta Lanzarotti', 'Roberta Donnay', 'Roberta González', 'Robert', 'Roberta Kalechofsky', 'Roberta Geremicca', 'Roberta Marquez', 'Roberta Groner', 'Roberta Romano', 'Roberta I. Shaffer', 'Roberta Ratzke', 'Roberta Anastase', 'Roberta Alexander', 'Roberta Zambrano', 'Roberta Gilchrist', 'Roberta Hubley', 'Roberta Capua', 'Roberta Faccani', 'Roberta Grossman', 'Roberta Foster', 'Roberta Leigh', 'Roberta L. Hazard', 'Roberta Findlay', \"Roberta O'Brien\", 'Roberta Kaplan', 'Roberta Monaldini', 'Roberta Sinatra', 'Roberta Jull', 'Roberta Jamieson', 'Roberta Brunet', 'Roberta Cordano', 'Roberta L. Raymond', 'Roberta Baskin', 'Roberta Pinotti', 'Roberta Sigel', 'Roberta Taylor', 'Roberta A. Ballard', 'Roberta Haynes', 'Katie Leclerc', 'J.K. Rowling', 'Mark Millar', 'Katie Melua', 'Voltron', 'Katie Tallo', 'Katie Featherston', 'Katie Waissel', 'Teletoon', 'Caitlin', 'Katie Griffin', 'Katie Cassidy', 'Katie Taft', 'Katie Lucas', 'Katy', 'Katie Underwood', 'Katie Holmes', 'Katie Bush', 'Katie Thorlakson', 'Katie Ledecky', 'Katie Brown', 'Katie May', 'Percy Jackson', 'Skins', 'Rick Riordan', 'Pidge Gunderson', 'Katie Savannah Steele', 'Katie Aselton', 'Katie Swan', 'Katie Walker', 'Katie Levick', 'Katie Gregson-MacLeod', 'Katie Clark', 'Katie Hafner', 'Katie Logan', 'Katie Mitchell', 'Kathleen', 'Katie Hoff', 'Katie Peretti', 'Katie Kim', 'Jordan', 'Katie Rough', 'Katie McGrath', 'Katie Fitch', 'Katie McVicar', 'Katie Matlin', 'Katie Leung', 'Katie Hnida', 'Katie Piper', 'Katie Price', 'Katie Heaney', 'Katie Kittermaster', 'Katie Knipp', 'Katie Taylor', 'Bold', 'Katie Sowers', 'Katie Hill', 'Katie Mack', 'Katie Couric', 'c.\\u2009 ', 'Katie Boulter', 'Katie Anderson', 'Katie Finneran', 'Katie Perry', 'Andrew Unger', 'Katie Davis', 'Katie Sugden', 'Katie Hillier', 'Katie Kissoon', 'Big Time Rush', 'Nick Jr.', 'Mitchells', 'Katie White', 'Robert Morden', 'Richard Bingham', 'Russ', 'miglia', 'John Murray', 'Owen', 'Dorsetshire', 'Hagia Sophia', 'Perches', 'Dutton', 'Aneurin', 'Zupko', 'WGS84', 'Evans', 'Bigg', 'Rowlett', 'Mysteries', 'Hugh', 'Furlong', 'Edgar', 'Gaithersburg', 'Tam', 'J.H.', 'Doc', 'Metre', 'Milner Gibson', 'Ostrów Tumski', 'Agrippa', 'al.', 'Henry James', 'Roman', 'Henry Williams', 'Ab Urbe Condita', 'Jan', 'Encyclopædia Britannica', 'Glasgow', 'mile', 'kilometre', 'Winchester', 'Magna Carta', 'Ole Rømer', 'Frank', 'Livy', 'Miss Dior', 'Hypnotic Poison', 'Cha Eun-woo', 'Boussac', 'Jules', 'Catherine Dior', 'Mick Jagger', 'Charles James', 'Kim Ji-soo', 'Rachel Zegler', 'Hedi Slimane', 'Skin', 'Carla Bruni', 'Dior Homme', 'Hedi', 'Stüssy', 'Azzedine Alaïa', 'Maria Grazia', 'Raymond Pettibon', 'Gaston', 'Margaret', 'Ferré', 'Mélanie Laurent', 'Yoon Ahn', 'Sidney Toledano', 'Daniel Arsham', 'Mountbatten', 'Lanvin', 'Douglas Cox', 'Waikiki', 'Ava Gardner', 'Cara Delevingne', 'Van Assche', 'Deva Cassel', 'Pierre Cardin', 'Alycia', 'Maria Grazia Chiuri', 'Marcel Boussac', 'Philippe', 'Coco Chanel', 'Hajime Sorayama', 'Ginza', 'Willow Smith', 'Hitler', 'Demi Moore', 'Lady Pamela Hicks', 'Eva Green', 'Nicole Kidman', 'Park Ji-min', 'Kris Van Assche', 'Albert Museum', 'Gae Aulenti', 'Jung Hae-in', 'Donatella Versace', 'Olivier Theyskens', 'Secret Garden', 'Anna Wintour', 'The Prince of Wales', 'Sofia Mechetner', 'Marion Cotillard', 'Harold Koda', 'Adjani', 'Elizabeth Taylor', 'Kang Hae-rin', 'Shawn Stussy', 'Saint Laurent', 'Brian Donnelly', 'Miuccia Prada', 'Elizabeth Debicki', 'Christopher Kane', 'Jaime King', 'Jennifer Lawrence', 'Natalie Portman', 'Alexandra', 'Marc Bohan', 'Riccardo Tisci', 'Milla Jovovich', 'Diane von Fürstenberg', 'Jude Law', 'Diana', 'Beauty', 'Victoria', 'Thom Browne', 'Galliano', 'Simons', 'Lady Diana Spencer', 'Gucci', 'Mark Robson', 'Alber Elbaz', 'Harvey Weinstein', 'Jill', 'Johnny', 'Lady Dior', 'Delphine Arnault', 'Nick Knight', 'Lee Jun-ho', 'Beau Monde', 'Peter Marino', 'Monica Bellucci', 'Joy', 'Mila Kunis', 'Vivienne Westwood', 'Roger Vivier', 'Mario Sorrenti', 'Gianfranco Ferré', 'Patrick Leahy', 'Steve Carell', 'Mark Bezos', 'MacKenzie Bezos', 'Lachlan Murdoch', 'Rekognition', 'Gregg Zehr', 'Jeff', 'Michael', 'Altos Labs', 'Brad Stone', 'Eva Longoria', 'Zefram Cochrane', 'Jeff Immelt', 'Mike Bezos', 'Richard Branson', 'John Conyers', 'Tau Beta Pi', 'Yuri Milner', 'Mohammad bin Salman', 'Businessperson', 'David Geffen', 'Kyle Mooney', 'Van Jones', 'Greg Hart', 'James Mattis', \"Mark O'Connell\", 'Rob Meyerson', 'Wally Funk', 'Sharan Burrow', 'Forbes', 'Jacklyn', 'Tom', 'Andy Jassy', 'MacKenzie Tuttle', 'Dolly Parton', 'Virgin Galactic', 'Haven', 'Scott', 'Mike', 'Steve Horvath', 'D. E. Shaw', 'Warren Buffett', 'Charlie Rose', 'José Andrés', 'Rocketdyne', 'Bernie Sanders', 'Patty Murray', 'Nellie Bowles', 'Bob Iger', 'Walt Mossberg', 'Hal Barron', 'Oliver Daemen', 'Ted Jorgensen', 'Spencer Abraham', 'Juno Therapeutics', \"Tim O'Reilly\", 'Lawrence', 'Jamie Dimon', 'Lauren Sánchez', 'MacKenzie Scott', 'Kshama Sawant', 'Shinya Yamanaka', 'Jeff Bezos', 'Bezos Expeditions', 'Gavin de Becker', 'David Pecker', 'Maria Cantwell', 'Don Graham', 'Jorgensen', 'John Lewis', 'Bill McRaven', 'Jeffrey Preston Jorgensen', 'Rod McKuen', 'Jeanne', 'Marvin Hamlisch', 'Sternwheeler Jean', 'Jehanne', 'Jean Pierre Polnareff', 'JoJo', 'Jean Valjean', 'Jean Grey', 'Bezos', 'David Wain', 'Edwin J. Collins', 'Victor Mature', 'Melina Mercouri', 'Bette Midler', 'Holman', 'Randy Cassingham', 'Barry Richmond', 'Emeric Bergeaud', 'Stela', 'Pizzo Stella', 'Stell', 'Liguria', 'Monte Stella', 'Kim', 'Jan de Hartog', 'Michael Ian Black', 'Ann Sheridan', 'Michael Showalter', 'Stella Polaris', 'Stella Maris', 'Stella Award', 'Corno Stella', 'Luigi Cozzi', 'Geographic', 'Michael Cacoyannis', 'Alain Chevalier', 'Elizabeth', 'Nawab Begum', 'Adrian FitzGerald', 'Georg Ritter von Trapp', 'Lady McCartney', 'Elton John', 'King Edward VI', 'aketon', 'Reconquista', 'Knighthood', 'Historia Regum Britanniae', 'Norma Major', 'Queen Mary', 'Ridder', 'Jacobite', 'Frank De Winne', 'sally', 'Avis', 'Edward III', 'Earls Palatine', 'Realm', 'Gawain', 'Easter', 'Knight Bachelor', 'Amadeus VI', 'King Arthur', 'Charles the Bold', 'James II', 'Derek Pattinson', 'Green Knight', 'Medieval', 'Children', 'Black Knight', 'Heinrich Maier', 'Thomas Malory', 'Norman Cardinal Gilroy', 'Angélique Brûlon', 'Isabella', 'Dame Julie Andrews', 'St George', 'Adolfo Suárez', 'Edmund Fitzgibbon', 'Order of Saint Patrick', 'Paul McCartney', 'Saint George', 'Bernhard von Clairvaux', 'Holy Roman Empire', 'Steven Spielberg', 'Alexander IV', 'Charles the Bald', 'Garter', 'Miles Christi', 'John Major', 'Saracen', 'Écuyer', 'Charlemagne', 'Don Quixote', 'Bhopal', 'Bath', 'Lazarus', 'Lady', 'Elton', 'George I', 'Charles III', 'Nelson Mandela', 'gauntlet', 'Squire', 'Louis XI', 'Geoffrey', 'King James VII', 'Charles I', 'Charles Martel', 'Beltz', 'Knights Hospitaller', 'Akihito', 'Philip III', 'Ben Murdoch-Masila', 'Ben Underwood', 'Ben Vautier', 'Ben Braun', 'Ben Roy Mottelson', 'bin', 'Ben Moody', 'Ben Drowned', 'Ben Carson', 'Ben Kasica', 'Ben Fayot', 'Ben Shneiderman', 'Ben Parker', 'Ben Plucknett', 'Ben Gibson', 'Ben Gordon', 'Ben Howard', 'Ben Stein', 'Ben Herbert', 'Ben Feldman', 'Ben Curtis', 'Ben Jonson', 'Ben Templeton', 'Ben Simmons', 'Ben Gillies', 'Ebenezer', 'Ben Daley', 'Ben Verweij', 'Ben Wyatt', 'Ben Ownby', 'Ben Folds', 'Luxembourgian', 'Benny', 'Ben Bradlee', 'Ben Smith', 'Ben Ellefson', 'Ben Kinsella', 'Ben Lowe', 'Ben Mulroney', 'Ben Cousins', 'Motley', 'Ben Sinnott', 'Ben Roethlisberger', 'Ben Bartch', 'Ben Keays', 'Ben Cohen', 'Ben Cutting', 'Ben Talley', 'William Faulkner', 'Ben Hogan', 'Ben Fordham', 'Ben Jackson', 'Ben Lane', 'Ben Bredeson', 'Ben Banogu', 'Ben Gedeon', 'Ben Bishop', 'Ben Urich', 'Ben Barnes', 'Ben Cleveland', 'Ben Thatcher', 'Ben Gunn', 'Ben 10', 'Ben Harper', 'Ben Barba', 'Peter Parker', 'Ben Whishaw', 'Ben Kane', 'Ben Jelen', 'Ben Hunt', 'Ben Franklin', 'Spider-Man', 'Ben Harvey', 'Ben Garland', 'Ben Sheets', 'Benjamin', 'Ben Taylor', 'Ben Davis', 'Ben Collins', 'Ben Hannant', 'Ben Wilson', 'Ben Tennyson', 'Ben Wildman-Tobriner', 'Ben Tulfo', 'Ben Lawson', 'Ben Eager', 'Ben Solo', 'Bill', 'Ben Miller', 'Ben Browder', 'Ben Skywalker', 'Ben Crenshaw', 'Ben Hardy', 'Ben Gibbard', 'Ben Kingsley', 'Ben Kweller', 'Ben Richards', 'Ben Coleman', 'Ben Platt', 'Ben Burr-Kirven', 'Ben Selvin', 'Ben Folami', 'Ben Edwards', 'Ben Swagerman', 'Gentle Ben', 'Ben Wallace', 'Ben Mason', 'Ben Schwartz', 'Ben Moore', 'Ben Stiller', 'Ben Shapiro', 'Ben Needham', 'Ben Niemann', 'Ben Powers', 'Ben Sahar', 'Ben Way', 'Ben Simm', 'Ben Becker', 'Ben Bartlett', 'Ben Chilwell', 'Ben Woodburn', 'Holly', 'Ben E. King', 'Ben Carter', 'Ben Johnson', 'Ben Eisenhardt', 'Ben Guez', 'Ben Burman', 'Ben Navarro', 'Ben Johns', 'Ben Adams', 'Ben Ashkenazy', 'Ben Domenech', 'Ben Wanger', 'Willard', 'Ben Mendelsohn', 'Ben Axtman', 'Ben Clime', 'Ben Cross', 'Ben Unwin', 'Ben Askren', 'Ben Chase', 'Parks', 'Ben Leber', 'Ben Bernanke', 'Ben DiNucci', 'Ibn', 'Ben Jeby', 'Ben J. Pierce', 'Ben Gottschalk', 'Stephens', 'Stevens', 'Stevan', 'Stevenson', 'Stephanus', 'Stijepo', 'Steve', 'Stephenson', 'Staffan', 'Serbo-Croatian', 'Esteban', 'Stephen', 'Стефан', 'Stipa', 'Stevie', 'Stefan', 'Helen Steven', 'Zaporizhzhia Oblast', 'Arnauts', 'Budzhak', 'Arvanid', 'Luisa Rossi', 'Anouk Aimée', 'Luisel Ramos', 'Luisella', 'Luisa Micheletti', 'Luisa Ranieri', 'Luisa María Calderón', 'Luisa DiPietro', 'Luisa Bradshaw-White', 'Luisa Morgantini', 'Luisa Ottolini', 'Luisa Durán', 'Luisa Sala', 'Luisa Stefani', 'Luisana Pérez', 'Luisa Baldini', 'Luisana Lopilato', 'Luisa Castro', 'Luisa Casati', 'Luisa Cáceres de Arismendi', 'Yara Martinez', 'Chlodowig', 'Luisa Zissman', 'Jessica Darrow', 'Luisana Melo', 'Tom Jobim', 'Luisa Menárguez', 'Luisa Värk', 'Luisa Torsi', 'Carla Baratta', 'Luisa Martín', 'Luisa Eugenia Navas', 'Luisa Madrigal', 'Louise', 'Luisa Piccarreta', 'Antônio Carlos Jobim', 'Luisa Görlich', 'Luisa Teresa Pacheco', 'Luisa Rivelli', 'Luisa Roldán', 'Luisa Wilson', 'Luisa Tetrazzini', 'Giuseppe Verdi', 'Luigia', 'Luisana', 'Luisa Ferida', 'Luisa Capetillo', 'Luisa Miller', 'Luísa Diogo', 'Luisa Moreno', 'Staci Keanan', 'Franz Waxman', 'La Lisa', 'Lisa Lisa', 'Lisa assembler', 'Lisa Komine', 'Ogun', 'Liza', 'LISA Pathfinder', 'Leesa', 'Cult Jam', 'Amiga', 'Lisammayude Veedu', 'Liisa', 'Stephen Boyd', 'Cheryl Ladd', 'Karan', 'Gaby', 'Emily Ratajkowski', 'Stanton', 'Donna Karan Collection', 'PURE', 'Brandon Stanton', 'Donna Karan', 'William Harrison Binnie', 'Psalms', 'Alex Binnie', 'Binnie Roberts', 'Ian Binnie', 'Christopher Binnie', 'Alexander Binnie', 'Geoffrey Binnie', 'Binnie Kirshenbaum', 'Edward Binnie', 'William Binnie', 'Brian Binnie', 'Stewart Manor', 'Clan Stewart', 'Steward', 'Stew', 'Tolman', 'John Everett Millais', 'Lucía Méndez', 'Pre-Raphaelite', 'Heinz Doofenshmirtz', 'Nessa', 'Samuel Barber', 'Bernie Wayne', 'Jonathan Swift', 'Andrijana', 'Andra', 'Andrée', 'Andrej', 'Maltese', 'Andrée-Anne', 'Andréanne', 'Andréia', 'Marie-Andrée', 'Andrey', 'Macedonian', 'Andy', 'Andreus', 'Ondřej', 'Scottish Gaelic', 'Masculine', 'Estonian', 'Andrea', 'Aindriú', 'Andreja', 'Andrzej', 'Anderson', 'Andrei', 'Andrés', 'Andrij', 'Andros', 'Andi', 'Cai', 'Bassaleg', 'Cyfyw', 'Bedwyr', 'Cadoc', \"St. Basil's\", 'Gelligaer', 'Maches', 'Arthur', 'James Ross Island', 'Mark', 'MSC Marc', 'Marc Bolan', 'MARC Train', 'Saint Lucia', 'Marcus', 'Marc Marc', 'Antawn Jamison', 'Antoine Brooks', 'Antoine Winfield', 'Antoine Arnauld', 'Burgundy', 'Antoine Gomis', 'Anthony', 'Anthoine', 'Antoine Caldwell', 'Antoine Béchamp', 'Alexandre Barbier', 'Antoine Dénériaz', 'Antonin', 'Antoine Ghanem', 'Antoine Griezmann', 'Antoine Héroet', 'Antoine Bibesco', 'Lemierre', 'André Antoine', 'Antoine Carr', 'Antoine Cason', 'Guiana', 'Antoine Drouot', 'Antoine Sonrel', 'Jonathan Antoine', 'Antoine Wesley', 'Antoine Clamaran', 'Antoine Claire Thibaudeau', 'Antoine Winfield Jr.', 'Antoine Bertier', 'Antoine Fuqua', 'Antoine McColister', 'Vinessa Antoine', 'Antoine Ashley', 'Antoine Sibierski', 'Antoine Schouten', 'David Alan Grier', 'Antoine Carraby', 'Louis-Joseph Antoine', 'DJ Yella', 'Burkina Faso', 'Domino', 'Antoine Lavoisier', 'Guianan', 'Antoine Green', 'Antoine Coupland', 'Antionette', 'Antoine Domino', 'Muay Thai', 'DeAntoine Beasley', 'Antoine Sakr', 'Antowain Smith', 'Antoine Bethea', 'Antoine Étex', 'Ray Kroc', 'Foundered', 'Diego Vicentini', 'Simon Necronomicon', 'Saint-Simon', 'Șimon', 'George Sand', 'Simao', 'Simeon', 'Alan Arkin', 'Shimun', 'Gruvis Malt', 'Eugène Simon', 'Simone', 'Víctor Isla', 'Ile', 'Glen Isla', 'Mauricio Isla', 'Ila', 'Perthshire', 'Raymond Bernard', 'Bernard Sachs', 'Bernard Tomic', 'Bernard Stoeser', 'Henry Boyle Bernard', 'William Bernard', 'Bernhard', 'Bernard Coyne', 'Jacques Bernard', 'Abbot', 'Hilda Bernard', 'Sri Lankan', 'Bernard of Kilwinning', 'Freyberg', 'Bernard Hinault', 'St Davids', 'Bernard Koura', 'Oliver Percy Bernard', 'Armand Bernard', 'Bernard Guignedoux', 'Bernard Perera', 'Bernard Alvarez', 'Bernard Mohlalisi', 'Dave Bernard', 'Bernard Tapie', 'Bernie Taupin', 'David McKee', 'Dwight Bernard', 'Bernard Nadler', 'Raymond W. Bernard', 'Catherine Bernard', 'Daniel Bernard', 'Sherman A. Bernard', 'Bernard Anício Caldeira Duarte', 'Zorro', 'Bernard Spilsbury', 'Saint Bernard', 'Bernard Whitman', 'Bernard Wiseman', 'Bernard McCullough', 'Bernard Manning', 'Roman Catholic', 'George Bernard Shaw', 'Bernard Woolley', 'Bernard Hall', 'M. Butterfly', 'Bernard Caprasse', 'Bernard Lagat', 'Bernard Cerquiglini', 'Bernard of Quintavalle', 'Bernard Tilakaratna', 'Carlos Bernard', 'Bernard Dowiyogo', 'Hauts-de-France', 'Bernard Parrish', 'Bernard Orcel', 'Bernard Madoff', 'Bernard Berrian', 'Bernard Marx', 'Bernard Cribbins', 'Bernard Kalb', 'Bernard Malamud', 'Bernard T. Feld', 'Jean-David Bernard', 'Bernard Bresslaw', 'Lawrence G. Bernard', 'Bernard Cottret', 'Bernard Looney', 'Rod Bernard', 'Oliver Bernard', 'Bernard Fox', 'Bernard Shaw', 'Bernard Baruch', 'NASCAR', 'Bernard Sumner', 'Bernard Lepkofker', 'Susan Bernard', 'Bernard Hopkins', 'Bernard Ménétrel', 'Bernard Wolfman', 'Nikhil Bernard', 'Bernard Vogler', 'Bernard Peiris', 'Bernard Soysa', 'Brandon Bernard', 'Bernard Satenstein', 'Bernard Jayasuriya', 'Bernard Schuiteman', 'Wynton Bernard', 'Bernard Henry', 'Bernard Shir-Cliff', 'Bernard Ładysz', 'Bernard Edwards', 'Ed Bernard', 'Francis Bernard', 'Brittany', 'Jeffrey Bernard', 'Bernard Herrmann', 'John Henry Bernard', 'Bernard Freeman', 'Bernard Bonnejean', 'Henry Bernard', 'Bernard Montgomery', 'Jean-Pierre Bernard', 'Bernard Charvin', 'Barney', 'Bernard Lowe', 'Bernard Boursicot', 'Bernard Lee', 'Bernard Matthews', 'Saint Barthélemy', 'Bernard Gui', 'Marvin Bernard', 'Bernard Fanning', 'Bernard Blaut', 'Gaeta', 'Clairvaux', 'Bernard Bober', 'Léonce Bernard', 'Tristan Bernard', 'Edward Bernard', 'Matt Bloom', 'Jules Bernard', 'Bernard McGinley', 'Bernard Black', 'Suzanne Bernard', 'Bernard Freyberg', 'Cheryl Bernard', 'Bernard Zehrfuss', 'David Bernard', 'Joseph E. Bernard', 'Giovani Bernard', 'Claude Bernard', 'Bernard Butler', 'Bernard of Verdun', 'Bernard Aluwihare', 'Samuel Bernard', 'Bernard Hill', 'Bernard Rajzman', 'Bernard Bernoulli', 'Joseph Karl Bernard', 'Bleu', 'Andy Warhol', 'Pierre Restany', 'Marie Raymond', 'Armand Fernandez', 'Jacques Villeglé', 'Claude Chabrol', 'Nouveau Réalisme', 'Willem de Kooning', 'Pascal', 'Fred Klein', 'Samothrace', 'Edouard Adam', 'Olivier Berggruen', 'Jean Tinguely', 'Contemporary Art', 'Void', 'Thomas McEvilley', 'Gérard Deschamps', 'Roland Dahinden', 'Raymond Hains', 'Les Godelureaux', 'Daniel Spoerri', 'Klein', 'dan', 'Claude Pascal', 'Composer', 'Yves Peintures', 'Resistance is Futile', 'Rotraut', 'Rotraut Klein-Moquay', 'Nicky Wire', 'Abbi Jacobson', 'Christo', 'Berggruen', 'Arman'])"
      ]
     },
     "execution_count": 33,
     "metadata": {},
     "output_type": "execute_result"
    }
   ],
   "source": [
    "level_3.keys()"
   ]
  },
  {
   "cell_type": "markdown",
   "id": "41b6b930-8874-4c1c-8abf-00aca77edac4",
   "metadata": {},
   "source": [
    "*Depth level 4 computation*"
   ]
  },
  {
   "cell_type": "code",
   "execution_count": null,
   "id": "b494f0df-3226-41c6-9f55-762e88ac3215",
   "metadata": {},
   "outputs": [],
   "source": [
    "level_4 = {}\n",
    "for owner in level_3.keys():\n",
    "    for person in level_3[owner]:\n",
    "        try:\n",
    "            if my_wiki.page(person).exists(): \n",
    "                wiki_page = my_wiki.page(person) \n",
    "                text = wiki_page.text \n",
    "                person_doc = nlp(text) \n",
    "                person_ents = person_doc.ents \n",
    "                below = [entity.text for entity in person_ents if entity.label_ == 'PERSON']\n",
    "                below = set([x for x in below if not (x == person)])\n",
    "                below = list(below)\n",
    "                level_4.update({person:below})\n",
    "        except KeyError:\n",
    "            continue"
   ]
  },
  {
   "cell_type": "markdown",
   "id": "038df3bc-5c40-43fa-ac16-86139d62f815",
   "metadata": {},
   "source": [
    "*Depth level 5 computation*"
   ]
  },
  {
   "cell_type": "code",
   "execution_count": null,
   "id": "70b0e529-4376-4d50-94e3-aefc4a43f648",
   "metadata": {},
   "outputs": [],
   "source": [
    "level_5 = {}\n",
    "for owner in level_4.keys():\n",
    "    for person in level_4[owner]:\n",
    "        try:\n",
    "            if my_wiki.page(person).exists(): \n",
    "                wiki_page = my_wiki.page(person) \n",
    "                text = wiki_page.text \n",
    "                person_doc = nlp(text) \n",
    "                person_ents = person_doc.ents \n",
    "                below = [entity.text for entity in person_ents if entity.label_ == 'PERSON']\n",
    "                below = set([x for x in below if not (x == person)])\n",
    "                below = list(below)\n",
    "                level_5.update({person:below})\n",
    "        except KeyError:\n",
    "            continue"
   ]
  },
  {
   "cell_type": "markdown",
   "id": "410e1981-bf3d-4094-8ee1-18dfaa624f7a",
   "metadata": {},
   "source": [
    "*Depth level 6 computation*"
   ]
  },
  {
   "cell_type": "code",
   "execution_count": null,
   "id": "935e5da9-bf9c-45f4-b861-f0607040d7bf",
   "metadata": {},
   "outputs": [],
   "source": [
    "level_6 = {}\n",
    "for owner in level_5.keys():\n",
    "    for person in level_5[owner]:\n",
    "        try:\n",
    "            if my_wiki.page(person).exists(): \n",
    "                wiki_page = my_wiki.page(person) \n",
    "                text = wiki_page.text \n",
    "                person_doc = nlp(text) \n",
    "                person_ents = person_doc.ents \n",
    "                below = [entity.text for entity in person_ents if entity.label_ == 'PERSON']\n",
    "                below = set([x for x in below if not (x == person)])\n",
    "                below = list(below)\n",
    "                level_6.update({person:below})\n",
    "        except KeyError:\n",
    "            continue"
   ]
  }
 ],
 "metadata": {
  "kernelspec": {
   "display_name": "Python 3 (ipykernel)",
   "language": "python",
   "name": "python3"
  },
  "language_info": {
   "codemirror_mode": {
    "name": "ipython",
    "version": 3
   },
   "file_extension": ".py",
   "mimetype": "text/x-python",
   "name": "python",
   "nbconvert_exporter": "python",
   "pygments_lexer": "ipython3",
   "version": "3.9.13"
  }
 },
 "nbformat": 4,
 "nbformat_minor": 5
}
