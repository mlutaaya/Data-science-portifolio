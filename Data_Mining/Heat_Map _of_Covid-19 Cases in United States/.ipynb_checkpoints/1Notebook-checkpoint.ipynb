{
 "cells": [
  {
   "cell_type": "markdown",
   "id": "8f611b37-46b4-4e86-b088-c6d6d5e9de96",
   "metadata": {},
   "source": [
    "# Heat Map of Covid-19 Cases in United States"
   ]
  },
  {
   "cell_type": "markdown",
   "id": "36594249-1fd4-4a43-9d1f-5c3a34014828",
   "metadata": {},
   "source": [
    "Coronaviruses are a large family of viruses that may cause illnesses in animals or humans. In humans, several coronaviruses are known to cause respiratory infections ranging from the common cold to more severe diseases such as Middle East Respiratory Syndrome (MERS) and Severe Acute Respiratory Syndrome (SARS). The most recently discovered coronavirus causes coronavirus disease COVID-19 - World Health Organization.\n",
    "\n",
    "The data used in this analysis is obtained from COVID-19 Tracking project and NYTimes and can be found [here](https://www.kaggle.com/datasets/sudalairajkumar/covid19-in-usa). This dataset has information from 50 US states and the District of Columbia at daily level.\n"
   ]
  },
  {
   "cell_type": "markdown",
   "id": "cd688b95-9c0b-4537-8ad3-da931c45ee3d",
   "metadata": {},
   "source": [
    "## Description of the data set"
   ]
  },
  {
   "cell_type": "markdown",
   "id": "108e094c-d3cb-4946-85cb-58d35a395c4c",
   "metadata": {},
   "source": [
    "This dataset has number of tests conducted in each state at daily level. Column descriptions are:\n",
    "\n",
    "- **date** - date of observation\n",
    "- **state** - US state 2 digit code\n",
    "- **positive** - number of tests with positive results\n",
    "- **negative** - number of tests with negative results\n",
    "- **pending** - number of test with pending results\n",
    "- **death** - number of deaths\n",
    "- **total** - total number of tests"
   ]
  },
  {
   "cell_type": "markdown",
   "id": "0568a4d9-732d-4db8-90e1-4e15b513d264",
   "metadata": {},
   "source": [
    "## Implentation"
   ]
  },
  {
   "cell_type": "markdown",
   "id": "fcd26a08-92a7-4d86-8e20-536795f05d6b",
   "metadata": {},
   "source": [
    "**Loading required libraries**"
   ]
  },
  {
   "cell_type": "code",
   "execution_count": 16,
   "id": "25604a2a-29ff-4c53-8f6c-7bc43e72aec8",
   "metadata": {},
   "outputs": [],
   "source": [
    "import pandas as pd\n",
    "import folium\n",
    "from folium.plugins import HeatMap\n",
    "import numpy as np\n",
    "from geopy.geocoders import Nominatim\n",
    "import webbrowser\n",
    "import codecs"
   ]
  },
  {
   "cell_type": "markdown",
   "id": "3f551deb-7cfa-4311-b145-9c92f977aabe",
   "metadata": {},
   "source": [
    "**Importing the data set**"
   ]
  },
  {
   "cell_type": "code",
   "execution_count": 2,
   "id": "e6be4320-366c-4b9c-846e-a38eac7f4d4d",
   "metadata": {},
   "outputs": [
    {
     "data": {
      "text/html": [
       "<div>\n",
       "<style scoped>\n",
       "    .dataframe tbody tr th:only-of-type {\n",
       "        vertical-align: middle;\n",
       "    }\n",
       "\n",
       "    .dataframe tbody tr th {\n",
       "        vertical-align: top;\n",
       "    }\n",
       "\n",
       "    .dataframe thead th {\n",
       "        text-align: right;\n",
       "    }\n",
       "</style>\n",
       "<table border=\"1\" class=\"dataframe\">\n",
       "  <thead>\n",
       "    <tr style=\"text-align: right;\">\n",
       "      <th></th>\n",
       "      <th>date</th>\n",
       "      <th>county</th>\n",
       "      <th>state</th>\n",
       "      <th>fips</th>\n",
       "      <th>cases</th>\n",
       "      <th>deaths</th>\n",
       "    </tr>\n",
       "  </thead>\n",
       "  <tbody>\n",
       "    <tr>\n",
       "      <th>0</th>\n",
       "      <td>2020-01-21</td>\n",
       "      <td>Snohomish</td>\n",
       "      <td>Washington</td>\n",
       "      <td>53061.0</td>\n",
       "      <td>1</td>\n",
       "      <td>0.0</td>\n",
       "    </tr>\n",
       "    <tr>\n",
       "      <th>1</th>\n",
       "      <td>2020-01-22</td>\n",
       "      <td>Snohomish</td>\n",
       "      <td>Washington</td>\n",
       "      <td>53061.0</td>\n",
       "      <td>1</td>\n",
       "      <td>0.0</td>\n",
       "    </tr>\n",
       "    <tr>\n",
       "      <th>2</th>\n",
       "      <td>2020-01-23</td>\n",
       "      <td>Snohomish</td>\n",
       "      <td>Washington</td>\n",
       "      <td>53061.0</td>\n",
       "      <td>1</td>\n",
       "      <td>0.0</td>\n",
       "    </tr>\n",
       "    <tr>\n",
       "      <th>3</th>\n",
       "      <td>2020-01-24</td>\n",
       "      <td>Cook</td>\n",
       "      <td>Illinois</td>\n",
       "      <td>17031.0</td>\n",
       "      <td>1</td>\n",
       "      <td>0.0</td>\n",
       "    </tr>\n",
       "    <tr>\n",
       "      <th>4</th>\n",
       "      <td>2020-01-24</td>\n",
       "      <td>Snohomish</td>\n",
       "      <td>Washington</td>\n",
       "      <td>53061.0</td>\n",
       "      <td>1</td>\n",
       "      <td>0.0</td>\n",
       "    </tr>\n",
       "  </tbody>\n",
       "</table>\n",
       "</div>"
      ],
      "text/plain": [
       "         date     county       state     fips  cases  deaths\n",
       "0  2020-01-21  Snohomish  Washington  53061.0      1     0.0\n",
       "1  2020-01-22  Snohomish  Washington  53061.0      1     0.0\n",
       "2  2020-01-23  Snohomish  Washington  53061.0      1     0.0\n",
       "3  2020-01-24       Cook    Illinois  17031.0      1     0.0\n",
       "4  2020-01-24  Snohomish  Washington  53061.0      1     0.0"
      ]
     },
     "execution_count": 2,
     "metadata": {},
     "output_type": "execute_result"
    }
   ],
   "source": [
    "covid = pd.read_csv('us_counties_covid19_daily.csv')\n",
    "covid.head()"
   ]
  },
  {
   "cell_type": "markdown",
   "id": "5b66d3aa-15f6-4e20-8b30-7b41c0de142f",
   "metadata": {},
   "source": [
    "In this data analysis, i focus on cases per state so I group the cases per state as shown below."
   ]
  },
  {
   "cell_type": "code",
   "execution_count": 3,
   "id": "924ae6c6-8f44-4e4b-b276-fbc88110fb5a",
   "metadata": {},
   "outputs": [
    {
     "name": "stderr",
     "output_type": "stream",
     "text": [
      "C:\\Users\\lutaa\\AppData\\Local\\Temp\\ipykernel_11760\\123764438.py:5: FutureWarning: The default value of numeric_only in DataFrameGroupBy.sum is deprecated. In a future version, numeric_only will default to False. Either specify numeric_only or select only columns which should be valid for the function.\n",
      "  covid_by_state = covid_by_state[['state', 'cases']].sum()\n"
     ]
    }
   ],
   "source": [
    "#grouping by state\n",
    "covid_by_state = covid.groupby(by='state', as_index=False)\n",
    "\n",
    "#droping other columns except `state` and `cases`\n",
    "covid_by_state = covid_by_state[['state', 'cases']].sum()\n",
    "covid_by_state = covid_by_state.sort_values('cases', ascending=False)\n",
    "covid_by_state = covid_by_state.drop_duplicates('state')"
   ]
  },
  {
   "cell_type": "markdown",
   "id": "4c3036ed-9c68-4174-ad50-ca469e54603b",
   "metadata": {},
   "source": [
    "Therefore, a snapshot of  the total number of cases by state is shown below"
   ]
  },
  {
   "cell_type": "code",
   "execution_count": 4,
   "id": "77af771b-a75a-48aa-8f66-fad12118b9ac",
   "metadata": {},
   "outputs": [
    {
     "data": {
      "text/html": [
       "<div>\n",
       "<style scoped>\n",
       "    .dataframe tbody tr th:only-of-type {\n",
       "        vertical-align: middle;\n",
       "    }\n",
       "\n",
       "    .dataframe tbody tr th {\n",
       "        vertical-align: top;\n",
       "    }\n",
       "\n",
       "    .dataframe thead th {\n",
       "        text-align: right;\n",
       "    }\n",
       "</style>\n",
       "<table border=\"1\" class=\"dataframe\">\n",
       "  <thead>\n",
       "    <tr style=\"text-align: right;\">\n",
       "      <th></th>\n",
       "      <th>state</th>\n",
       "      <th>cases</th>\n",
       "    </tr>\n",
       "  </thead>\n",
       "  <tbody>\n",
       "    <tr>\n",
       "      <th>4</th>\n",
       "      <td>California</td>\n",
       "      <td>127488272</td>\n",
       "    </tr>\n",
       "    <tr>\n",
       "      <th>46</th>\n",
       "      <td>Texas</td>\n",
       "      <td>119483867</td>\n",
       "    </tr>\n",
       "    <tr>\n",
       "      <th>9</th>\n",
       "      <td>Florida</td>\n",
       "      <td>107316623</td>\n",
       "    </tr>\n",
       "    <tr>\n",
       "      <th>33</th>\n",
       "      <td>New York</td>\n",
       "      <td>104506668</td>\n",
       "    </tr>\n",
       "    <tr>\n",
       "      <th>14</th>\n",
       "      <td>Illinois</td>\n",
       "      <td>59101931</td>\n",
       "    </tr>\n",
       "  </tbody>\n",
       "</table>\n",
       "</div>"
      ],
      "text/plain": [
       "         state      cases\n",
       "4   California  127488272\n",
       "46       Texas  119483867\n",
       "9      Florida  107316623\n",
       "33    New York  104506668\n",
       "14    Illinois   59101931"
      ]
     },
     "execution_count": 4,
     "metadata": {},
     "output_type": "execute_result"
    }
   ],
   "source": [
    "covid_by_state.head()"
   ]
  },
  {
   "cell_type": "markdown",
   "id": "bdce6e04-ac04-4d13-a6c9-c236ba65a15d",
   "metadata": {},
   "source": [
    "-*Based on the results above, Carlifornia has the highest cases followed by texas and so on.*"
   ]
  },
  {
   "cell_type": "markdown",
   "id": "572cb3d4-8df0-4a5a-904c-aab1cd899d09",
   "metadata": {},
   "source": [
    "**Obtaining latitude and longitude for each state**"
   ]
  },
  {
   "cell_type": "markdown",
   "id": "6a783a3b-45e3-462f-b18f-d306129a6316",
   "metadata": {},
   "source": [
    "To create a heat map showing total cases per state I need the the latitude and longitude for each staes. In the steps below I utilize the `geopy` library these coordinates for each state."
   ]
  },
  {
   "cell_type": "markdown",
   "id": "baa8379c-4902-4cc6-adb0-d3b923ca7392",
   "metadata": {},
   "source": [
    "First, I write a utility function called `coordinates` that expects input as location name an then outputs the corresponding latitude and longitude"
   ]
  },
  {
   "cell_type": "code",
   "execution_count": 5,
   "id": "369ec7a6-bd02-404a-b020-9770bc7092a4",
   "metadata": {},
   "outputs": [],
   "source": [
    "geo_loc = Nominatim(user_agent='bytescout', timeout=None)"
   ]
  },
  {
   "cell_type": "code",
   "execution_count": 6,
   "id": "ef05febe-19e1-4c1e-8bbc-594a80992dc8",
   "metadata": {},
   "outputs": [],
   "source": [
    "def coordinates(location):\n",
    "    place = geo_loc.geocode(query = location)\n",
    "    return (place.latitude, place.longitude)"
   ]
  },
  {
   "cell_type": "markdown",
   "id": "f34b42b7-9405-4d78-bab6-f62451a17371",
   "metadata": {},
   "source": [
    "Testing the function on **Ohio** state"
   ]
  },
  {
   "cell_type": "code",
   "execution_count": 7,
   "id": "37335831-466c-4aed-b83c-1287c661b60f",
   "metadata": {},
   "outputs": [
    {
     "data": {
      "text/plain": [
       "(40.2253569, -82.6881395)"
      ]
     },
     "execution_count": 7,
     "metadata": {},
     "output_type": "execute_result"
    }
   ],
   "source": [
    "coordinates('Ohio')"
   ]
  },
  {
   "cell_type": "markdown",
   "id": "eff08832-4a96-47fe-bff0-62f82dc6381f",
   "metadata": {},
   "source": [
    "Next, I obtain the latitude and longitude coordinates for all states"
   ]
  },
  {
   "cell_type": "code",
   "execution_count": 8,
   "id": "a99e0f4f-c9b5-4ac4-8f06-533fd6322a56",
   "metadata": {},
   "outputs": [],
   "source": [
    "latitude = []\n",
    "longitude = []\n",
    "for state in covid_by_state.state:\n",
    "    coord = coordinates(state)\n",
    "    latitude.append(coord[0])\n",
    "    longitude.append(coord[1])"
   ]
  },
  {
   "cell_type": "code",
   "execution_count": 9,
   "id": "46c8a223-3ab0-4219-911a-72e23da7ffc6",
   "metadata": {},
   "outputs": [],
   "source": [
    "covid_by_state['latitude'] = latitude\n",
    "covid_by_state['longitude'] = longitude"
   ]
  },
  {
   "cell_type": "markdown",
   "id": "913ac0b8-2e3c-47f8-9c56-965d4d9c86c4",
   "metadata": {},
   "source": [
    "Modified data with latitude and longitude coordinates"
   ]
  },
  {
   "cell_type": "code",
   "execution_count": 10,
   "id": "faf8a99c-8892-4e1e-b481-36ab2c5c7d59",
   "metadata": {},
   "outputs": [
    {
     "data": {
      "text/html": [
       "<div>\n",
       "<style scoped>\n",
       "    .dataframe tbody tr th:only-of-type {\n",
       "        vertical-align: middle;\n",
       "    }\n",
       "\n",
       "    .dataframe tbody tr th {\n",
       "        vertical-align: top;\n",
       "    }\n",
       "\n",
       "    .dataframe thead th {\n",
       "        text-align: right;\n",
       "    }\n",
       "</style>\n",
       "<table border=\"1\" class=\"dataframe\">\n",
       "  <thead>\n",
       "    <tr style=\"text-align: right;\">\n",
       "      <th></th>\n",
       "      <th>state</th>\n",
       "      <th>cases</th>\n",
       "      <th>latitude</th>\n",
       "      <th>longitude</th>\n",
       "    </tr>\n",
       "  </thead>\n",
       "  <tbody>\n",
       "    <tr>\n",
       "      <th>4</th>\n",
       "      <td>California</td>\n",
       "      <td>127488272</td>\n",
       "      <td>36.701463</td>\n",
       "      <td>-118.755997</td>\n",
       "    </tr>\n",
       "    <tr>\n",
       "      <th>46</th>\n",
       "      <td>Texas</td>\n",
       "      <td>119483867</td>\n",
       "      <td>31.263890</td>\n",
       "      <td>-98.545612</td>\n",
       "    </tr>\n",
       "    <tr>\n",
       "      <th>9</th>\n",
       "      <td>Florida</td>\n",
       "      <td>107316623</td>\n",
       "      <td>27.756767</td>\n",
       "      <td>-81.463983</td>\n",
       "    </tr>\n",
       "    <tr>\n",
       "      <th>33</th>\n",
       "      <td>New York</td>\n",
       "      <td>104506668</td>\n",
       "      <td>40.712728</td>\n",
       "      <td>-74.006015</td>\n",
       "    </tr>\n",
       "    <tr>\n",
       "      <th>14</th>\n",
       "      <td>Illinois</td>\n",
       "      <td>59101931</td>\n",
       "      <td>40.079661</td>\n",
       "      <td>-89.433729</td>\n",
       "    </tr>\n",
       "  </tbody>\n",
       "</table>\n",
       "</div>"
      ],
      "text/plain": [
       "         state      cases   latitude   longitude\n",
       "4   California  127488272  36.701463 -118.755997\n",
       "46       Texas  119483867  31.263890  -98.545612\n",
       "9      Florida  107316623  27.756767  -81.463983\n",
       "33    New York  104506668  40.712728  -74.006015\n",
       "14    Illinois   59101931  40.079661  -89.433729"
      ]
     },
     "execution_count": 10,
     "metadata": {},
     "output_type": "execute_result"
    }
   ],
   "source": [
    "covid_by_state.head()"
   ]
  },
  {
   "cell_type": "markdown",
   "id": "5a8b82f7-17a7-4fbc-9128-904a0074abfd",
   "metadata": {},
   "source": [
    "**Creating the heat map**"
   ]
  },
  {
   "cell_type": "markdown",
   "id": "784b6d1e-caf2-4063-9d9b-0550fc7d8a6f",
   "metadata": {},
   "source": [
    "The heat map is created using the latitude and longitude coordinates as well covid-19 cases as weights. So I first create a 2-dimensional list consisting latitude and longitude coordinates as well covid-19 cases as weights for each state."
   ]
  },
  {
   "cell_type": "code",
   "execution_count": 11,
   "id": "08a35646-d7be-422e-b502-3f4c325efb2b",
   "metadata": {},
   "outputs": [],
   "source": [
    "two_list = [[float(covid_by_state.latitude[index]), float(covid_by_state.longitude[index]), int(covid_by_state.cases[index])] for index in range(covid_by_state.shape[0])]"
   ]
  },
  {
   "cell_type": "code",
   "execution_count": 12,
   "id": "3d846a11-ae56-4f47-aeed-3f57164f1da4",
   "metadata": {},
   "outputs": [
    {
     "data": {
      "text/plain": [
       "[[33.2588817, -86.8295337, 24024159],\n",
       " [64.4459613, -149.680909, 1747498],\n",
       " [34.395342, -111.763275, 35564144]]"
      ]
     },
     "execution_count": 12,
     "metadata": {},
     "output_type": "execute_result"
    }
   ],
   "source": [
    "two_list[:3]"
   ]
  },
  {
   "cell_type": "markdown",
   "id": "a4826def-ff58-4599-bd5e-f2ebfb473de7",
   "metadata": {},
   "source": [
    "Finally I create the heat map using the above 2D list"
   ]
  },
  {
   "cell_type": "code",
   "execution_count": 15,
   "id": "6b03a676-6a77-4a9f-85ba-16360ad26bfd",
   "metadata": {},
   "outputs": [
    {
     "data": {
      "text/plain": [
       "True"
      ]
     },
     "execution_count": 15,
     "metadata": {},
     "output_type": "execute_result"
    }
   ],
   "source": [
    "#initializing the U.S map\n",
    "us_map = folium.Map(location= [33.2588817, -86.8295337], zoom_start= 3.8)\n",
    "\n",
    "#Creating the Heatmap\n",
    "HeatMap(two_list).add_to(us_map)\n",
    "us_map.save('2.Heat_Map_US_Covid19_cases.html')\n",
    "webbrowser.open_new_tab('2.Heat_Map_US_Covid19_cases.html')"
   ]
  },
  {
   "cell_type": "code",
   "execution_count": 18,
   "id": "25bd9bd9-6114-43ad-b7ea-4203792d203a",
   "metadata": {},
   "outputs": [
    {
     "data": {
      "text/html": [
       "<div style=\"width:100%;\"><div style=\"position:relative;width:100%;height:0;padding-bottom:60%;\"><span style=\"color:#565656\">Make this Notebook Trusted to load map: File -> Trust Notebook</span><iframe srcdoc=\"&lt;!DOCTYPE html&gt;\n",
       "&lt;html&gt;\n",
       "&lt;head&gt;\n",
       "    \n",
       "    &lt;meta http-equiv=&quot;content-type&quot; content=&quot;text/html; charset=UTF-8&quot; /&gt;\n",
       "    \n",
       "        &lt;script&gt;\n",
       "            L_NO_TOUCH = false;\n",
       "            L_DISABLE_3D = false;\n",
       "        &lt;/script&gt;\n",
       "    \n",
       "    &lt;style&gt;html, body {width: 100%;height: 100%;margin: 0;padding: 0;}&lt;/style&gt;\n",
       "    &lt;style&gt;#map {position:absolute;top:0;bottom:0;right:0;left:0;}&lt;/style&gt;\n",
       "    &lt;script src=&quot;https://cdn.jsdelivr.net/npm/leaflet@1.9.3/dist/leaflet.js&quot;&gt;&lt;/script&gt;\n",
       "    &lt;script src=&quot;https://code.jquery.com/jquery-3.7.1.min.js&quot;&gt;&lt;/script&gt;\n",
       "    &lt;script src=&quot;https://cdn.jsdelivr.net/npm/bootstrap@5.2.2/dist/js/bootstrap.bundle.min.js&quot;&gt;&lt;/script&gt;\n",
       "    &lt;script src=&quot;https://cdnjs.cloudflare.com/ajax/libs/Leaflet.awesome-markers/2.0.2/leaflet.awesome-markers.js&quot;&gt;&lt;/script&gt;\n",
       "    &lt;link rel=&quot;stylesheet&quot; href=&quot;https://cdn.jsdelivr.net/npm/leaflet@1.9.3/dist/leaflet.css&quot;/&gt;\n",
       "    &lt;link rel=&quot;stylesheet&quot; href=&quot;https://cdn.jsdelivr.net/npm/bootstrap@5.2.2/dist/css/bootstrap.min.css&quot;/&gt;\n",
       "    &lt;link rel=&quot;stylesheet&quot; href=&quot;https://netdna.bootstrapcdn.com/bootstrap/3.0.0/css/bootstrap-glyphicons.css&quot;/&gt;\n",
       "    &lt;link rel=&quot;stylesheet&quot; href=&quot;https://cdn.jsdelivr.net/npm/@fortawesome/fontawesome-free@6.2.0/css/all.min.css&quot;/&gt;\n",
       "    &lt;link rel=&quot;stylesheet&quot; href=&quot;https://cdnjs.cloudflare.com/ajax/libs/Leaflet.awesome-markers/2.0.2/leaflet.awesome-markers.css&quot;/&gt;\n",
       "    &lt;link rel=&quot;stylesheet&quot; href=&quot;https://cdn.jsdelivr.net/gh/python-visualization/folium/folium/templates/leaflet.awesome.rotate.min.css&quot;/&gt;\n",
       "    \n",
       "            &lt;meta name=&quot;viewport&quot; content=&quot;width=device-width,\n",
       "                initial-scale=1.0, maximum-scale=1.0, user-scalable=no&quot; /&gt;\n",
       "            &lt;style&gt;\n",
       "                #map_56232f54731a340b52d3cb89ecd23d23 {\n",
       "                    position: relative;\n",
       "                    width: 100.0%;\n",
       "                    height: 100.0%;\n",
       "                    left: 0.0%;\n",
       "                    top: 0.0%;\n",
       "                }\n",
       "                .leaflet-container { font-size: 1rem; }\n",
       "            &lt;/style&gt;\n",
       "        \n",
       "    &lt;script src=&quot;https://cdn.jsdelivr.net/gh/python-visualization/folium@main/folium/templates/leaflet_heat.min.js&quot;&gt;&lt;/script&gt;\n",
       "&lt;/head&gt;\n",
       "&lt;body&gt;\n",
       "    \n",
       "    \n",
       "            &lt;div class=&quot;folium-map&quot; id=&quot;map_56232f54731a340b52d3cb89ecd23d23&quot; &gt;&lt;/div&gt;\n",
       "        \n",
       "&lt;/body&gt;\n",
       "&lt;script&gt;\n",
       "    \n",
       "    \n",
       "            var map_56232f54731a340b52d3cb89ecd23d23 = L.map(\n",
       "                &quot;map_56232f54731a340b52d3cb89ecd23d23&quot;,\n",
       "                {\n",
       "                    center: [33.2588817, -86.8295337],\n",
       "                    crs: L.CRS.EPSG3857,\n",
       "                    zoom: 3.8,\n",
       "                    zoomControl: true,\n",
       "                    preferCanvas: false,\n",
       "                }\n",
       "            );\n",
       "\n",
       "            \n",
       "\n",
       "        \n",
       "    \n",
       "            var tile_layer_1f14957b8da569785182b421046375cc = L.tileLayer(\n",
       "                &quot;https://tile.openstreetmap.org/{z}/{x}/{y}.png&quot;,\n",
       "                {&quot;attribution&quot;: &quot;\\u0026copy; \\u003ca href=\\&quot;https://www.openstreetmap.org/copyright\\&quot;\\u003eOpenStreetMap\\u003c/a\\u003e contributors&quot;, &quot;detectRetina&quot;: false, &quot;maxNativeZoom&quot;: 19, &quot;maxZoom&quot;: 19, &quot;minZoom&quot;: 0, &quot;noWrap&quot;: false, &quot;opacity&quot;: 1, &quot;subdomains&quot;: &quot;abc&quot;, &quot;tms&quot;: false}\n",
       "            );\n",
       "        \n",
       "    \n",
       "            tile_layer_1f14957b8da569785182b421046375cc.addTo(map_56232f54731a340b52d3cb89ecd23d23);\n",
       "        \n",
       "    \n",
       "            var heat_map_d38a0313f0072f618a2f26f8f2ac74b3 = L.heatLayer(\n",
       "                [[33.2588817, -86.8295337, 24024159], [64.4459613, -149.680909, 1747498], [34.395342, -111.763275, 35564144], [35.2048883, -92.4479108, 13267810], [36.7014631, -118.755997, 127488272], [38.7251776, -105.607716, 15548407], [41.6500201, -72.7342163, 13042369], [38.6920451, -75.4013315, 3875709], [38.89384735, -76.98804281910948, 2965627], [27.7567667, -81.4639835, 107316623], [32.3293809, -83.1137366, 47692834], [13.4499943, 144.7651677, 657603], [19.593801499999998, -155.42837009716908, 1609360], [43.6447642, -114.015407, 7286953], [40.0796606, -89.4337288, 59101931], [40.3270127, -86.1746933, 24135379], [41.9216734, -93.3122705, 16403065], [38.27312, -98.5821872, 10723922], [37.5726028, -85.1551411, 12582434], [30.8703881, -92.007126, 27800980], [45.709097, -68.8590201, 1071184], [39.5162401, -76.9382069, 22726660], [42.3788774, -72.032366, 29233443], [43.6211955, -84.6824346, 29474916], [45.9896587, -94.6113288, 19742169], [32.9715285, -89.7348497, 15552105], [38.7604815, -92.5617875, 21581367], [47.3752671, -109.638757, 3039448], [41.7370229, -99.5873816, 9118384], [39.5158825, -116.853722, 13111049], [43.4849133, -71.6553992, 1817651], [40.0757384, -74.4041622, 46321719], [34.5802074, -105.996047, 6288570], [40.7127281, -74.0060152, 104506668], [35.6729639, -79.0392919, 34135408], [47.6201461, -100.540737, 4366042], [15.1753648, 145.7379338, 12485], [40.2253569, -82.6881395, 29229083], [34.9550817, -97.2684063, 13921102], [43.9792797, -120.737257, 5741680], [40.9699889, -77.7278831, 33209015], [18.2247706, -66.4858295, 7124845], [41.7962409, -71.5992372, 5355719], [33.6874388, -80.4363743, 22343348], [44.6471761, -100.348761, 4792604], [35.7730076, -86.2820081, 31171799], [31.2638905, -98.5456116, 119483867], [39.4225192, -111.714358, 13601304], [44.5990718, -72.5002608, 398806], [18.4024395, -64.5661642, 167784], [37.1232245, -78.4927721, 24999790], [38.8950368, -77.0365427, 16162370], [38.4758406, -80.8408415, 2855600], [44.4308975, -89.6884637, 25408252], [43.1700264, -107.568534, 1527256]],\n",
       "                {&quot;blur&quot;: 15, &quot;maxZoom&quot;: 18, &quot;minOpacity&quot;: 0.5, &quot;radius&quot;: 25}\n",
       "            );\n",
       "        \n",
       "    \n",
       "            heat_map_d38a0313f0072f618a2f26f8f2ac74b3.addTo(map_56232f54731a340b52d3cb89ecd23d23);\n",
       "        \n",
       "    \n",
       "            tile_layer_1f14957b8da569785182b421046375cc.addTo(map_56232f54731a340b52d3cb89ecd23d23);\n",
       "        \n",
       "    \n",
       "            heat_map_d38a0313f0072f618a2f26f8f2ac74b3.addTo(map_56232f54731a340b52d3cb89ecd23d23);\n",
       "        \n",
       "&lt;/script&gt;\n",
       "&lt;/html&gt;\" style=\"position:absolute;width:100%;height:100%;left:0;top:0;border:none !important;\" allowfullscreen webkitallowfullscreen mozallowfullscreen></iframe></div></div>"
      ],
      "text/plain": [
       "<folium.folium.Map at 0x1902502fe50>"
      ]
     },
     "execution_count": 18,
     "metadata": {},
     "output_type": "execute_result"
    }
   ],
   "source": [
    "us_map"
   ]
  },
  {
   "cell_type": "markdown",
   "id": "862ae900-54b3-4237-b947-5293138aa0be",
   "metadata": {},
   "source": [
    "## Conclusion"
   ]
  },
  {
   "cell_type": "markdown",
   "id": "d948472c-42b6-4337-a617-5f194476706f",
   "metadata": {},
   "source": [
    "- *Based on the above heat map, the most affected states were New york, Carlifornia, and Texas.*"
   ]
  }
 ],
 "metadata": {
  "kernelspec": {
   "display_name": "Python 3 (ipykernel)",
   "language": "python",
   "name": "python3"
  },
  "language_info": {
   "codemirror_mode": {
    "name": "ipython",
    "version": 3
   },
   "file_extension": ".py",
   "mimetype": "text/x-python",
   "name": "python",
   "nbconvert_exporter": "python",
   "pygments_lexer": "ipython3",
   "version": "3.9.13"
  }
 },
 "nbformat": 4,
 "nbformat_minor": 5
}
