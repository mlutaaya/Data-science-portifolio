{
 "cells": [
  {
   "cell_type": "markdown",
   "id": "4b3d4e5c-4673-4c87-a79a-bf04543449ab",
   "metadata": {},
   "source": [
    "# Trending Topic Tracker with Twitter API"
   ]
  },
  {
   "cell_type": "markdown",
   "id": "631c03e8-dbb5-4534-86fc-7b3e67b2b82e",
   "metadata": {},
   "source": [
    "The immensely popular Twitter platform delivers billions of tweets daily. In this project, I utilize Python libraries to seamlessly interact with the Twitter APIs, enabling the tracking and analysis of trending topics."
   ]
  },
  {
   "cell_type": "markdown",
   "id": "5a9b3788-07db-4775-b42f-6d064de2913f",
   "metadata": {},
   "source": [
    "## Implementation"
   ]
  },
  {
   "cell_type": "markdown",
   "id": "7a264cb7-3046-44eb-b3e2-9937f9dccfe1",
   "metadata": {},
   "source": [
    "**Loading required libraries and Twitter API credentials**"
   ]
  },
  {
   "cell_type": "code",
   "execution_count": 14,
   "id": "a5ceff33-9a9c-4000-80fa-1944efee2780",
   "metadata": {},
   "outputs": [],
   "source": [
    "import tweepy\n",
    "import my_keys\n",
    "from wordcloud import WordCloud"
   ]
  },
  {
   "cell_type": "markdown",
   "id": "57ada556-50c6-4876-8edc-d3ea0c053fec",
   "metadata": {},
   "source": [
    "**Creating and Configuring an OAuthHandler to Authenticate with Twitter**"
   ]
  },
  {
   "cell_type": "markdown",
   "id": "e4a10234-fa34-4956-b5e5-a0227251189c",
   "metadata": {},
   "source": [
    "First, I create an object of the tweepy module’s `OAuthHandler` class, by passing my API key and API secret key to its constructor."
   ]
  },
  {
   "cell_type": "code",
   "execution_count": 4,
   "id": "8a381e28-7685-4826-8bfc-f6ec6913a8a5",
   "metadata": {},
   "outputs": [],
   "source": [
    "auth = tweepy.OAuthHandler(my_keys.API_key, \n",
    "                           my_keys.API_Key_secret)"
   ]
  },
  {
   "cell_type": "markdown",
   "id": "030ca332-262e-4a24-ad5c-86417d873757",
   "metadata": {},
   "source": [
    "Next, I specify my access token and its secret as shown below. "
   ]
  },
  {
   "cell_type": "code",
   "execution_count": 5,
   "id": "eee4daae-41e8-455e-b8e9-9e4fb6ad12fe",
   "metadata": {},
   "outputs": [],
   "source": [
    "auth.set_access_token(my_keys.Access_Token, my_keys.Access_Token_Secret)"
   ]
  },
  {
   "cell_type": "markdown",
   "id": "64316019-a9cc-4915-99e5-67ed242c8e7b",
   "metadata": {},
   "source": [
    "**Creating an API Object**"
   ]
  },
  {
   "cell_type": "markdown",
   "id": "d712108d-1798-48dd-8694-30a8dce2331c",
   "metadata": {},
   "source": [
    "Creating an `API` object that allows me to interact with Twitter."
   ]
  },
  {
   "cell_type": "code",
   "execution_count": 6,
   "id": "c8d618d3-e73b-422c-ba14-61301381c474",
   "metadata": {},
   "outputs": [],
   "source": [
    "api = tweepy.API(auth, wait_on_rate_limit_notify= True, wait_on_rate_limit=True)"
   ]
  },
  {
   "cell_type": "markdown",
   "id": "5e852994-18e9-40da-b012-0282b358f94f",
   "metadata": {},
   "source": [
    "### Obtaining trending topic(s) with the twitter API"
   ]
  },
  {
   "cell_type": "markdown",
   "id": "6ca97bed-64d0-4d77-836e-d7efb5e3c36d",
   "metadata": {},
   "source": [
    "First, I use the **@WhatsTrending**'s `X page` to obtain trending topics. @WhatsTrending lists trending topics daily.\n",
    "\n",
    "***NOTE: To run the codes below you need a paid API version***"
   ]
  },
  {
   "cell_type": "markdown",
   "id": "dbcfe9aa-2f68-4fc2-841a-6ee1b30f4c75",
   "metadata": {},
   "source": [
    "**Getting basic account information of @WhatsTrending**"
   ]
  },
  {
   "cell_type": "code",
   "execution_count": 9,
   "id": "75173c53-3310-443b-8309-c315c5cb327f",
   "metadata": {},
   "outputs": [],
   "source": [
    "account = api.get_user('WhatsTrending')"
   ]
  },
  {
   "cell_type": "code",
   "execution_count": null,
   "id": "7cf7f1c8-7d97-402d-bafc-a78130838f9d",
   "metadata": {},
   "outputs": [],
   "source": [
    "#Account ID\n",
    "account.id"
   ]
  },
  {
   "cell_type": "code",
   "execution_count": null,
   "id": "5bc7a1c4-fbcd-4efd-9a6f-c19166c1211d",
   "metadata": {},
   "outputs": [],
   "source": [
    "#Account name\n",
    "account.name"
   ]
  },
  {
   "cell_type": "code",
   "execution_count": null,
   "id": "b05ee2e9-9c28-4f37-988b-e59fe0603258",
   "metadata": {},
   "outputs": [],
   "source": [
    "#Account screen name\n",
    "account.screen_name"
   ]
  },
  {
   "cell_type": "code",
   "execution_count": null,
   "id": "a388c0ff-5d4d-47c9-9b70-5b578c3bbe58",
   "metadata": {},
   "outputs": [],
   "source": [
    "#Account description\n",
    "account.description"
   ]
  },
  {
   "cell_type": "code",
   "execution_count": null,
   "id": "be9d6df9-3aad-401e-9bdb-bbebbf8eab28",
   "metadata": {},
   "outputs": [],
   "source": [
    "#number of followers\n",
    "account.followers_count"
   ]
  },
  {
   "cell_type": "markdown",
   "id": "4ec4e6c8-746a-4267-9ab5-83ef6987aa42",
   "metadata": {},
   "source": [
    "**Getting the Most Recent Status Update**"
   ]
  },
  {
   "cell_type": "markdown",
   "id": "47ae1aa8-e523-4526-9f97-0ade00164458",
   "metadata": {},
   "source": [
    "The Status object’s text property contains the text of the account’s most recent tweet:"
   ]
  },
  {
   "cell_type": "code",
   "execution_count": null,
   "id": "a254ddc4-80c8-4df6-9016-c933d6fe743e",
   "metadata": {},
   "outputs": [],
   "source": [
    "account.status.text"
   ]
  },
  {
   "cell_type": "markdown",
   "id": "51cea998-856d-4546-9c3d-b0fd8867c222",
   "metadata": {},
   "source": [
    "Returning the most recent 5 tweets"
   ]
  },
  {
   "cell_type": "code",
   "execution_count": null,
   "id": "9d2ecf94-6c8d-4d4c-8308-f366274c9d8a",
   "metadata": {},
   "outputs": [],
   "source": [
    "tweets = api.user_timeline(screen_name = 'WhatsTrending', count = 5)"
   ]
  },
  {
   "cell_type": "code",
   "execution_count": null,
   "id": "f63d7f06-fc13-4ec6-8688-d87c8a7af7dc",
   "metadata": {},
   "outputs": [],
   "source": [
    "for tweet in tweets:\n",
    "    print(f'{tweet.user.screen_name}: {tweet.text}\\n')"
   ]
  },
  {
   "cell_type": "markdown",
   "id": "8ec39ba0-d5e7-4db4-8357-ff9013aff80a",
   "metadata": {},
   "source": [
    "**Moving beyond @WhatsTrending page**"
   ]
  },
  {
   "cell_type": "markdown",
   "id": "f415a4f8-6d30-47c2-ac6b-f665f9cc670a",
   "metadata": {},
   "source": [
    "Although, **@WhatsTrending** lists trending topics, I explore trending topics using the `trends_available` method which provides a list of all locations for which Twitter has trending topics"
   ]
  },
  {
   "cell_type": "markdown",
   "id": "01478242-0b5c-4f86-aa22-b7b6931407a6",
   "metadata": {},
   "source": [
    "- The top 5 viral topics can be obtained as shown below"
   ]
  },
  {
   "cell_type": "code",
   "execution_count": 12,
   "id": "da570c25-a3e3-427c-a189-71d303162cf3",
   "metadata": {},
   "outputs": [],
   "source": [
    "viral_topics = api.trends_available()"
   ]
  },
  {
   "cell_type": "code",
   "execution_count": null,
   "id": "073d0e7f-6fb8-4610-b4cb-3e67f2faf0d1",
   "metadata": {},
   "outputs": [],
   "source": [
    "for topic in viral_topics[:5]:\n",
    "    print(f'{topic} \\n')"
   ]
  }
 ],
 "metadata": {
  "kernelspec": {
   "display_name": "Python 3 (ipykernel)",
   "language": "python",
   "name": "python3"
  },
  "language_info": {
   "codemirror_mode": {
    "name": "ipython",
    "version": 3
   },
   "file_extension": ".py",
   "mimetype": "text/x-python",
   "name": "python",
   "nbconvert_exporter": "python",
   "pygments_lexer": "ipython3",
   "version": "3.9.13"
  }
 },
 "nbformat": 4,
 "nbformat_minor": 5
}
