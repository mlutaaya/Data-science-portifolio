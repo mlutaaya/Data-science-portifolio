{
 "cells": [
  {
   "cell_type": "markdown",
   "id": "d60fecba-e27b-447f-984a-cca187cd01f8",
   "metadata": {},
   "source": [
    "# Random Story Writer App"
   ]
  },
  {
   "cell_type": "markdown",
   "id": "06652fb2-1c7c-4a24-83ee-12c86eb90fc5",
   "metadata": {},
   "source": [
    "In this project, I uses random-number generation to create, display and speak the story. I follow the steps below to achieve this objective.\n",
    "\n",
    "- Use four arrays of strings called article, noun, verb, and preposition.\n",
    "- Create a sentence by selecting a word at random from each array in the following order: article, noun, verb, preposition, article, noun. As each word is\n",
    "picked, I concatenate it to the previous words in the sentence. Spaces should separate the words.\n",
    "- When a sentence is displayed, it should start with a capital letter and end with a period.\n",
    "- Allow the script to produce a short story consisting of several sentences.\n",
    "- Use Text to Speech to read the story aloud to the user"
   ]
  },
  {
   "cell_type": "markdown",
   "id": "fd4ab8cb-8faa-4bc2-91d9-6f35712d4075",
   "metadata": {},
   "source": [
    "## APP IMPLEMENTATION"
   ]
  },
  {
   "cell_type": "markdown",
   "id": "01fb13ff-0033-421b-a1cf-26b9a48f1087",
   "metadata": {},
   "source": [
    "The App is implemented as python script; `story.py`. The source code is shown below."
   ]
  },
  {
   "cell_type": "code",
   "execution_count": 56,
   "id": "244e6b18-7706-43cb-8ccf-54288320805f",
   "metadata": {},
   "outputs": [
    {
     "data": {
      "text/plain": [
       "\u001b[1;31mType:\u001b[0m        module\n",
       "\u001b[1;31mString form:\u001b[0m <module 'story' from 'D:\\\\python projects\\\\Data science portifolio\\\\IBM Watson and Cognitive Computing\\\\Random Story Writer App\\\\story.py'>\n",
       "\u001b[1;31mFile:\u001b[0m        d:\\python projects\\data science portifolio\\ibm watson and cognitive computing\\random story writer app\\story.py\n",
       "\u001b[1;31mSource:\u001b[0m     \n",
       "\u001b[1;31m#importing libraries\u001b[0m\u001b[1;33m\n",
       "\u001b[0m\u001b[1;32mimport\u001b[0m \u001b[0mkeys\u001b[0m\u001b[1;33m\n",
       "\u001b[0m\u001b[1;32mimport\u001b[0m \u001b[0mre\u001b[0m\u001b[1;33m\n",
       "\u001b[0m\u001b[1;32mimport\u001b[0m \u001b[0mtime\u001b[0m\u001b[1;33m\n",
       "\u001b[0m\u001b[1;32mimport\u001b[0m \u001b[0mjson\u001b[0m\u001b[1;33m\n",
       "\u001b[0m\u001b[1;32mimport\u001b[0m \u001b[0mffmpeg\u001b[0m\u001b[1;33m\n",
       "\u001b[0m\u001b[1;32mfrom\u001b[0m \u001b[0mibm_watson\u001b[0m \u001b[1;32mimport\u001b[0m \u001b[0mSpeechToTextV1\u001b[0m\u001b[1;33m\n",
       "\u001b[0m\u001b[1;32mfrom\u001b[0m \u001b[0mibm_watson\u001b[0m\u001b[1;33m.\u001b[0m\u001b[0mwebsocket\u001b[0m \u001b[1;32mimport\u001b[0m \u001b[0mRecognizeCallback\u001b[0m\u001b[1;33m,\u001b[0m \u001b[0mAudioSource\u001b[0m\u001b[1;33m\n",
       "\u001b[0m\u001b[1;32mfrom\u001b[0m \u001b[0mibm_cloud_sdk_core\u001b[0m\u001b[1;33m.\u001b[0m\u001b[0mauthenticators\u001b[0m \u001b[1;32mimport\u001b[0m \u001b[0mIAMAuthenticator\u001b[0m\u001b[1;33m\n",
       "\u001b[0m\u001b[1;32mfrom\u001b[0m \u001b[0mibm_watson\u001b[0m \u001b[1;32mimport\u001b[0m \u001b[0mTextToSpeechV1\u001b[0m\u001b[1;33m\n",
       "\u001b[0m\u001b[1;32mimport\u001b[0m \u001b[0mspeech_recognition\u001b[0m \u001b[1;32mas\u001b[0m \u001b[0msr\u001b[0m\u001b[1;33m\n",
       "\u001b[0m\u001b[1;32mimport\u001b[0m \u001b[0mpyaudio\u001b[0m\u001b[1;33m\n",
       "\u001b[0m\u001b[1;32mimport\u001b[0m \u001b[0mpydub\u001b[0m\u001b[1;33m\n",
       "\u001b[0m\u001b[1;32mimport\u001b[0m \u001b[0mpydub\u001b[0m\u001b[1;33m.\u001b[0m\u001b[0mplayback\u001b[0m\u001b[1;33m\n",
       "\u001b[0m\u001b[1;32mimport\u001b[0m \u001b[0mwave\u001b[0m\u001b[1;33m\n",
       "\u001b[0m\u001b[1;32mfrom\u001b[0m \u001b[0mtextblob\u001b[0m \u001b[1;32mimport\u001b[0m \u001b[0mTextBlob\u001b[0m\u001b[1;33m\n",
       "\u001b[0m\u001b[1;32mimport\u001b[0m \u001b[0mrandom\u001b[0m\u001b[1;33m\n",
       "\u001b[0m\u001b[1;32mimport\u001b[0m \u001b[0mstring\u001b[0m\u001b[1;33m\n",
       "\u001b[0m\u001b[1;32mfrom\u001b[0m \u001b[0mIPython\u001b[0m\u001b[1;33m.\u001b[0m\u001b[0mdisplay\u001b[0m \u001b[1;32mimport\u001b[0m \u001b[0mdisplay\u001b[0m\u001b[1;33m,\u001b[0m \u001b[0mMarkdown\u001b[0m\u001b[1;33m\n",
       "\u001b[0m\u001b[1;32mimport\u001b[0m \u001b[0mnumpy\u001b[0m \u001b[1;32mas\u001b[0m \u001b[0mnp\u001b[0m\u001b[1;33m\n",
       "\u001b[0m\u001b[1;33m\n",
       "\u001b[0m\u001b[1;31m#authenticate to IBM cloud\u001b[0m\u001b[1;33m\n",
       "\u001b[0m\u001b[0mauthenticator\u001b[0m \u001b[1;33m=\u001b[0m \u001b[0mIAMAuthenticator\u001b[0m\u001b[1;33m(\u001b[0m\u001b[0mkeys\u001b[0m\u001b[1;33m.\u001b[0m\u001b[0mspeech_to_text_key\u001b[0m\u001b[1;33m)\u001b[0m\u001b[1;33m\n",
       "\u001b[0m\u001b[0mspeech_to_text\u001b[0m \u001b[1;33m=\u001b[0m \u001b[0mSpeechToTextV1\u001b[0m\u001b[1;33m(\u001b[0m\u001b[0mauthenticator\u001b[0m\u001b[1;33m=\u001b[0m\u001b[0mauthenticator\u001b[0m\u001b[1;33m)\u001b[0m\u001b[1;33m\n",
       "\u001b[0m\u001b[0mspeech_to_text\u001b[0m\u001b[1;33m.\u001b[0m\u001b[0mset_service_url\u001b[0m\u001b[1;33m(\u001b[0m\u001b[1;34m'https://api.au-syd.speech-to-text.watson.cloud.ibm.com/instances/3ea75066-a39a-4845-a367-779c32acc4d6'\u001b[0m\u001b[1;33m)\u001b[0m\u001b[1;33m\n",
       "\u001b[0m\u001b[0mauthenticator2\u001b[0m \u001b[1;33m=\u001b[0m \u001b[0mIAMAuthenticator\u001b[0m\u001b[1;33m(\u001b[0m\u001b[0mkeys\u001b[0m\u001b[1;33m.\u001b[0m\u001b[0mtext_to_speech_key\u001b[0m\u001b[1;33m)\u001b[0m\u001b[1;33m\n",
       "\u001b[0m\u001b[0mtext_to_speech\u001b[0m \u001b[1;33m=\u001b[0m \u001b[0mTextToSpeechV1\u001b[0m\u001b[1;33m(\u001b[0m\u001b[0mauthenticator\u001b[0m\u001b[1;33m=\u001b[0m\u001b[0mauthenticator2\u001b[0m\u001b[1;33m)\u001b[0m\u001b[1;33m\n",
       "\u001b[0m\u001b[0mtext_to_speech\u001b[0m\u001b[1;33m.\u001b[0m\u001b[0mset_service_url\u001b[0m\u001b[1;33m(\u001b[0m\u001b[1;34m'https://api.au-syd.text-to-speech.watson.cloud.ibm.com/instances/a247d99d-0d59-493d-aded-e4b8f2fcc8a9'\u001b[0m\u001b[1;33m)\u001b[0m\u001b[1;33m\n",
       "\u001b[0m\u001b[1;33m\n",
       "\u001b[0m\u001b[1;31m#run_story() function\u001b[0m\u001b[1;33m\n",
       "\u001b[0m\u001b[1;32mdef\u001b[0m \u001b[0mrun_story\u001b[0m\u001b[1;33m(\u001b[0m\u001b[1;33m)\u001b[0m\u001b[1;33m:\u001b[0m\u001b[1;33m\n",
       "\u001b[0m    \u001b[0msentences\u001b[0m \u001b[1;33m=\u001b[0m \u001b[1;33m[\u001b[0m\u001b[0mrandom\u001b[0m\u001b[1;33m.\u001b[0m\u001b[0mchoice\u001b[0m\u001b[1;33m(\u001b[0m\u001b[0marticle\u001b[0m\u001b[1;33m)\u001b[0m\u001b[1;33m+\u001b[0m\u001b[1;34m' '\u001b[0m\u001b[1;33m+\u001b[0m\u001b[0mrandom\u001b[0m\u001b[1;33m.\u001b[0m\u001b[0mchoice\u001b[0m\u001b[1;33m(\u001b[0m\u001b[0mnoun\u001b[0m\u001b[1;33m)\u001b[0m\u001b[1;33m+\u001b[0m\u001b[1;34m' '\u001b[0m \u001b[1;33m+\u001b[0m \u001b[0mrandom\u001b[0m\u001b[1;33m.\u001b[0m\u001b[0mchoice\u001b[0m\u001b[1;33m(\u001b[0m\u001b[0mverb\u001b[0m\u001b[1;33m)\u001b[0m\u001b[1;33m+\u001b[0m\u001b[1;34m' '\u001b[0m\u001b[1;33m+\u001b[0m\u001b[0mrandom\u001b[0m\u001b[1;33m.\u001b[0m\u001b[0mchoice\u001b[0m\u001b[1;33m(\u001b[0m\u001b[0mproposition\u001b[0m\u001b[1;33m)\u001b[0m\u001b[1;33m+\u001b[0m \u001b[1;34m' '\u001b[0m\u001b[1;33m+\u001b[0m\u001b[0mrandom\u001b[0m\u001b[1;33m.\u001b[0m\u001b[0mchoice\u001b[0m\u001b[1;33m(\u001b[0m\u001b[0marticle\u001b[0m\u001b[1;33m)\u001b[0m\u001b[1;33m+\u001b[0m\u001b[1;34m' '\u001b[0m\u001b[1;33m+\u001b[0m \u001b[0mrandom\u001b[0m\u001b[1;33m.\u001b[0m\u001b[0mchoice\u001b[0m\u001b[1;33m(\u001b[0m\u001b[0mnoun\u001b[0m\u001b[1;33m)\u001b[0m\u001b[1;33m+\u001b[0m\u001b[1;34m'.'\u001b[0m \u001b[1;32mfor\u001b[0m \u001b[0mline\u001b[0m \u001b[1;32min\u001b[0m \u001b[0mrange\u001b[0m\u001b[1;33m(\u001b[0m\u001b[1;36m10\u001b[0m\u001b[1;33m)\u001b[0m\u001b[1;33m]\u001b[0m\u001b[1;33m\n",
       "\u001b[0m    \u001b[0msentences\u001b[0m \u001b[1;33m=\u001b[0m \u001b[1;33m[\u001b[0m\u001b[0msentence\u001b[0m\u001b[1;33m.\u001b[0m\u001b[0mcapitalize\u001b[0m\u001b[1;33m(\u001b[0m\u001b[1;33m)\u001b[0m \u001b[1;32mfor\u001b[0m \u001b[0msentence\u001b[0m \u001b[1;32min\u001b[0m \u001b[0msentences\u001b[0m\u001b[1;33m]\u001b[0m\u001b[1;33m\n",
       "\u001b[0m    \u001b[1;31m#print story\u001b[0m\u001b[1;33m\n",
       "\u001b[0m    \u001b[0mprint\u001b[0m\u001b[1;33m(\u001b[0m\u001b[1;34m'YOUR RANDOMLY GENERATED STORY \\n'\u001b[0m\u001b[1;33m)\u001b[0m\u001b[1;33m\n",
       "\u001b[0m    \u001b[1;32mfor\u001b[0m \u001b[0msentence\u001b[0m \u001b[1;32min\u001b[0m \u001b[0msentences\u001b[0m\u001b[1;33m:\u001b[0m\u001b[1;33m\n",
       "\u001b[0m        \u001b[0mprint\u001b[0m\u001b[1;33m(\u001b[0m\u001b[0msentence\u001b[0m\u001b[1;33m,\u001b[0m \u001b[1;34m'\\n'\u001b[0m\u001b[1;33m)\u001b[0m\u001b[1;33m\n",
       "\u001b[0m    \u001b[1;33m\n",
       "\u001b[0m    \u001b[1;33m\n",
       "\u001b[0m    \u001b[1;31m#read story aloud\u001b[0m\u001b[1;33m\n",
       "\u001b[0m    \u001b[0mprint\u001b[0m\u001b[1;33m(\u001b[0m\u001b[1;34m'NOW LISTEN TO YOUR STORY \\n'\u001b[0m\u001b[1;33m)\u001b[0m\u001b[1;33m\n",
       "\u001b[0m    \u001b[0mstory\u001b[0m \u001b[1;33m=\u001b[0m \u001b[1;34m''\u001b[0m\u001b[1;33m\n",
       "\u001b[0m    \u001b[1;32mfor\u001b[0m \u001b[0msentence\u001b[0m \u001b[1;32min\u001b[0m \u001b[0msentences\u001b[0m\u001b[1;33m:\u001b[0m\u001b[1;33m\n",
       "\u001b[0m        \u001b[0mstory\u001b[0m \u001b[1;33m+=\u001b[0m \u001b[0msentence\u001b[0m \u001b[1;33m+\u001b[0m\u001b[1;34m' '\u001b[0m\u001b[1;33m\n",
       "\u001b[0m    \u001b[0mname\u001b[0m \u001b[1;33m=\u001b[0m \u001b[0mrandom\u001b[0m\u001b[1;33m.\u001b[0m\u001b[0mchoice\u001b[0m\u001b[1;33m(\u001b[0m\u001b[0mnoun\u001b[0m\u001b[1;33m)\u001b[0m\u001b[1;33m+\u001b[0m\u001b[1;34m'.wav'\u001b[0m\u001b[1;33m\n",
       "\u001b[0m    \u001b[0mtts\u001b[0m\u001b[1;33m(\u001b[0m\u001b[0mdesired_audio_name\u001b[0m \u001b[1;33m=\u001b[0m \u001b[0mname\u001b[0m\u001b[1;33m,\u001b[0m \u001b[0mtext_to_speak\u001b[0m \u001b[1;33m=\u001b[0m \u001b[0mstory\u001b[0m\u001b[1;33m)\u001b[0m\u001b[1;33m\n",
       "\u001b[0m    \u001b[0mplay_audio\u001b[0m\u001b[1;33m(\u001b[0m\u001b[0mfile_name\u001b[0m \u001b[1;33m=\u001b[0m \u001b[0mname\u001b[0m\u001b[1;33m)\u001b[0m\u001b[1;33m\n",
       "\u001b[0m    \u001b[0mprint\u001b[0m\u001b[1;33m(\u001b[0m\u001b[1;34m'END OF STORY \\n'\u001b[0m\u001b[1;33m)\u001b[0m\u001b[1;33m\n",
       "\u001b[0m    \u001b[1;33m\n",
       "\u001b[0m\u001b[1;31m#Utility functions\u001b[0m\u001b[1;33m\n",
       "\u001b[0m\u001b[1;33m\n",
       "\u001b[0m\u001b[1;31m#1. Text-to-speech function; tts()\u001b[0m\u001b[1;33m\n",
       "\u001b[0m\u001b[1;32mdef\u001b[0m \u001b[0mtts\u001b[0m\u001b[1;33m(\u001b[0m\u001b[0mdesired_audio_name\u001b[0m\u001b[1;33m,\u001b[0m \u001b[0mtext_to_speak\u001b[0m\u001b[1;33m)\u001b[0m\u001b[1;33m:\u001b[0m\u001b[1;33m\n",
       "\u001b[0m    \u001b[1;32mwith\u001b[0m \u001b[0mopen\u001b[0m\u001b[1;33m(\u001b[0m\u001b[0mdesired_audio_name\u001b[0m\u001b[1;33m,\u001b[0m \u001b[1;34m'wb'\u001b[0m\u001b[1;33m)\u001b[0m \u001b[1;32mas\u001b[0m \u001b[0maudio_file\u001b[0m\u001b[1;33m:\u001b[0m\u001b[1;33m\n",
       "\u001b[0m        \u001b[0maudio_file\u001b[0m\u001b[1;33m.\u001b[0m\u001b[0mwrite\u001b[0m\u001b[1;33m(\u001b[0m\u001b[1;33m\n",
       "\u001b[0m            \u001b[0mtext_to_speech\u001b[0m\u001b[1;33m.\u001b[0m\u001b[0msynthesize\u001b[0m\u001b[1;33m(\u001b[0m\u001b[1;33m\n",
       "\u001b[0m                \u001b[0mtext_to_speak\u001b[0m\u001b[1;33m,\u001b[0m\u001b[1;33m\n",
       "\u001b[0m                \u001b[0mvoice\u001b[0m\u001b[1;33m=\u001b[0m\u001b[1;34m'en-US_AllisonV3Voice'\u001b[0m\u001b[1;33m,\u001b[0m\u001b[1;33m\n",
       "\u001b[0m                \u001b[0maccept\u001b[0m\u001b[1;33m=\u001b[0m\u001b[1;34m'audio/wav'\u001b[0m        \u001b[1;33m\n",
       "\u001b[0m            \u001b[1;33m)\u001b[0m\u001b[1;33m.\u001b[0m\u001b[0mget_result\u001b[0m\u001b[1;33m(\u001b[0m\u001b[1;33m)\u001b[0m\u001b[1;33m.\u001b[0m\u001b[0mcontent\u001b[0m\u001b[1;33m)\u001b[0m\u001b[1;33m\n",
       "\u001b[0m        \u001b[1;33m\n",
       "\u001b[0m\u001b[1;31m#2. play audio function; play_audio()\u001b[0m\u001b[1;33m\n",
       "\u001b[0m\u001b[1;32mdef\u001b[0m \u001b[0mplay_audio\u001b[0m\u001b[1;33m(\u001b[0m\u001b[0mfile_name\u001b[0m\u001b[1;33m)\u001b[0m\u001b[1;33m:\u001b[0m\u001b[1;33m\n",
       "\u001b[0m    \u001b[1;34m\"\"\"Use the pydub module (pip install pydub) to play a WAV file.\"\"\"\u001b[0m\u001b[1;33m\n",
       "\u001b[0m    \u001b[0msound\u001b[0m \u001b[1;33m=\u001b[0m \u001b[0mpydub\u001b[0m\u001b[1;33m.\u001b[0m\u001b[0mAudioSegment\u001b[0m\u001b[1;33m.\u001b[0m\u001b[0mfrom_wav\u001b[0m\u001b[1;33m(\u001b[0m\u001b[0mfile_name\u001b[0m\u001b[1;33m)\u001b[0m\u001b[1;33m\n",
       "\u001b[0m    \u001b[0mpydub\u001b[0m\u001b[1;33m.\u001b[0m\u001b[0mplayback\u001b[0m\u001b[1;33m.\u001b[0m\u001b[0mplay\u001b[0m\u001b[1;33m(\u001b[0m\u001b[0msound\u001b[0m\u001b[1;33m)\u001b[0m\u001b[1;33m\n",
       "\u001b[0m\u001b[1;33m\n",
       "\u001b[0m\u001b[1;31m#data base of common words by category\u001b[0m\u001b[1;33m\n",
       "\u001b[0m\u001b[0marticle\u001b[0m \u001b[1;33m=\u001b[0m \u001b[1;33m[\u001b[0m\u001b[1;34m'a'\u001b[0m\u001b[1;33m,\u001b[0m \u001b[1;34m'an'\u001b[0m\u001b[1;33m,\u001b[0m \u001b[1;34m'the'\u001b[0m\u001b[1;33m]\u001b[0m\u001b[1;33m\n",
       "\u001b[0m\u001b[1;33m\n",
       "\u001b[0m\u001b[0mnoun\u001b[0m \u001b[1;33m=\u001b[0m \u001b[1;33m[\u001b[0m\u001b[1;34m\"Actor\"\u001b[0m\u001b[1;33m,\u001b[0m \u001b[1;34m\"Gold\"\u001b[0m\u001b[1;33m,\u001b[0m \u001b[1;34m\"Painting\"\u001b[0m\u001b[1;33m,\u001b[0m \u001b[1;34m\"Advertisement\"\u001b[0m\u001b[1;33m,\u001b[0m \u001b[1;34m\"Grass\"\u001b[0m\u001b[1;33m,\u001b[0m \u001b[1;34m\"Parrot\"\u001b[0m\u001b[1;33m,\u001b[0m    \u001b[1;34m\"Afternoon\"\u001b[0m\u001b[1;33m,\u001b[0m \u001b[1;34m\"Greece\"\u001b[0m\u001b[1;33m,\u001b[0m \u001b[1;34m\"Pencil\"\u001b[0m\u001b[1;33m,\u001b[0m     \u001b[1;34m\"Airport\"\u001b[0m\u001b[1;33m,\u001b[0m \u001b[1;34m\"Guitar\"\u001b[0m\u001b[1;33m,\u001b[0m \u001b[1;34m\"Piano\"\u001b[0m\u001b[1;33m,\u001b[0m     \u001b[1;34m\"Ambulance\"\u001b[0m\u001b[1;33m,\u001b[0m \u001b[1;34m\"Hair\"\u001b[0m\u001b[1;33m,\u001b[0m \u001b[1;34m\"Pillow\"\u001b[0m\u001b[1;33m,\u001b[0m    \u001b[1;34m\"Animal\"\u001b[0m\u001b[1;33m,\u001b[0m \u001b[1;34m\"Hamburger\"\u001b[0m\u001b[1;33m,\u001b[0m \u001b[1;34m\"Pizza\"\u001b[0m\u001b[1;33m,\u001b[0m    \u001b[1;34m\"Answer\"\u001b[0m\u001b[1;33m,\u001b[0m \u001b[1;34m\"Helicopter\"\u001b[0m\u001b[1;33m,\u001b[0m \u001b[1;34m\"Planet\"\u001b[0m\u001b[1;33m,\u001b[0m    \u001b[1;34m\"Apple\"\u001b[0m\u001b[1;33m,\u001b[0m \u001b[1;34m\"Helmet\"\u001b[0m\u001b[1;33m,\u001b[0m \u001b[1;34m\"Plastic\"\u001b[0m\u001b[1;33m,\u001b[0m     \u001b[1;34m\"Army\"\u001b[0m\u001b[1;33m,\u001b[0m \u001b[1;34m\"Holiday\"\u001b[0m\u001b[1;33m,\u001b[0m \u001b[1;34m\"Portugal\"\u001b[0m\u001b[1;33m,\u001b[0m    \u001b[1;34m\"Australia\"\u001b[0m\u001b[1;33m,\u001b[0m \u001b[1;34m\"Honey\"\u001b[0m\u001b[1;33m,\u001b[0m \u001b[1;34m\"Potato\"\u001b[0m\u001b[1;33m,\u001b[0m    \u001b[1;34m\"Balloon\"\u001b[0m\u001b[1;33m,\u001b[0m \u001b[1;34m\"Horse\"\u001b[0m\u001b[1;33m,\u001b[0m \u001b[1;34m\"Queen\"\u001b[0m\u001b[1;33m,\u001b[0m     \u001b[1;34m\"Banana\"\u001b[0m\u001b[1;33m,\u001b[0m \u001b[1;34m\"Hospital\"\u001b[0m\u001b[1;33m,\u001b[0m \u001b[1;34m\"Quill\"\u001b[0m\u001b[1;33m,\u001b[0m     \u001b[1;34m\"Battery\"\u001b[0m\u001b[1;33m,\u001b[0m \u001b[1;34m\"House\"\u001b[0m\u001b[1;33m,\u001b[0m \u001b[1;34m\"Rain\"\u001b[0m\u001b[1;33m,\u001b[0m     \u001b[1;34m\"Beach\"\u001b[0m\u001b[1;33m,\u001b[0m \u001b[1;34m\"Hydrogen\"\u001b[0m\u001b[1;33m,\u001b[0m \u001b[1;34m\"Rainbow\"\u001b[0m\u001b[1;33m,\u001b[0m    \u001b[1;34m\"Beard\"\u001b[0m\u001b[1;33m,\u001b[0m \u001b[1;34m\"Ice\"\u001b[0m\u001b[1;33m,\u001b[0m \u001b[1;34m\"Raincoat\"\u001b[0m\u001b[1;33m,\u001b[0m    \u001b[1;34m\"Bed\"\u001b[0m\u001b[1;33m,\u001b[0m \u001b[1;34m\"Insect\"\u001b[0m\u001b[1;33m,\u001b[0m \u001b[1;34m\"Refrigerator\"\u001b[0m\u001b[1;33m,\u001b[0m     \u001b[1;34m\"Belgium\"\u001b[0m\u001b[1;33m,\u001b[0m \u001b[1;34m\"Insurance\"\u001b[0m\u001b[1;33m,\u001b[0m \u001b[1;34m\"Restaurant\"\u001b[0m\u001b[1;33m,\u001b[0m    \u001b[1;34m\"Boy\"\u001b[0m\u001b[1;33m,\u001b[0m \u001b[1;34m\"Iron\"\u001b[0m\u001b[1;33m,\u001b[0m \u001b[1;34m\"River\"\u001b[0m\u001b[1;33m,\u001b[0m    \u001b[1;34m\"Branch\"\u001b[0m\u001b[1;33m,\u001b[0m \u001b[1;34m\"Island\"\u001b[0m\u001b[1;33m,\u001b[0m \u001b[1;34m\"Rocket\"\u001b[0m\u001b[1;33m,\u001b[0m    \u001b[1;34m\"Breakfast\"\u001b[0m\u001b[1;33m,\u001b[0m \u001b[1;34m\"Jackal\"\u001b[0m\u001b[1;33m,\u001b[0m \u001b[1;34m\"Room\"\u001b[0m\u001b[1;33m,\u001b[0m     \u001b[1;34m\"Brother\"\u001b[0m\u001b[1;33m,\u001b[0m \u001b[1;34m\"Jelly\"\u001b[0m\u001b[1;33m,\u001b[0m \u001b[1;34m\"Rose\"\u001b[0m\u001b[1;33m,\u001b[0m    \u001b[1;34m\"Camera\"\u001b[0m\u001b[1;33m,\u001b[0m \u001b[1;34m\"Jewellery\"\u001b[0m\u001b[1;33m,\u001b[0m \u001b[1;34m\"Russia\"\u001b[0m\u001b[1;33m,\u001b[0m     \u001b[1;34m\"Candle\"\u001b[0m\u001b[1;33m,\u001b[0m \u001b[1;34m\"Jordan\"\u001b[0m\u001b[1;33m,\u001b[0m \u001b[1;34m\"Sandwich\"\u001b[0m\u001b[1;33m,\u001b[0m    \u001b[1;34m\"Car\"\u001b[0m\u001b[1;33m,\u001b[0m \u001b[1;34m\"Juice\"\u001b[0m\u001b[1;33m,\u001b[0m \u001b[1;34m\"School\"\u001b[0m\u001b[1;33m,\u001b[0m     \u001b[1;34m\"Caravan\"\u001b[0m\u001b[1;33m,\u001b[0m \u001b[1;34m\"Kangaroo\"\u001b[0m\u001b[1;33m,\u001b[0m \u001b[1;34m\"Scooter\"\u001b[0m\u001b[1;33m,\u001b[0m    \u001b[1;34m\"Carpet\"\u001b[0m\u001b[1;33m,\u001b[0m \u001b[1;34m\"King\"\u001b[0m\u001b[1;33m,\u001b[0m \u001b[1;34m\"Shampoo\"\u001b[0m\u001b[1;33m,\u001b[0m     \u001b[1;34m\"Cartoon\"\u001b[0m\u001b[1;33m,\u001b[0m \u001b[1;34m\"Kitchen\"\u001b[0m\u001b[1;33m,\u001b[0m \u001b[1;34m\"Shoe\"\u001b[0m\u001b[1;33m,\u001b[0m    \u001b[1;34m\"China\"\u001b[0m\u001b[1;33m,\u001b[0m \u001b[1;34m\"Kite\"\u001b[0m\u001b[1;33m,\u001b[0m \u001b[1;34m\"Soccer\"\u001b[0m\u001b[1;33m,\u001b[0m\u001b[1;33m\n",
       "\u001b[0m\u001b[1;34m\"Church\"\u001b[0m\u001b[1;33m,\u001b[0m \u001b[1;34m\"Knife\"\u001b[0m\u001b[1;33m,\u001b[0m \u001b[1;34m\"Spoon\"\u001b[0m\u001b[1;33m,\u001b[0m    \u001b[1;34m\"Crayon\"\u001b[0m\u001b[1;33m,\u001b[0m \u001b[1;34m\"Lamp\"\u001b[0m\u001b[1;33m,\u001b[0m \u001b[1;34m\"Stone\"\u001b[0m\u001b[1;33m,\u001b[0m     \u001b[1;34m\"Crowd\"\u001b[0m\u001b[1;33m,\u001b[0m \u001b[1;34m\"Lawyer\"\u001b[0m\u001b[1;33m,\u001b[0m \u001b[1;34m\"Sugar\"\u001b[0m\u001b[1;33m,\u001b[0m    \u001b[1;34m\"Daughter\"\u001b[0m\u001b[1;33m,\u001b[0m \u001b[1;34m\"Leather\"\u001b[0m\u001b[1;33m,\u001b[0m \u001b[1;34m\"Sweden\"\u001b[0m\u001b[1;33m,\u001b[0m     \u001b[1;34m\"Death\"\u001b[0m\u001b[1;33m,\u001b[0m \u001b[1;34m\"Library\"\u001b[0m\u001b[1;33m,\u001b[0m \u001b[1;34m\"Teacher\"\u001b[0m\u001b[1;33m,\u001b[0m  \u001b[1;34m\"Denmark\"\u001b[0m\u001b[1;33m,\u001b[0m \u001b[1;34m\"Lighter\"\u001b[0m\u001b[1;33m,\u001b[0m \u001b[1;34m\"Telephone\"\u001b[0m\u001b[1;33m,\u001b[0m     \u001b[1;34m\"Diamond\"\u001b[0m\u001b[1;33m,\u001b[0m \u001b[1;34m\"Lion\"\u001b[0m\u001b[1;33m,\u001b[0m \u001b[1;34m\"Television\"\u001b[0m\u001b[1;33m,\u001b[0m    \u001b[1;34m\"Dinner\"\u001b[0m\u001b[1;33m,\u001b[0m \u001b[1;34m\"Lizard\"\u001b[0m\u001b[1;33m,\u001b[0m \u001b[1;34m\"Tent\"\u001b[0m\u001b[1;33m,\u001b[0m     \u001b[1;34m\"Disease\"\u001b[0m\u001b[1;33m,\u001b[0m \u001b[1;34m\"Lock\"\u001b[0m\u001b[1;33m,\u001b[0m \u001b[1;34m\"Thailand\"\u001b[0m\u001b[1;33m,\u001b[0m    \u001b[1;34m\"Doctor\"\u001b[0m\u001b[1;33m,\u001b[0m \u001b[1;34m\"London\"\u001b[0m\u001b[1;33m,\u001b[0m \u001b[1;34m\"Tomato\"\u001b[0m\u001b[1;33m,\u001b[0m     \u001b[1;34m\"Dog\"\u001b[0m\u001b[1;33m,\u001b[0m \u001b[1;34m\"Lunch\"\u001b[0m\u001b[1;33m,\u001b[0m \u001b[1;34m\"Toothbrush\"\u001b[0m\u001b[1;33m,\u001b[0m    \u001b[1;34m\"Dream\"\u001b[0m\u001b[1;33m,\u001b[0m \u001b[1;34m\"Machine\"\u001b[0m\u001b[1;33m,\u001b[0m \u001b[1;34m\"Traffic\"\u001b[0m\u001b[1;33m,\u001b[0m     \u001b[1;34m\"Dress\"\u001b[0m\u001b[1;33m,\u001b[0m \u001b[1;34m\"Magazine\"\u001b[0m\u001b[1;33m,\u001b[0m \u001b[1;34m\"Train\"\u001b[0m\u001b[1;33m,\u001b[0m    \u001b[1;34m\"Easter\"\u001b[0m\u001b[1;33m,\u001b[0m \u001b[1;34m\"Magician\"\u001b[0m\u001b[1;33m,\u001b[0m \u001b[1;34m\"Truck\"\u001b[0m\u001b[1;33m,\u001b[0m     \u001b[1;34m\"Egg\"\u001b[0m\u001b[1;33m,\u001b[0m \u001b[1;34m\"Manchester\"\u001b[0m\u001b[1;33m,\u001b[0m \u001b[1;34m\"Uganda\"\u001b[0m\u001b[1;33m,\u001b[0m    \u001b[1;34m\"Eggplant\"\u001b[0m\u001b[1;33m,\u001b[0m \u001b[1;34m\"Market\"\u001b[0m\u001b[1;33m,\u001b[0m \u001b[1;34m\"Umbrella\"\u001b[0m\u001b[1;33m,\u001b[0m     \u001b[1;34m\"Egypt\"\u001b[0m\u001b[1;33m,\u001b[0m \u001b[1;34m\"Match\"\u001b[0m\u001b[1;33m,\u001b[0m \u001b[1;34m\"Van\"\u001b[0m\u001b[1;33m,\u001b[0m     \u001b[1;34m\"Elephant\"\u001b[0m\u001b[1;33m,\u001b[0m \u001b[1;34m\"Microphone\"\u001b[0m\u001b[1;33m,\u001b[0m \u001b[1;34m\"Vase\"\u001b[0m\u001b[1;33m,\u001b[0m     \u001b[1;34m\"Energy\"\u001b[0m\u001b[1;33m,\u001b[0m \u001b[1;34m\"Monkey\"\u001b[0m\u001b[1;33m,\u001b[0m \u001b[1;34m\"Vegetable\"\u001b[0m\u001b[1;33m,\u001b[0m     \u001b[1;34m\"Engine\"\u001b[0m\u001b[1;33m,\u001b[0m \u001b[1;34m\"Morning\"\u001b[0m\u001b[1;33m,\u001b[0m \u001b[1;34m\"Vulture\"\u001b[0m\u001b[1;33m,\u001b[0m     \u001b[1;34m\"England\"\u001b[0m\u001b[1;33m,\u001b[0m \u001b[1;34m\"Motorcycle\"\u001b[0m\u001b[1;33m,\u001b[0m \u001b[1;34m\"Wall\"\u001b[0m\u001b[1;33m,\u001b[0m    \u001b[1;34m\"Evening\"\u001b[0m\u001b[1;33m,\u001b[0m \u001b[1;34m\"Nail\"\u001b[0m\u001b[1;33m,\u001b[0m \u001b[1;34m\"Whale\"\u001b[0m\u001b[1;33m,\u001b[0m     \u001b[1;34m\"Eye\"\u001b[0m\u001b[1;33m,\u001b[0m \u001b[1;34m\"Napkin\"\u001b[0m\u001b[1;33m,\u001b[0m \u001b[1;34m\"Window\"\u001b[0m\u001b[1;33m,\u001b[0m     \u001b[1;34m\"Family\"\u001b[0m\u001b[1;33m,\u001b[0m \u001b[1;34m\"Needle\"\u001b[0m\u001b[1;33m,\u001b[0m \u001b[1;34m\"Wire\"\u001b[0m\u001b[1;33m,\u001b[0m     \u001b[1;34m\"Finland\"\u001b[0m\u001b[1;33m,\u001b[0m \u001b[1;34m\"Nest\"\u001b[0m\u001b[1;33m,\u001b[0m \u001b[1;34m\"Xylophone\"\u001b[0m\u001b[1;33m,\u001b[0m     \u001b[1;34m\"Fish\"\u001b[0m\u001b[1;33m,\u001b[0m \u001b[1;34m\"Nigeria\"\u001b[0m\u001b[1;33m,\u001b[0m \u001b[1;34m\"Yacht\"\u001b[0m\u001b[1;33m,\u001b[0m     \u001b[1;34m\"Flag\"\u001b[0m\u001b[1;33m,\u001b[0m \u001b[1;34m\"Night\"\u001b[0m\u001b[1;33m,\u001b[0m \u001b[1;34m\"Yak\"\u001b[0m\u001b[1;33m,\u001b[0m     \u001b[1;34m\"Flower\"\u001b[0m\u001b[1;33m,\u001b[0m \u001b[1;34m\"Notebook\"\u001b[0m\u001b[1;33m,\u001b[0m \u001b[1;34m\"Zebra\"\u001b[0m\u001b[1;33m,\u001b[0m     \u001b[1;34m\"Football\"\u001b[0m\u001b[1;33m,\u001b[0m \u001b[1;34m\"Ocean\"\u001b[0m\u001b[1;33m,\u001b[0m \u001b[1;34m\"Zoo\"\u001b[0m\u001b[1;33m,\u001b[0m     \u001b[1;34m\"Forest\"\u001b[0m\u001b[1;33m,\u001b[0m \u001b[1;34m\"Oil\"\u001b[0m\u001b[1;33m,\u001b[0m \u001b[1;34m\"Garden\"\u001b[0m\u001b[1;33m,\u001b[0m     \u001b[1;34m\"Fountain\"\u001b[0m\u001b[1;33m,\u001b[0m \u001b[1;34m\"Orange\"\u001b[0m\u001b[1;33m,\u001b[0m \u001b[1;34m\"Gas\"\u001b[0m\u001b[1;33m,\u001b[0m    \u001b[1;34m\"France\"\u001b[0m\u001b[1;33m,\u001b[0m \u001b[1;34m\"Oxygen\"\u001b[0m\u001b[1;33m,\u001b[0m \u001b[1;34m\"Girl\"\u001b[0m\u001b[1;33m,\u001b[0m    \u001b[1;34m\"Furniture\"\u001b[0m\u001b[1;33m,\u001b[0m \u001b[1;34m\"Oyster\"\u001b[0m\u001b[1;33m,\u001b[0m \u001b[1;34m\"Glass\"\u001b[0m\u001b[1;33m,\u001b[0m    \u001b[1;34m\"Garage\"\u001b[0m\u001b[1;33m,\u001b[0m \u001b[1;34m\"Ghost\"\u001b[0m\u001b[1;33m]\u001b[0m\u001b[1;33m\n",
       "\u001b[0m\u001b[1;33m\n",
       "\u001b[0m\u001b[0mverb\u001b[0m \u001b[1;33m=\u001b[0m \u001b[1;33m[\u001b[0m    \u001b[1;34m\"be\"\u001b[0m\u001b[1;33m,\u001b[0m \u001b[1;34m\"have\"\u001b[0m\u001b[1;33m,\u001b[0m \u001b[1;34m\"do\"\u001b[0m\u001b[1;33m,\u001b[0m \u001b[1;34m\"say\"\u001b[0m\u001b[1;33m,\u001b[0m \u001b[1;34m\"go\"\u001b[0m\u001b[1;33m,\u001b[0m \u001b[1;34m\"can\"\u001b[0m\u001b[1;33m,\u001b[0m \u001b[1;34m\"get\"\u001b[0m\u001b[1;33m,\u001b[0m \u001b[1;34m\"would\"\u001b[0m\u001b[1;33m,\u001b[0m \u001b[1;34m\"make\"\u001b[0m\u001b[1;33m,\u001b[0m \u001b[1;34m\"know\"\u001b[0m\u001b[1;33m,\u001b[0m \u001b[1;34m\"will\"\u001b[0m\u001b[1;33m,\u001b[0m \u001b[1;34m\"think\"\u001b[0m\u001b[1;33m,\u001b[0m \u001b[1;34m\"take\"\u001b[0m\u001b[1;33m,\u001b[0m \u001b[1;34m\"see\"\u001b[0m\u001b[1;33m,\u001b[0m \u001b[1;34m\"come\"\u001b[0m\u001b[1;33m,\u001b[0m \u001b[1;34m\"could\"\u001b[0m\u001b[1;33m,\u001b[0m \u001b[1;34m\"want\"\u001b[0m\u001b[1;33m,\u001b[0m \u001b[1;34m\"look\"\u001b[0m\u001b[1;33m,\u001b[0m \u001b[1;34m\"use\"\u001b[0m\u001b[1;33m,\u001b[0m \u001b[1;34m\"find\"\u001b[0m\u001b[1;33m,\u001b[0m \u001b[1;34m\"give\"\u001b[0m\u001b[1;33m,\u001b[0m \u001b[1;34m\"tell\"\u001b[0m\u001b[1;33m,\u001b[0m \u001b[1;34m\"work\"\u001b[0m\u001b[1;33m,\u001b[0m \u001b[1;34m\"may\"\u001b[0m\u001b[1;33m,\u001b[0m \u001b[1;34m\"should\"\u001b[0m\u001b[1;33m,\u001b[0m \u001b[1;34m\"call\"\u001b[0m\u001b[1;33m,\u001b[0m \u001b[1;34m\"try\"\u001b[0m\u001b[1;33m,\u001b[0m \u001b[1;34m\"ask\"\u001b[0m\u001b[1;33m,\u001b[0m \u001b[1;34m\"need\"\u001b[0m\u001b[1;33m,\u001b[0m \u001b[1;34m\"feel\"\u001b[0m\u001b[1;33m,\u001b[0m \u001b[1;34m\"become\"\u001b[0m\u001b[1;33m,\u001b[0m \u001b[1;34m\"leave\"\u001b[0m\u001b[1;33m,\u001b[0m \u001b[1;34m\"put\"\u001b[0m\u001b[1;33m,\u001b[0m \u001b[1;34m\"mean\"\u001b[0m\u001b[1;33m,\u001b[0m \u001b[1;34m\"keep\"\u001b[0m\u001b[1;33m,\u001b[0m \u001b[1;34m\"let\"\u001b[0m\u001b[1;33m,\u001b[0m \u001b[1;34m\"begin\"\u001b[0m\u001b[1;33m,\u001b[0m \u001b[1;34m\"seem\"\u001b[0m\u001b[1;33m,\u001b[0m \u001b[1;34m\"help\"\u001b[0m\u001b[1;33m,\u001b[0m \u001b[1;34m\"talk\"\u001b[0m\u001b[1;33m,\u001b[0m \u001b[1;34m\"turn\"\u001b[0m\u001b[1;33m,\u001b[0m \u001b[1;34m\"start\"\u001b[0m\u001b[1;33m,\u001b[0m \u001b[1;34m\"might\"\u001b[0m\u001b[1;33m,\u001b[0m \u001b[1;34m\"show\"\u001b[0m\u001b[1;33m,\u001b[0m \u001b[1;34m\"hear\"\u001b[0m\u001b[1;33m,\u001b[0m \u001b[1;34m\"play\"\u001b[0m\u001b[1;33m,\u001b[0m \u001b[1;34m\"run\"\u001b[0m\u001b[1;33m,\u001b[0m \u001b[1;34m\"move\"\u001b[0m\u001b[1;33m,\u001b[0m \u001b[1;34m\"like\"\u001b[0m\u001b[1;33m,\u001b[0m \u001b[1;34m\"live\"\u001b[0m\u001b[1;33m,\u001b[0m \u001b[1;34m\"believe\"\u001b[0m\u001b[1;33m,\u001b[0m \u001b[1;34m\"hold\"\u001b[0m\u001b[1;33m,\u001b[0m \u001b[1;34m\"bring\"\u001b[0m\u001b[1;33m,\u001b[0m \u001b[1;34m\"happen\"\u001b[0m\u001b[1;33m,\u001b[0m \u001b[1;34m\"must\"\u001b[0m\u001b[1;33m,\u001b[0m \u001b[1;34m\"write\"\u001b[0m\u001b[1;33m,\u001b[0m \u001b[1;34m\"provide\"\u001b[0m\u001b[1;33m,\u001b[0m \u001b[1;34m\"sit\"\u001b[0m\u001b[1;33m,\u001b[0m \u001b[1;34m\"stand\"\u001b[0m\u001b[1;33m,\u001b[0m \u001b[1;34m\"lose\"\u001b[0m\u001b[1;33m,\u001b[0m \u001b[1;34m\"pay\"\u001b[0m\u001b[1;33m,\u001b[0m \u001b[1;34m\"meet\"\u001b[0m\u001b[1;33m,\u001b[0m \u001b[1;34m\"include\"\u001b[0m\u001b[1;33m,\u001b[0m \u001b[1;34m\"continue\"\u001b[0m\u001b[1;33m,\u001b[0m \u001b[1;34m\"set\"\u001b[0m\u001b[1;33m,\u001b[0m \u001b[1;34m\"learn\"\u001b[0m\u001b[1;33m,\u001b[0m \u001b[1;34m\"change\"\u001b[0m\u001b[1;33m,\u001b[0m \u001b[1;34m\"lead\"\u001b[0m\u001b[1;33m,\u001b[0m \u001b[1;34m\"understand\"\u001b[0m\u001b[1;33m,\u001b[0m \u001b[1;34m\"watch\"\u001b[0m\u001b[1;33m,\u001b[0m \u001b[1;34m\"follow\"\u001b[0m\u001b[1;33m,\u001b[0m \u001b[1;34m\"stop\"\u001b[0m\u001b[1;33m,\u001b[0m \u001b[1;34m\"create\"\u001b[0m\u001b[1;33m,\u001b[0m \u001b[1;34m\"speak\"\u001b[0m\u001b[1;33m,\u001b[0m \u001b[1;34m\"read\"\u001b[0m\u001b[1;33m,\u001b[0m \u001b[1;34m\"allow\"\u001b[0m\u001b[1;33m,\u001b[0m \u001b[1;34m\"add\"\u001b[0m\u001b[1;33m,\u001b[0m \u001b[1;34m\"spend\"\u001b[0m\u001b[1;33m,\u001b[0m \u001b[1;34m\"grow\"\u001b[0m\u001b[1;33m,\u001b[0m \u001b[1;34m\"open\"\u001b[0m\u001b[1;33m,\u001b[0m \u001b[1;34m\"walk\"\u001b[0m\u001b[1;33m,\u001b[0m \u001b[1;34m\"win\"\u001b[0m\u001b[1;33m,\u001b[0m \u001b[1;34m\"offer\"\u001b[0m\u001b[1;33m,\u001b[0m \u001b[1;34m\"remember\"\u001b[0m\u001b[1;33m,\u001b[0m \u001b[1;34m\"love\"\u001b[0m\u001b[1;33m,\u001b[0m \u001b[1;34m\"consider\"\u001b[0m\u001b[1;33m,\u001b[0m \u001b[1;34m\"appear\"\u001b[0m\u001b[1;33m,\u001b[0m \u001b[1;34m\"buy\"\u001b[0m\u001b[1;33m,\u001b[0m \u001b[1;34m\"wait\"\u001b[0m\u001b[1;33m,\u001b[0m \u001b[1;34m\"serve\"\u001b[0m\u001b[1;33m,\u001b[0m \u001b[1;34m\"die\"\u001b[0m\u001b[1;33m,\u001b[0m \u001b[1;34m\"send\"\u001b[0m\u001b[1;33m,\u001b[0m \u001b[1;34m\"expect\"\u001b[0m\u001b[1;33m,\u001b[0m \u001b[1;34m\"build\"\u001b[0m\u001b[1;33m,\u001b[0m \u001b[1;34m\"stay\"\u001b[0m\u001b[1;33m,\u001b[0m \u001b[1;34m\"fall\"\u001b[0m\u001b[1;33m,\u001b[0m \u001b[1;34m\"cut\"\u001b[0m\u001b[1;33m,\u001b[0m \u001b[1;34m\"reach\"\u001b[0m\u001b[1;33m,\u001b[0m \u001b[1;34m\"kill\"\u001b[0m\u001b[1;33m,\u001b[0m \u001b[1;34m\"remain\"\u001b[0m\u001b[1;33m]\u001b[0m\u001b[1;33m\n",
       "\u001b[0m\u001b[1;33m\n",
       "\u001b[0m\u001b[0mproposition\u001b[0m \u001b[1;33m=\u001b[0m \u001b[1;33m[\u001b[0m\u001b[1;34m\"aboard\"\u001b[0m\u001b[1;33m,\u001b[0m \u001b[1;34m\"about\"\u001b[0m\u001b[1;33m,\u001b[0m \u001b[1;34m\"above\"\u001b[0m\u001b[1;33m,\u001b[0m \u001b[1;34m\"across\"\u001b[0m\u001b[1;33m,\u001b[0m \u001b[1;34m\"after\"\u001b[0m\u001b[1;33m,\u001b[0m \u001b[1;34m\"against\"\u001b[0m\u001b[1;33m,\u001b[0m \u001b[1;34m\"along\"\u001b[0m\u001b[1;33m,\u001b[0m \u001b[1;34m\"amid\"\u001b[0m\u001b[1;33m,\u001b[0m \u001b[1;34m\"among\"\u001b[0m\u001b[1;33m,\u001b[0m \u001b[1;34m\"around\"\u001b[0m\u001b[1;33m,\u001b[0m \u001b[1;34m\"as\"\u001b[0m\u001b[1;33m,\u001b[0m \u001b[1;34m\"at\"\u001b[0m\u001b[1;33m,\u001b[0m \u001b[1;34m\"before\"\u001b[0m\u001b[1;33m,\u001b[0m \u001b[1;34m\"behind\"\u001b[0m\u001b[1;33m,\u001b[0m \u001b[1;34m\"below\"\u001b[0m\u001b[1;33m,\u001b[0m     \u001b[1;34m\"beneath\"\u001b[0m\u001b[1;33m,\u001b[0m \u001b[1;34m\"beside\"\u001b[0m\u001b[1;33m,\u001b[0m \u001b[1;34m\"between\"\u001b[0m\u001b[1;33m,\u001b[0m \u001b[1;34m\"beyond\"\u001b[0m\u001b[1;33m,\u001b[0m \u001b[1;34m\"but\"\u001b[0m\u001b[1;33m,\u001b[0m \u001b[1;34m\"by\"\u001b[0m\u001b[1;33m,\u001b[0m \u001b[1;34m\"considering\"\u001b[0m\u001b[1;33m,\u001b[0m \u001b[1;34m\"despite\"\u001b[0m\u001b[1;33m,\u001b[0m \u001b[1;34m\"down\"\u001b[0m\u001b[1;33m,\u001b[0m \u001b[1;34m\"during\"\u001b[0m\u001b[1;33m,\u001b[0m \u001b[1;34m\"except\"\u001b[0m\u001b[1;33m,\u001b[0m \u001b[1;34m\"excluding\"\u001b[0m\u001b[1;33m,\u001b[0m \u001b[1;34m\"following\"\u001b[0m\u001b[1;33m,\u001b[0m \u001b[1;34m\"for\"\u001b[0m\u001b[1;33m,\u001b[0m     \u001b[1;34m\"from\"\u001b[0m\u001b[1;33m,\u001b[0m \u001b[1;34m\"in\"\u001b[0m\u001b[1;33m,\u001b[0m \u001b[1;34m\"inside\"\u001b[0m\u001b[1;33m,\u001b[0m \u001b[1;34m\"into\"\u001b[0m\u001b[1;33m,\u001b[0m \u001b[1;34m\"like\"\u001b[0m\u001b[1;33m,\u001b[0m \u001b[1;34m\"near\"\u001b[0m\u001b[1;33m,\u001b[0m \u001b[1;34m\"of\"\u001b[0m\u001b[1;33m,\u001b[0m \u001b[1;34m\"off\"\u001b[0m\u001b[1;33m,\u001b[0m \u001b[1;34m\"on\"\u001b[0m\u001b[1;33m,\u001b[0m \u001b[1;34m\"onto\"\u001b[0m\u001b[1;33m,\u001b[0m \u001b[1;34m\"outside\"\u001b[0m\u001b[1;33m,\u001b[0m \u001b[1;34m\"over\"\u001b[0m\u001b[1;33m,\u001b[0m \u001b[1;34m\"past\"\u001b[0m\u001b[1;33m,\u001b[0m \u001b[1;34m\"regarding\"\u001b[0m\u001b[1;33m,\u001b[0m \u001b[1;34m\"since\"\u001b[0m\u001b[1;33m,\u001b[0m \u001b[1;34m\"than\"\u001b[0m\u001b[1;33m,\u001b[0m \u001b[1;34m\"though\"\u001b[0m\u001b[1;33m,\u001b[0m \u001b[1;34m\"to\"\u001b[0m\u001b[1;33m,\u001b[0m \u001b[1;34m\"toward\"\u001b[0m\u001b[1;33m,\u001b[0m \u001b[1;34m\"under\"\u001b[0m\u001b[1;33m,\u001b[0m \u001b[1;34m\"underneath\"\u001b[0m\u001b[1;33m,\u001b[0m \u001b[1;34m\"until\"\u001b[0m\u001b[1;33m,\u001b[0m \u001b[1;34m\"up\"\u001b[0m\u001b[1;33m,\u001b[0m     \u001b[1;34m\"upon\"\u001b[0m\u001b[1;33m,\u001b[0m \u001b[1;34m\"versus\"\u001b[0m\u001b[1;33m,\u001b[0m \u001b[1;34m\"with\"\u001b[0m\u001b[1;33m,\u001b[0m \u001b[1;34m\"within\"\u001b[0m\u001b[1;33m,\u001b[0m \u001b[1;34m\"without\"\u001b[0m \u001b[1;33m]\u001b[0m\u001b[1;33m\n",
       "\u001b[0m\u001b[1;33m\n",
       "\u001b[0m\u001b[1;31m#invoke run_story();\u001b[0m\u001b[1;33m\n",
       "\u001b[0m\u001b[1;32mif\u001b[0m \u001b[0m__name__\u001b[0m \u001b[1;33m==\u001b[0m \u001b[1;34m'__main__'\u001b[0m\u001b[1;33m:\u001b[0m\u001b[1;33m\n",
       "\u001b[0m    \u001b[0mrun_story\u001b[0m\u001b[1;33m(\u001b[0m\u001b[1;33m)\u001b[0m\u001b[1;33m\u001b[0m\u001b[1;33m\u001b[0m\u001b[0m\n"
      ]
     },
     "metadata": {},
     "output_type": "display_data"
    }
   ],
   "source": [
    "import story\n",
    "??story"
   ]
  },
  {
   "cell_type": "markdown",
   "id": "52cf533f-20d8-4127-b9bb-d0c4806b044d",
   "metadata": {},
   "source": [
    "## App Test Drive 1"
   ]
  },
  {
   "cell_type": "code",
   "execution_count": 58,
   "id": "8f07e0d4-2636-4309-94d9-ea3c4c58b180",
   "metadata": {},
   "outputs": [
    {
     "name": "stdout",
     "output_type": "stream",
     "text": [
      "YOUR RANDOMLY GENERATED STORY \n",
      "\n",
      "The sugar lead until an needle. \n",
      "\n",
      "A pizza change toward the traffic. \n",
      "\n",
      "An queen ask except an france. \n",
      "\n",
      "A parrot find off an queen. \n",
      "\n",
      "An horse bring down an bed. \n",
      "\n",
      "An eye watch beside an carpet. \n",
      "\n",
      "The painting must following an pencil. \n",
      "\n",
      "An branch help into a night. \n",
      "\n",
      "An hair lead over a train. \n",
      "\n",
      "An hamburger might underneath a tent. \n",
      "\n",
      "NOW LISTEN TO YOUR STORY \n",
      "\n",
      "END OF STORY \n",
      "\n"
     ]
    }
   ],
   "source": [
    "run story"
   ]
  },
  {
   "cell_type": "markdown",
   "id": "ef49e5c5-e5a6-4adf-bef4-d94be2e45ec6",
   "metadata": {},
   "source": [
    "## App Test Drive 2"
   ]
  },
  {
   "cell_type": "code",
   "execution_count": 59,
   "id": "0d2f7dd2-19ee-4a21-8e61-338c7c8de783",
   "metadata": {},
   "outputs": [
    {
     "name": "stdout",
     "output_type": "stream",
     "text": [
      "YOUR RANDOMLY GENERATED STORY \n",
      "\n",
      "The football think outside a tomato. \n",
      "\n",
      "A lawyer look behind an rain. \n",
      "\n",
      "A lion lead up a pencil. \n",
      "\n",
      "A crowd expect near a branch. \n",
      "\n",
      "An raincoat work near a glass. \n",
      "\n",
      "An boy do excluding an helicopter. \n",
      "\n",
      "The eggplant believe to an needle. \n",
      "\n",
      "An manchester open down a market. \n",
      "\n",
      "A candle include until a rainbow. \n",
      "\n",
      "The zebra come excluding a apple. \n",
      "\n",
      "NOW LISTEN TO YOUR STORY \n",
      "\n",
      "END OF STORY \n",
      "\n"
     ]
    }
   ],
   "source": [
    "run story"
   ]
  },
  {
   "cell_type": "markdown",
   "id": "63b5756c-b5ec-431c-85e2-2c80441ff7ca",
   "metadata": {},
   "source": [
    "## App Test Drive 3"
   ]
  },
  {
   "cell_type": "code",
   "execution_count": 60,
   "id": "f66aefb4-b1ba-4495-8fec-451205486088",
   "metadata": {},
   "outputs": [
    {
     "name": "stdout",
     "output_type": "stream",
     "text": [
      "YOUR RANDOMLY GENERATED STORY \n",
      "\n",
      "The denmark love in a eye. \n",
      "\n",
      "The afternoon add beneath an insurance. \n",
      "\n",
      "The kite hold on a magician. \n",
      "\n",
      "The helmet come into an match. \n",
      "\n",
      "A dinner look of a energy. \n",
      "\n",
      "The tent talk of a oil. \n",
      "\n",
      "The crowd move at an tomato. \n",
      "\n",
      "A energy will until the helmet. \n",
      "\n",
      "A rocket learn up a kite. \n",
      "\n",
      "An ocean find considering an portugal. \n",
      "\n",
      "NOW LISTEN TO YOUR STORY \n",
      "\n",
      "END OF STORY \n",
      "\n"
     ]
    }
   ],
   "source": [
    "run story"
   ]
  }
 ],
 "metadata": {
  "kernelspec": {
   "display_name": "Python 3 (ipykernel)",
   "language": "python",
   "name": "python3"
  },
  "language_info": {
   "codemirror_mode": {
    "name": "ipython",
    "version": 3
   },
   "file_extension": ".py",
   "mimetype": "text/x-python",
   "name": "python",
   "nbconvert_exporter": "python",
   "pygments_lexer": "ipython3",
   "version": "3.9.13"
  }
 },
 "nbformat": 4,
 "nbformat_minor": 5
}
