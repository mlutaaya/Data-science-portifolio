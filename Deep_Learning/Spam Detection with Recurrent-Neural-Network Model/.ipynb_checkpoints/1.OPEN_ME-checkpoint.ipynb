{
 "cells": [
  {
   "cell_type": "markdown",
   "id": "3a01abbe",
   "metadata": {},
   "source": [
    "# Spam Detection with Recurrent Neural Network Model"
   ]
  },
  {
   "cell_type": "markdown",
   "id": "f1e8b150",
   "metadata": {},
   "source": [
    "This problem is about classifying emails into spam or normal (or non-spam). There are 57 predictors (the first 57 columns) and the response variable (58th column) is binary denoting whether the e-mail was considered spam (1) or not (0). All predictors are quantitative and majority of them (48 out of 57) give the percentages of words in the email that match a specific key word such as “internet”, “address” or “business\n",
    "\n",
    "**The goal is to classify an email as spam or non-spam.**"
   ]
  },
  {
   "cell_type": "markdown",
   "id": "bd051ec8",
   "metadata": {},
   "source": [
    "## 1. Loading required libraries"
   ]
  },
  {
   "cell_type": "code",
   "execution_count": 1,
   "id": "9ebc85e7",
   "metadata": {},
   "outputs": [],
   "source": [
    "import pandas as pd\n",
    "import numpy as np\n",
    "import matplotlib.pyplot as plt\n",
    "import seaborn as sns\n",
    "import math\n",
    "from sklearn.model_selection import train_test_split\n",
    "from tensorflow.keras.models import Sequential\n",
    "from tensorflow.keras.layers import Dense, LSTM, Embedding\n",
    "    "
   ]
  },
  {
   "cell_type": "markdown",
   "id": "11c17c6b",
   "metadata": {},
   "source": [
    "## 2. Data Importation"
   ]
  },
  {
   "cell_type": "code",
   "execution_count": 2,
   "id": "edef1b43",
   "metadata": {},
   "outputs": [],
   "source": [
    "data = pd.read_csv('spamTrain.csv')"
   ]
  },
  {
   "cell_type": "code",
   "execution_count": 3,
   "id": "a480ac7e",
   "metadata": {},
   "outputs": [],
   "source": [
    "data.V58 = pd.Categorical(data.V58)"
   ]
  },
  {
   "cell_type": "code",
   "execution_count": 4,
   "id": "2462302d",
   "metadata": {},
   "outputs": [
    {
     "data": {
      "text/html": [
       "<div>\n",
       "<style scoped>\n",
       "    .dataframe tbody tr th:only-of-type {\n",
       "        vertical-align: middle;\n",
       "    }\n",
       "\n",
       "    .dataframe tbody tr th {\n",
       "        vertical-align: top;\n",
       "    }\n",
       "\n",
       "    .dataframe thead th {\n",
       "        text-align: right;\n",
       "    }\n",
       "</style>\n",
       "<table border=\"1\" class=\"dataframe\">\n",
       "  <thead>\n",
       "    <tr style=\"text-align: right;\">\n",
       "      <th></th>\n",
       "      <th>V1</th>\n",
       "      <th>V2</th>\n",
       "      <th>V3</th>\n",
       "      <th>V4</th>\n",
       "      <th>V5</th>\n",
       "      <th>V6</th>\n",
       "      <th>V7</th>\n",
       "      <th>V8</th>\n",
       "      <th>V9</th>\n",
       "      <th>V10</th>\n",
       "      <th>...</th>\n",
       "      <th>V49</th>\n",
       "      <th>V50</th>\n",
       "      <th>V51</th>\n",
       "      <th>V52</th>\n",
       "      <th>V53</th>\n",
       "      <th>V54</th>\n",
       "      <th>V55</th>\n",
       "      <th>V56</th>\n",
       "      <th>V57</th>\n",
       "      <th>V58</th>\n",
       "    </tr>\n",
       "  </thead>\n",
       "  <tbody>\n",
       "    <tr>\n",
       "      <th>0</th>\n",
       "      <td>0.21</td>\n",
       "      <td>0.28</td>\n",
       "      <td>0.50</td>\n",
       "      <td>0.0</td>\n",
       "      <td>0.14</td>\n",
       "      <td>0.28</td>\n",
       "      <td>0.21</td>\n",
       "      <td>0.07</td>\n",
       "      <td>0.00</td>\n",
       "      <td>0.94</td>\n",
       "      <td>...</td>\n",
       "      <td>0.00</td>\n",
       "      <td>0.132</td>\n",
       "      <td>0.0</td>\n",
       "      <td>0.372</td>\n",
       "      <td>0.180</td>\n",
       "      <td>0.048</td>\n",
       "      <td>5.114</td>\n",
       "      <td>101</td>\n",
       "      <td>1028</td>\n",
       "      <td>1</td>\n",
       "    </tr>\n",
       "    <tr>\n",
       "      <th>1</th>\n",
       "      <td>0.06</td>\n",
       "      <td>0.00</td>\n",
       "      <td>0.71</td>\n",
       "      <td>0.0</td>\n",
       "      <td>1.23</td>\n",
       "      <td>0.19</td>\n",
       "      <td>0.19</td>\n",
       "      <td>0.12</td>\n",
       "      <td>0.64</td>\n",
       "      <td>0.25</td>\n",
       "      <td>...</td>\n",
       "      <td>0.01</td>\n",
       "      <td>0.143</td>\n",
       "      <td>0.0</td>\n",
       "      <td>0.276</td>\n",
       "      <td>0.184</td>\n",
       "      <td>0.010</td>\n",
       "      <td>9.821</td>\n",
       "      <td>485</td>\n",
       "      <td>2259</td>\n",
       "      <td>1</td>\n",
       "    </tr>\n",
       "    <tr>\n",
       "      <th>2</th>\n",
       "      <td>0.00</td>\n",
       "      <td>0.00</td>\n",
       "      <td>0.00</td>\n",
       "      <td>0.0</td>\n",
       "      <td>0.63</td>\n",
       "      <td>0.00</td>\n",
       "      <td>0.31</td>\n",
       "      <td>0.63</td>\n",
       "      <td>0.31</td>\n",
       "      <td>0.63</td>\n",
       "      <td>...</td>\n",
       "      <td>0.00</td>\n",
       "      <td>0.135</td>\n",
       "      <td>0.0</td>\n",
       "      <td>0.135</td>\n",
       "      <td>0.000</td>\n",
       "      <td>0.000</td>\n",
       "      <td>3.537</td>\n",
       "      <td>40</td>\n",
       "      <td>191</td>\n",
       "      <td>1</td>\n",
       "    </tr>\n",
       "    <tr>\n",
       "      <th>3</th>\n",
       "      <td>0.00</td>\n",
       "      <td>0.00</td>\n",
       "      <td>0.00</td>\n",
       "      <td>0.0</td>\n",
       "      <td>1.85</td>\n",
       "      <td>0.00</td>\n",
       "      <td>0.00</td>\n",
       "      <td>1.85</td>\n",
       "      <td>0.00</td>\n",
       "      <td>0.00</td>\n",
       "      <td>...</td>\n",
       "      <td>0.00</td>\n",
       "      <td>0.223</td>\n",
       "      <td>0.0</td>\n",
       "      <td>0.000</td>\n",
       "      <td>0.000</td>\n",
       "      <td>0.000</td>\n",
       "      <td>3.000</td>\n",
       "      <td>15</td>\n",
       "      <td>54</td>\n",
       "      <td>1</td>\n",
       "    </tr>\n",
       "    <tr>\n",
       "      <th>4</th>\n",
       "      <td>0.00</td>\n",
       "      <td>0.00</td>\n",
       "      <td>0.00</td>\n",
       "      <td>0.0</td>\n",
       "      <td>1.88</td>\n",
       "      <td>0.00</td>\n",
       "      <td>0.00</td>\n",
       "      <td>1.88</td>\n",
       "      <td>0.00</td>\n",
       "      <td>0.00</td>\n",
       "      <td>...</td>\n",
       "      <td>0.00</td>\n",
       "      <td>0.206</td>\n",
       "      <td>0.0</td>\n",
       "      <td>0.000</td>\n",
       "      <td>0.000</td>\n",
       "      <td>0.000</td>\n",
       "      <td>2.450</td>\n",
       "      <td>11</td>\n",
       "      <td>49</td>\n",
       "      <td>1</td>\n",
       "    </tr>\n",
       "  </tbody>\n",
       "</table>\n",
       "<p>5 rows × 58 columns</p>\n",
       "</div>"
      ],
      "text/plain": [
       "     V1    V2    V3   V4    V5    V6    V7    V8    V9   V10  ...   V49  \\\n",
       "0  0.21  0.28  0.50  0.0  0.14  0.28  0.21  0.07  0.00  0.94  ...  0.00   \n",
       "1  0.06  0.00  0.71  0.0  1.23  0.19  0.19  0.12  0.64  0.25  ...  0.01   \n",
       "2  0.00  0.00  0.00  0.0  0.63  0.00  0.31  0.63  0.31  0.63  ...  0.00   \n",
       "3  0.00  0.00  0.00  0.0  1.85  0.00  0.00  1.85  0.00  0.00  ...  0.00   \n",
       "4  0.00  0.00  0.00  0.0  1.88  0.00  0.00  1.88  0.00  0.00  ...  0.00   \n",
       "\n",
       "     V50  V51    V52    V53    V54    V55  V56   V57  V58  \n",
       "0  0.132  0.0  0.372  0.180  0.048  5.114  101  1028    1  \n",
       "1  0.143  0.0  0.276  0.184  0.010  9.821  485  2259    1  \n",
       "2  0.135  0.0  0.135  0.000  0.000  3.537   40   191    1  \n",
       "3  0.223  0.0  0.000  0.000  0.000  3.000   15    54    1  \n",
       "4  0.206  0.0  0.000  0.000  0.000  2.450   11    49    1  \n",
       "\n",
       "[5 rows x 58 columns]"
      ]
     },
     "execution_count": 4,
     "metadata": {},
     "output_type": "execute_result"
    }
   ],
   "source": [
    "data.head()"
   ]
  },
  {
   "cell_type": "code",
   "execution_count": 5,
   "id": "27052eea",
   "metadata": {},
   "outputs": [
    {
     "data": {
      "text/plain": [
       "(3068, 58)"
      ]
     },
     "execution_count": 5,
     "metadata": {},
     "output_type": "execute_result"
    }
   ],
   "source": [
    "data.shape"
   ]
  },
  {
   "cell_type": "markdown",
   "id": "9df7bd64",
   "metadata": {},
   "source": [
    "## 3. Data Exploration"
   ]
  },
  {
   "cell_type": "markdown",
   "id": "56ed79f1",
   "metadata": {},
   "source": [
    "### 3.1 Descriptive statistics"
   ]
  },
  {
   "cell_type": "code",
   "execution_count": 6,
   "id": "73dcf351",
   "metadata": {},
   "outputs": [
    {
     "data": {
      "text/html": [
       "<div>\n",
       "<style scoped>\n",
       "    .dataframe tbody tr th:only-of-type {\n",
       "        vertical-align: middle;\n",
       "    }\n",
       "\n",
       "    .dataframe tbody tr th {\n",
       "        vertical-align: top;\n",
       "    }\n",
       "\n",
       "    .dataframe thead th {\n",
       "        text-align: right;\n",
       "    }\n",
       "</style>\n",
       "<table border=\"1\" class=\"dataframe\">\n",
       "  <thead>\n",
       "    <tr style=\"text-align: right;\">\n",
       "      <th></th>\n",
       "      <th>V1</th>\n",
       "      <th>V2</th>\n",
       "      <th>V3</th>\n",
       "      <th>V4</th>\n",
       "      <th>...</th>\n",
       "      <th>V54</th>\n",
       "      <th>V55</th>\n",
       "      <th>V56</th>\n",
       "      <th>V57</th>\n",
       "    </tr>\n",
       "  </thead>\n",
       "  <tbody>\n",
       "    <tr>\n",
       "      <th>count</th>\n",
       "      <td>3068.000</td>\n",
       "      <td>3068.000</td>\n",
       "      <td>3068.000</td>\n",
       "      <td>3068.000</td>\n",
       "      <td>...</td>\n",
       "      <td>3068.000</td>\n",
       "      <td>3068.000</td>\n",
       "      <td>3068.000</td>\n",
       "      <td>3068.000</td>\n",
       "    </tr>\n",
       "    <tr>\n",
       "      <th>mean</th>\n",
       "      <td>0.105</td>\n",
       "      <td>0.193</td>\n",
       "      <td>0.280</td>\n",
       "      <td>0.066</td>\n",
       "      <td>...</td>\n",
       "      <td>0.041</td>\n",
       "      <td>5.005</td>\n",
       "      <td>52.551</td>\n",
       "      <td>290.912</td>\n",
       "    </tr>\n",
       "    <tr>\n",
       "      <th>std</th>\n",
       "      <td>0.305</td>\n",
       "      <td>1.217</td>\n",
       "      <td>0.509</td>\n",
       "      <td>1.446</td>\n",
       "      <td>...</td>\n",
       "      <td>0.286</td>\n",
       "      <td>28.883</td>\n",
       "      <td>218.982</td>\n",
       "      <td>664.419</td>\n",
       "    </tr>\n",
       "    <tr>\n",
       "      <th>min</th>\n",
       "      <td>0.000</td>\n",
       "      <td>0.000</td>\n",
       "      <td>0.000</td>\n",
       "      <td>0.000</td>\n",
       "      <td>...</td>\n",
       "      <td>0.000</td>\n",
       "      <td>1.000</td>\n",
       "      <td>1.000</td>\n",
       "      <td>1.000</td>\n",
       "    </tr>\n",
       "    <tr>\n",
       "      <th>25%</th>\n",
       "      <td>0.000</td>\n",
       "      <td>0.000</td>\n",
       "      <td>0.000</td>\n",
       "      <td>0.000</td>\n",
       "      <td>...</td>\n",
       "      <td>0.000</td>\n",
       "      <td>1.580</td>\n",
       "      <td>6.000</td>\n",
       "      <td>35.000</td>\n",
       "    </tr>\n",
       "    <tr>\n",
       "      <th>50%</th>\n",
       "      <td>0.000</td>\n",
       "      <td>0.000</td>\n",
       "      <td>0.000</td>\n",
       "      <td>0.000</td>\n",
       "      <td>...</td>\n",
       "      <td>0.000</td>\n",
       "      <td>2.240</td>\n",
       "      <td>14.000</td>\n",
       "      <td>92.000</td>\n",
       "    </tr>\n",
       "    <tr>\n",
       "      <th>75%</th>\n",
       "      <td>0.000</td>\n",
       "      <td>0.000</td>\n",
       "      <td>0.400</td>\n",
       "      <td>0.000</td>\n",
       "      <td>...</td>\n",
       "      <td>0.000</td>\n",
       "      <td>3.631</td>\n",
       "      <td>42.000</td>\n",
       "      <td>261.250</td>\n",
       "    </tr>\n",
       "    <tr>\n",
       "      <th>max</th>\n",
       "      <td>4.340</td>\n",
       "      <td>14.280</td>\n",
       "      <td>5.100</td>\n",
       "      <td>42.730</td>\n",
       "      <td>...</td>\n",
       "      <td>7.407</td>\n",
       "      <td>1021.500</td>\n",
       "      <td>9989.000</td>\n",
       "      <td>15841.000</td>\n",
       "    </tr>\n",
       "  </tbody>\n",
       "</table>\n",
       "<p>8 rows × 57 columns</p>\n",
       "</div>"
      ],
      "text/plain": [
       "             V1        V2        V3        V4  ...       V54       V55  \\\n",
       "count  3068.000  3068.000  3068.000  3068.000  ...  3068.000  3068.000   \n",
       "mean      0.105     0.193     0.280     0.066  ...     0.041     5.005   \n",
       "std       0.305     1.217     0.509     1.446  ...     0.286    28.883   \n",
       "min       0.000     0.000     0.000     0.000  ...     0.000     1.000   \n",
       "25%       0.000     0.000     0.000     0.000  ...     0.000     1.580   \n",
       "50%       0.000     0.000     0.000     0.000  ...     0.000     2.240   \n",
       "75%       0.000     0.000     0.400     0.000  ...     0.000     3.631   \n",
       "max       4.340    14.280     5.100    42.730  ...     7.407  1021.500   \n",
       "\n",
       "            V56        V57  \n",
       "count  3068.000   3068.000  \n",
       "mean     52.551    290.912  \n",
       "std     218.982    664.419  \n",
       "min       1.000      1.000  \n",
       "25%       6.000     35.000  \n",
       "50%      14.000     92.000  \n",
       "75%      42.000    261.250  \n",
       "max    9989.000  15841.000  \n",
       "\n",
       "[8 rows x 57 columns]"
      ]
     },
     "execution_count": 6,
     "metadata": {},
     "output_type": "execute_result"
    }
   ],
   "source": [
    "pd.set_option('display.precision', 3)\n",
    "pd.set_option('display.max_columns', 9)\n",
    "pd.set_option('display.width', None)\n",
    "data.iloc[:,:57].describe()"
   ]
  },
  {
   "cell_type": "markdown",
   "id": "cfb3ad3e",
   "metadata": {},
   "source": [
    "**Summary statistics for response variable**"
   ]
  },
  {
   "cell_type": "code",
   "execution_count": 7,
   "id": "61e2c2d6",
   "metadata": {},
   "outputs": [
    {
     "data": {
      "text/plain": [
       "count     3068\n",
       "unique       2\n",
       "top          0\n",
       "freq      1872\n",
       "Name: V58, dtype: int64"
      ]
     },
     "execution_count": 7,
     "metadata": {},
     "output_type": "execute_result"
    }
   ],
   "source": [
    "data.V58.describe()"
   ]
  },
  {
   "cell_type": "markdown",
   "id": "fd65676f",
   "metadata": {},
   "source": [
    "### 3.2 Distribution of target variable"
   ]
  },
  {
   "cell_type": "markdown",
   "id": "2cd87d41",
   "metadata": {},
   "source": [
    "The bar graph below shows the distribution of the target variable."
   ]
  },
  {
   "cell_type": "code",
   "execution_count": 8,
   "id": "0d7ec0a8",
   "metadata": {},
   "outputs": [],
   "source": [
    "df = [[0, 1872],\n",
    "     [1,1196]]\n",
    "df = pd.DataFrame(df, columns= ['Spam', 'Frequency'])"
   ]
  },
  {
   "cell_type": "code",
   "execution_count": 9,
   "id": "d17c3a6e",
   "metadata": {},
   "outputs": [
    {
     "data": {
      "image/png": "[encoded data removed]",
      "text/plain": [
       "<Figure size 640x480 with 1 Axes>"
      ]
     },
     "metadata": {},
     "output_type": "display_data"
    }
   ],
   "source": [
    "fg = sns.barplot(data=df, x='Spam', y='Frequency')"
   ]
  },
  {
   "cell_type": "markdown",
   "id": "6513eb8f",
   "metadata": {},
   "source": [
    "- The data set imbalanced where 61.4% of the emails are not spam and 38.6% are spam email."
   ]
  },
  {
   "cell_type": "markdown",
   "id": "7982c914",
   "metadata": {},
   "source": [
    "## 4. Data Preparation"
   ]
  },
  {
   "cell_type": "markdown",
   "id": "9dbcf5e7",
   "metadata": {},
   "source": [
    "Each predictor has been transformed using the transformation function; ln(x + 0.1)"
   ]
  },
  {
   "cell_type": "code",
   "execution_count": 10,
   "id": "167f9544",
   "metadata": {},
   "outputs": [],
   "source": [
    "predictors = data.columns[:57]\n",
    "for p in predictors:\n",
    "    data[p] = [math.log(x + 0.1) for x in data[p]]"
   ]
  },
  {
   "cell_type": "markdown",
   "id": "54e19abc",
   "metadata": {},
   "source": [
    "## 5. Splitting the data for training and testing"
   ]
  },
  {
   "cell_type": "code",
   "execution_count": 11,
   "id": "6fc2ba8e",
   "metadata": {},
   "outputs": [],
   "source": [
    "Xtrain, Xtest, ytrain, ytest = train_test_split(data.iloc[:,:57], data.V58, random_state=123, shuffle=True, train_size=0.7, test_size=0.3)"
   ]
  },
  {
   "cell_type": "code",
   "execution_count": 12,
   "id": "4af35975",
   "metadata": {},
   "outputs": [
    {
     "data": {
      "text/plain": [
       "(2147, 57)"
      ]
     },
     "execution_count": 12,
     "metadata": {},
     "output_type": "execute_result"
    }
   ],
   "source": [
    "Xtrain.shape"
   ]
  },
  {
   "cell_type": "code",
   "execution_count": 13,
   "id": "c7892dac",
   "metadata": {},
   "outputs": [
    {
     "data": {
      "text/plain": [
       "(921, 57)"
      ]
     },
     "execution_count": 13,
     "metadata": {},
     "output_type": "execute_result"
    }
   ],
   "source": [
    "Xtest.shape"
   ]
  },
  {
   "cell_type": "markdown",
   "id": "d490bbdb",
   "metadata": {},
   "source": [
    "## 6. Creating the Neural Network"
   ]
  },
  {
   "cell_type": "markdown",
   "id": "ccd1092e",
   "metadata": {},
   "source": [
    "This step involves configuring the Recurrent Nueral Network (RNN). The process is sequential in nature as detailed below."
   ]
  },
  {
   "cell_type": "code",
   "execution_count": 14,
   "id": "1b00c1b0",
   "metadata": {},
   "outputs": [],
   "source": [
    "rnn = Sequential()"
   ]
  },
  {
   "cell_type": "markdown",
   "id": "ef4f1ddf",
   "metadata": {},
   "source": [
    "### 6.1 Adding an Embedding Layer"
   ]
  },
  {
   "cell_type": "markdown",
   "id": "58a100e9",
   "metadata": {},
   "source": [
    "Since the features are originally text sequences, RNN typically begin with an embedding layer that reduces dimensionality by encoding each word in amore compact dense-vector representation."
   ]
  },
  {
   "cell_type": "code",
   "execution_count": 15,
   "id": "f331249b",
   "metadata": {},
   "outputs": [],
   "source": [
    "rnn.add(Embedding(input_dim=10000, output_dim=128))"
   ]
  },
  {
   "cell_type": "markdown",
   "id": "12d9f9cd",
   "metadata": {},
   "source": [
    "### 6.2 Adding an LSTM Layer"
   ]
  },
  {
   "cell_type": "markdown",
   "id": "e7c3cf1d",
   "metadata": {},
   "source": [
    "A Long Short-Term Memory (LSTM) layer, makes the neural network recurrent hence allowing past information to be reinjected at a later time."
   ]
  },
  {
   "cell_type": "code",
   "execution_count": 16,
   "id": "d0273ae3",
   "metadata": {},
   "outputs": [],
   "source": [
    "rnn.add(LSTM(units = 128, dropout = 0.2, recurrent_dropout=0.2))"
   ]
  },
  {
   "cell_type": "markdown",
   "id": "4aea5fb6",
   "metadata": {},
   "source": [
    "### 6.3 Adding a Dense Output Layer "
   ]
  },
  {
   "cell_type": "markdown",
   "id": "2b35b66a",
   "metadata": {},
   "source": [
    "The Dense output layer takes the LSTM's layer's output and convert it into one result indicating whether an email is spam or not spam. Since this is a binary classification, `sigmoid` activation function is preferred."
   ]
  },
  {
   "cell_type": "code",
   "execution_count": 17,
   "id": "4397a673",
   "metadata": {},
   "outputs": [],
   "source": [
    "rnn.add(Dense(units = 1, activation='sigmoid'))"
   ]
  },
  {
   "cell_type": "markdown",
   "id": "d81966a1",
   "metadata": {},
   "source": [
    "### 6.4 Compiling the Model and Displaying the Summary"
   ]
  },
  {
   "cell_type": "markdown",
   "id": "f2ec79b3",
   "metadata": {},
   "source": [
    "Next is model compilation and outputing its summary."
   ]
  },
  {
   "cell_type": "code",
   "execution_count": 18,
   "id": "68617158",
   "metadata": {},
   "outputs": [],
   "source": [
    "rnn.compile(optimizer='adam', loss='binary_crossentropy', \n",
    "            metrics='accuracy')"
   ]
  },
  {
   "cell_type": "markdown",
   "id": "3c87f207",
   "metadata": {},
   "source": [
    "The model's summary is shown below. "
   ]
  },
  {
   "cell_type": "code",
   "execution_count": 19,
   "id": "b61d50a9",
   "metadata": {},
   "outputs": [
    {
     "name": "stdout",
     "output_type": "stream",
     "text": [
      "Model: \"sequential\"\n",
      "_________________________________________________________________\n",
      " Layer (type)                Output Shape              Param #   \n",
      "=================================================================\n",
      " embedding (Embedding)       (None, None, 128)         1280000   \n",
      "                                                                 \n",
      " lstm (LSTM)                 (None, 128)               131584    \n",
      "                                                                 \n",
      " dense (Dense)               (None, 1)                 129       \n",
      "                                                                 \n",
      "=================================================================\n",
      "Total params: 1,411,713\n",
      "Trainable params: 1,411,713\n",
      "Non-trainable params: 0\n",
      "_________________________________________________________________\n"
     ]
    }
   ],
   "source": [
    "rnn.summary()"
   ]
  },
  {
   "cell_type": "markdown",
   "id": "2dc91403",
   "metadata": {},
   "source": [
    "- The model requires 259,713 parameters(weights) to be trained."
   ]
  },
  {
   "cell_type": "markdown",
   "id": "62bc920d",
   "metadata": {},
   "source": [
    "## 7. Model Training"
   ]
  },
  {
   "cell_type": "markdown",
   "id": "9f5cb36a",
   "metadata": {},
   "source": [
    "The model is trained on the training set as shown below."
   ]
  },
  {
   "cell_type": "raw",
   "id": "379ca461",
   "metadata": {},
   "source": [
    " rnn.fit(Xtrain, ytrain, epochs=10, batch_size=32, \n",
    " validation_split =0.1)"
   ]
  },
  {
   "cell_type": "markdown",
   "id": "bf88029f",
   "metadata": {},
   "source": [
    "## 8. Evaluating Model on Test set"
   ]
  },
  {
   "cell_type": "code",
   "execution_count": null,
   "id": "03e7f1ac",
   "metadata": {},
   "outputs": [],
   "source": [
    "rnn.evaluate(Xtest, ytest)"
   ]
  }
 ],
 "metadata": {
  "kernelspec": {
   "display_name": "Python (tf_env)",
   "language": "python",
   "name": "tf_env"
  },
  "language_info": {
   "codemirror_mode": {
    "name": "ipython",
    "version": 3
   },
   "file_extension": ".py",
   "mimetype": "text/x-python",
   "name": "python",
   "nbconvert_exporter": "python",
   "pygments_lexer": "ipython3",
   "version": "3.10.12"
  }
 },
 "nbformat": 4,
 "nbformat_minor": 5
}
